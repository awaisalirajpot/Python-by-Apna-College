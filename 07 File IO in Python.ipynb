{
 "cells": [
  {
   "cell_type": "markdown",
   "id": "68352411-8b26-4377-97b0-afc1dd8ac75f",
   "metadata": {},
   "source": [
    "### File I/O in Python\n",
    "Python can be used to perform operations on a file. (read & write data)\n",
    "\n",
    "#### Types of all Files\n",
    "1. Text files: txt, docs, log etc.\n",
    "2. Binary files: mp4, mov, png, jpg <br>\n",
    "\n",
    "All things stored in the form of 0100101\n",
    "<br>\n",
    "\n",
    "**RAM:** volatile, this is quick, data lost from ram after shutdown <br>\n",
    "**We need to make their files in order to store in the hard drive**\n"
   ]
  },
  {
   "cell_type": "markdown",
   "id": "230622e8-e39c-427d-b300-1fcfbc8c413d",
   "metadata": {},
   "source": [
    "### Open, read & close file\n",
    "**We have to open a file before reading or writing.** <br>\n",
    "f = **open**(\"file_name\", \"mode\") <br>\n",
    "mode like r: read mode, w: write mode <br>\n",
    "data = f.**read**() <br>\n",
    "f.**close()**"
   ]
  },
  {
   "cell_type": "code",
   "execution_count": 3,
   "id": "ee670b8f-e85d-473b-a56c-ff0a65765016",
   "metadata": {},
   "outputs": [],
   "source": [
    "f = open(\"E:\\\\My name is Awais Ali.txt\", \"r\")"
   ]
  },
  {
   "cell_type": "code",
   "execution_count": 12,
   "id": "b5d3e13c-54f3-4e16-ad99-819e8712ac11",
   "metadata": {},
   "outputs": [
    {
     "data": {
      "text/plain": [
       "''"
      ]
     },
     "execution_count": 12,
     "metadata": {},
     "output_type": "execute_result"
    }
   ],
   "source": [
    "f.read()"
   ]
  },
  {
   "cell_type": "code",
   "execution_count": 18,
   "id": "1a404baa-297b-4485-83b2-3b284bc19490",
   "metadata": {},
   "outputs": [],
   "source": [
    "file = open(\"E:\\\\text_demo.txt\", \"r\")"
   ]
  },
  {
   "cell_type": "code",
   "execution_count": 20,
   "id": "aeea4624-2d04-4c1a-8fcc-d77ad4806667",
   "metadata": {},
   "outputs": [
    {
     "data": {
      "text/plain": [
       "'My name is Awais Al \\t\\tI m student\\n\\n\\nMy working hours are in the evening\\nI work so hard to get there.'"
      ]
     },
     "execution_count": 20,
     "metadata": {},
     "output_type": "execute_result"
    }
   ],
   "source": [
    "file.read()"
   ]
  },
  {
   "cell_type": "code",
   "execution_count": 21,
   "id": "de5ec293-d741-4cc0-a9e2-190e494c118f",
   "metadata": {},
   "outputs": [],
   "source": [
    "data = file.read()"
   ]
  },
  {
   "cell_type": "code",
   "execution_count": 22,
   "id": "5d4404b9-257e-4868-8121-cf055952216d",
   "metadata": {},
   "outputs": [
    {
     "name": "stdout",
     "output_type": "stream",
     "text": [
      "\n"
     ]
    }
   ],
   "source": [
    "print(data)"
   ]
  },
  {
   "cell_type": "code",
   "execution_count": 23,
   "id": "6aaa9266-4e13-4771-a0bb-49c7b19b6c5a",
   "metadata": {},
   "outputs": [
    {
     "data": {
      "text/plain": [
       "''"
      ]
     },
     "execution_count": 23,
     "metadata": {},
     "output_type": "execute_result"
    }
   ],
   "source": [
    "file.read()"
   ]
  },
  {
   "cell_type": "code",
   "execution_count": 25,
   "id": "3bfd9f7b-704f-499d-ab24-4d8fe22534cc",
   "metadata": {},
   "outputs": [],
   "source": [
    "file_demo = open(\"E:\\\\text_demo.txt\", \"r\")"
   ]
  },
  {
   "cell_type": "code",
   "execution_count": 26,
   "id": "ce3c4203-c2ec-47c2-8ef8-28be318c8635",
   "metadata": {},
   "outputs": [
    {
     "data": {
      "text/plain": [
       "'My name is Awais Al \\t\\tI m student\\n\\n\\nMy working hours are in the evening\\nI work so hard to get there.'"
      ]
     },
     "execution_count": 26,
     "metadata": {},
     "output_type": "execute_result"
    }
   ],
   "source": [
    "file_demo.read()"
   ]
  },
  {
   "cell_type": "code",
   "execution_count": 27,
   "id": "5f92d2f9-75bc-48b7-a27c-409ef2d86d64",
   "metadata": {},
   "outputs": [],
   "source": [
    "#its very important to close the file once you done with it\n",
    "file_demo.close()"
   ]
  },
  {
   "cell_type": "code",
   "execution_count": 29,
   "id": "ef6cd826-562b-4045-8c66-1776e2ea6667",
   "metadata": {},
   "outputs": [],
   "source": [
    "titanic = open(\"E:\\\\titanic3.xls\", \"r\")"
   ]
  },
  {
   "cell_type": "code",
   "execution_count": 30,
   "id": "1baf6483-7813-45b0-9965-b165b42c06a2",
   "metadata": {},
   "outputs": [
    {
     "name": "stdout",
     "output_type": "stream",
     "text": [
      "<_io.TextIOWrapper name='E:\\\\titanic3.xls' mode='r' encoding='cp1252'>\n"
     ]
    }
   ],
   "source": [
    "print(titanic)"
   ]
  },
  {
   "cell_type": "code",
   "execution_count": 32,
   "id": "5a31618f-c678-481f-a752-f60e6afeceb2",
   "metadata": {},
   "outputs": [],
   "source": [
    "d = titanic.read()"
   ]
  },
  {
   "cell_type": "code",
   "execution_count": 33,
   "id": "29e26e84-32cf-4afa-a748-95cd9489756e",
   "metadata": {},
   "outputs": [
    {
     "name": "stdout",
     "output_type": "stream",
     "text": [
      "\n"
     ]
    }
   ],
   "source": [
    "print(d)"
   ]
  },
  {
   "cell_type": "code",
   "execution_count": 34,
   "id": "65320111-54de-43a6-8d64-0173027be6a9",
   "metadata": {},
   "outputs": [
    {
     "data": {
      "text/plain": [
       "''"
      ]
     },
     "execution_count": 34,
     "metadata": {},
     "output_type": "execute_result"
    }
   ],
   "source": [
    "d"
   ]
  },
  {
   "cell_type": "markdown",
   "id": "8dec0e4f-11bf-4dab-a600-8dc2c6941390",
   "metadata": {},
   "source": [
    "| Character | Meaning |\n",
    "| --- | ------- |\n",
    "| 'r' | open for reading |\n",
    "| 'w' | open for writing |\n",
    "| 'x' | create and open for writing |\n",
    "| 'a' | open for writing, appending to the end of the file fi it exists |\n",
    "| 'b' | binary mode | \n",
    "| 't' | text mode (default) |\n",
    "| '+' | open a disk file for updating (reading and writing) |\n",
    "\n",
    "we can combine modes like 'rt', 'a+': read write and append"
   ]
  },
  {
   "cell_type": "code",
   "execution_count": 36,
   "id": "030d7af3-8429-4513-98ca-52b84a309116",
   "metadata": {},
   "outputs": [],
   "source": [
    "f = open(\"E:\\\\titanic3.xls\", 'w')"
   ]
  },
  {
   "cell_type": "code",
   "execution_count": 43,
   "id": "01cb1889-d794-4bd7-a8ab-7379f52cf7de",
   "metadata": {},
   "outputs": [
    {
     "data": {
      "text/plain": [
       "'My name is Awais Ali'"
      ]
     },
     "execution_count": 43,
     "metadata": {},
     "output_type": "execute_result"
    }
   ],
   "source": [
    "f2 = open(\"E:\\\\My name is Awais Ali.txt\", 'r')\n",
    "f2.read()"
   ]
  },
  {
   "cell_type": "code",
   "execution_count": 44,
   "id": "c083cb51-be34-432a-b406-11c757b54410",
   "metadata": {},
   "outputs": [
    {
     "data": {
      "text/plain": [
       "''"
      ]
     },
     "execution_count": 44,
     "metadata": {},
     "output_type": "execute_result"
    }
   ],
   "source": [
    "f2.read()"
   ]
  },
  {
   "cell_type": "code",
   "execution_count": 45,
   "id": "efadd88d-c38d-4d80-8c3b-613d6241a418",
   "metadata": {},
   "outputs": [],
   "source": [
    "f2.close()"
   ]
  },
  {
   "cell_type": "code",
   "execution_count": 46,
   "id": "7280b815-3e4f-49c8-aa1a-b70f4b1666ce",
   "metadata": {},
   "outputs": [
    {
     "data": {
      "text/plain": [
       "'My name'"
      ]
     },
     "execution_count": 46,
     "metadata": {},
     "output_type": "execute_result"
    }
   ],
   "source": [
    "f2 = open(\"E:\\\\My name is Awais Ali.txt\", 'r')\n",
    "f2.read(7)"
   ]
  },
  {
   "cell_type": "code",
   "execution_count": 47,
   "id": "07e1d8ec-b1a0-475f-b03f-4e56d5a8215e",
   "metadata": {},
   "outputs": [
    {
     "data": {
      "text/plain": [
       "' is Awais Ali'"
      ]
     },
     "execution_count": 47,
     "metadata": {},
     "output_type": "execute_result"
    }
   ],
   "source": [
    "f2.read()"
   ]
  },
  {
   "cell_type": "code",
   "execution_count": 51,
   "id": "f0d335f0-285d-42aa-b37f-34c7402a7183",
   "metadata": {},
   "outputs": [
    {
     "data": {
      "text/plain": [
       "''"
      ]
     },
     "execution_count": 51,
     "metadata": {},
     "output_type": "execute_result"
    }
   ],
   "source": [
    "f2.readline()"
   ]
  },
  {
   "cell_type": "code",
   "execution_count": 52,
   "id": "61942d38-62e4-4411-b940-106df159f0b0",
   "metadata": {},
   "outputs": [
    {
     "data": {
      "text/plain": [
       "'My name is Awais Ali'"
      ]
     },
     "execution_count": 52,
     "metadata": {},
     "output_type": "execute_result"
    }
   ],
   "source": [
    "f2 = open(\"E:\\\\My name is Awais Ali.txt\", 'r')\n",
    "f2.readline()"
   ]
  },
  {
   "cell_type": "code",
   "execution_count": 53,
   "id": "7fbe01b4-9886-421f-bc5c-42f9801a8467",
   "metadata": {},
   "outputs": [
    {
     "data": {
      "text/plain": [
       "''"
      ]
     },
     "execution_count": 53,
     "metadata": {},
     "output_type": "execute_result"
    }
   ],
   "source": [
    "f2.readline()"
   ]
  },
  {
   "cell_type": "code",
   "execution_count": 55,
   "id": "539e3c3b-50dc-425d-9fc5-6fdd57830afe",
   "metadata": {},
   "outputs": [
    {
     "data": {
      "text/plain": [
       "'My'"
      ]
     },
     "execution_count": 55,
     "metadata": {},
     "output_type": "execute_result"
    }
   ],
   "source": [
    "f3 = open(\"E:\\\\text_demo.txt\", 'r')\n",
    "f3.readline(2)"
   ]
  },
  {
   "cell_type": "code",
   "execution_count": 58,
   "id": "3cc245a4-e5c3-458a-ac9d-ec0872f678f9",
   "metadata": {},
   "outputs": [
    {
     "data": {
      "text/plain": [
       "'wais Al \\t\\tI m studen'"
      ]
     },
     "execution_count": 58,
     "metadata": {},
     "output_type": "execute_result"
    }
   ],
   "source": [
    "f3.readline(20)"
   ]
  },
  {
   "cell_type": "code",
   "execution_count": null,
   "id": "5c43955c-711d-44db-962e-c23c8f8c0417",
   "metadata": {},
   "outputs": [],
   "source": [
    "## Once we read whole data it doesn't have anything to read"
   ]
  },
  {
   "cell_type": "markdown",
   "id": "3696b179-c824-41b6-8d6e-a35f8d24da36",
   "metadata": {},
   "source": [
    "### Writing to a file\n",
    "f = open('text.txt', 'w')<br>\n",
    "f.write(\"this is a new line\") #overwrites the entire file\n",
    "<br>\n",
    "f = open('text.txt', 'a') #append mode: adds at the end<br>\n",
    "f.write(\"this is a new\")"
   ]
  },
  {
   "cell_type": "code",
   "execution_count": 60,
   "id": "eb74a2cd-5ab5-4dfc-8594-26119ae88eb0",
   "metadata": {},
   "outputs": [
    {
     "data": {
      "text/plain": [
       "27"
      ]
     },
     "execution_count": 60,
     "metadata": {},
     "output_type": "execute_result"
    }
   ],
   "source": [
    "f = open(\"E:\\\\text_demo.txt\", 'w')\n",
    "f.write(\"This a new line I am adding\")"
   ]
  },
  {
   "cell_type": "code",
   "execution_count": 64,
   "id": "85842551-4bc1-4f44-b864-1407102c43f3",
   "metadata": {},
   "outputs": [],
   "source": [
    "f = open(\"E:\\\\text_demo.txt\", 'a')\n",
    "f.write(\"This is new Line I am adding while doing append method\")\n",
    "f.close()"
   ]
  },
  {
   "cell_type": "code",
   "execution_count": 65,
   "id": "a0551743-abf3-416c-849c-1a932c3904f9",
   "metadata": {},
   "outputs": [
    {
     "data": {
      "text/plain": [
       "'This a new line I am addingThis is new Line I am adding while doing append methodThis is new Line I am adding while doing append method'"
      ]
     },
     "execution_count": 65,
     "metadata": {},
     "output_type": "execute_result"
    }
   ],
   "source": [
    "f = open(\"E:\\\\text_demo.txt\", 'r')\n",
    "f.read()"
   ]
  },
  {
   "cell_type": "code",
   "execution_count": 69,
   "id": "f89c8ebe-4b24-4008-ac8b-9fbe85c6bde5",
   "metadata": {},
   "outputs": [
    {
     "data": {
      "text/plain": [
       "46"
      ]
     },
     "execution_count": 69,
     "metadata": {},
     "output_type": "execute_result"
    }
   ],
   "source": [
    "f = open(\"E:\\\\text_demo.txt\", 'a')\n",
    "f.write(\"Now i am replacing everything in the text demo\")"
   ]
  },
  {
   "cell_type": "code",
   "execution_count": 72,
   "id": "d2f5c1f9-b6f9-4b38-93d4-57e4feb06eb4",
   "metadata": {},
   "outputs": [
    {
     "data": {
      "text/plain": [
       "39"
      ]
     },
     "execution_count": 72,
     "metadata": {},
     "output_type": "execute_result"
    }
   ],
   "source": [
    "f.write(\"\\nThis is the fourth line I am appending\")"
   ]
  },
  {
   "cell_type": "code",
   "execution_count": 74,
   "id": "7c485d0f-b433-470a-a99d-942f2cbe5c8e",
   "metadata": {},
   "outputs": [],
   "source": [
    "f.close() #this is important to do otherwise results won't show"
   ]
  },
  {
   "cell_type": "code",
   "execution_count": 75,
   "id": "eb3aabbb-6c13-422b-ad4e-3183c529b38e",
   "metadata": {},
   "outputs": [],
   "source": [
    "# If the file doesn't exist then it will create automaticly\n",
    "f = open('sample.txt', 'w')\n",
    "f.close()"
   ]
  },
  {
   "cell_type": "code",
   "execution_count": 77,
   "id": "0bed9fab-5f75-4594-aedf-5258ef8ae494",
   "metadata": {},
   "outputs": [],
   "source": [
    "#Even this is creating the file on the given path\n",
    "f = open(\"E:\\\\samplle.txt\", 'w')\n",
    "f.close()"
   ]
  },
  {
   "cell_type": "code",
   "execution_count": 78,
   "id": "08f2325c-2454-4fad-a6dd-32721b32c58d",
   "metadata": {},
   "outputs": [],
   "source": [
    "# Creating a duplicate file\n",
    "f = open(\"E:\\\\samplle.txt\", 'w')\n",
    "f.close()\n",
    "# but this only reading the existing the file."
   ]
  },
  {
   "cell_type": "markdown",
   "id": "75b28d18-f295-46bd-9845-d844468f1ce7",
   "metadata": {},
   "source": [
    "The argument mode points to a string beginning with one of the following\n",
    " sequences (Additional characters may follow these sequences.):\n",
    "\n",
    " ``r''   Open text file for reading.  The stream is positioned at the\n",
    "         beginning of the file.\n",
    "\n",
    " ``r+''  Open for reading and writing.  The stream is positioned at the\n",
    "         beginning of the file.\n",
    "\n",
    " ``w''   Truncate file to zero length or create text file for writing.\n",
    "         The stream is positioned at the beginning of the file.\n",
    "\n",
    " ``w+''  Open for reading and writing.  The file is created if it does not\n",
    "         exist, otherwise it is truncated.  The stream is positioned at\n",
    "         the beginning of the file.\n",
    "\n",
    " ``a''   Open for writing.  The file is created if it does not exist.  The\n",
    "         stream is positioned at the end of the file.  Subsequent writes\n",
    "         to the file will always end up at the then current end of file,\n",
    "         irrespective of any intervening fseek(3) or similar.\n",
    "\n",
    " ``a+''  Open for reading and writing.  The file is created if it does not\n",
    "         exist.  The stream is positioned at the end of the file.  Subse-\n",
    "         quent writes to the file will always end up at the then current\n",
    "         end of file, irrespective of any intervening fseek(3) or similar.\n"
   ]
  },
  {
   "cell_type": "markdown",
   "id": "3a5e819c-4b38-427d-a14c-7214209361b2",
   "metadata": {},
   "source": [
    "![Opening Files](https://d20p74l5mne5au.cloudfront.net/ExWNT-white-bg.png)"
   ]
  },
  {
   "cell_type": "code",
   "execution_count": 81,
   "id": "2961796e-2401-4271-b296-2dc5c58c94b2",
   "metadata": {},
   "outputs": [],
   "source": [
    "f = open('sample.txt', 'r+')\n",
    "f.write(\"I am adding at the begining of the content\")\n",
    "f.close()"
   ]
  },
  {
   "cell_type": "code",
   "execution_count": 82,
   "id": "e4d470e7-0fce-4b54-bd1b-46cba23465fd",
   "metadata": {},
   "outputs": [],
   "source": [
    "f = open('sample.txt', 'r+')\n",
    "f.write(\"I am adding at the begining of the content\")\n",
    "f.close()"
   ]
  },
  {
   "cell_type": "code",
   "execution_count": 85,
   "id": "419f5573-3ea3-4a4f-933b-0646ed932161",
   "metadata": {},
   "outputs": [
    {
     "data": {
      "text/plain": [
       "48"
      ]
     },
     "execution_count": 85,
     "metadata": {},
     "output_type": "execute_result"
    }
   ],
   "source": [
    "f = open('sample.txt', 'r+')\n",
    "f.write(\"I efdfs am adding at the begining of the content\")\n"
   ]
  },
  {
   "cell_type": "code",
   "execution_count": 86,
   "id": "0b6d9df9-86dc-42d3-a0e4-75fdd030ea24",
   "metadata": {},
   "outputs": [
    {
     "data": {
      "text/plain": [
       "''"
      ]
     },
     "execution_count": 86,
     "metadata": {},
     "output_type": "execute_result"
    }
   ],
   "source": [
    "f.read()"
   ]
  },
  {
   "cell_type": "markdown",
   "id": "262946a9-9130-41d0-91c9-9e338bd3451d",
   "metadata": {},
   "source": [
    "### with Syntax"
   ]
  },
  {
   "cell_type": "code",
   "execution_count": 90,
   "id": "9bb8117b-6134-401b-aa18-f4e5a5173f63",
   "metadata": {},
   "outputs": [],
   "source": [
    "with open('sample.txt', 'r') as f:\n",
    "    data = f.read()\n",
    "    f.close() #this happens automatically"
   ]
  },
  {
   "cell_type": "code",
   "execution_count": 91,
   "id": "5c0ec9d0-6334-4ffd-8e22-a806c76fe050",
   "metadata": {},
   "outputs": [
    {
     "data": {
      "text/plain": [
       "'I efdfs am adding at the begining of the content'"
      ]
     },
     "execution_count": 91,
     "metadata": {},
     "output_type": "execute_result"
    }
   ],
   "source": [
    "data"
   ]
  },
  {
   "cell_type": "code",
   "execution_count": 92,
   "id": "885fbfa3-1e9f-4c58-a9f2-8399c2740cbf",
   "metadata": {},
   "outputs": [
    {
     "data": {
      "text/plain": [
       "'I efdfs am adding at the begining of the content'"
      ]
     },
     "execution_count": 92,
     "metadata": {},
     "output_type": "execute_result"
    }
   ],
   "source": [
    "data"
   ]
  },
  {
   "cell_type": "code",
   "execution_count": 96,
   "id": "34fccb33-88e4-403a-a70e-51c158c2fecc",
   "metadata": {},
   "outputs": [
    {
     "ename": "UnsupportedOperation",
     "evalue": "not readable",
     "output_type": "error",
     "traceback": [
      "\u001b[1;31m---------------------------------------------------------------------------\u001b[0m",
      "\u001b[1;31mUnsupportedOperation\u001b[0m                      Traceback (most recent call last)",
      "Cell \u001b[1;32mIn[96], line 3\u001b[0m\n\u001b[0;32m      1\u001b[0m \u001b[38;5;28;01mwith\u001b[39;00m \u001b[38;5;28mopen\u001b[39m(\u001b[38;5;124m'\u001b[39m\u001b[38;5;124msample.txt\u001b[39m\u001b[38;5;124m'\u001b[39m, \u001b[38;5;124m'\u001b[39m\u001b[38;5;124mw\u001b[39m\u001b[38;5;124m'\u001b[39m) \u001b[38;5;28;01mas\u001b[39;00m f:\n\u001b[0;32m      2\u001b[0m     f\u001b[38;5;241m.\u001b[39mwrite(\u001b[38;5;124m\"\u001b[39m\u001b[38;5;124mHi I am adding new\u001b[39m\u001b[38;5;124m\"\u001b[39m)\n\u001b[1;32m----> 3\u001b[0m     f\u001b[38;5;241m.\u001b[39mread()\n",
      "\u001b[1;31mUnsupportedOperation\u001b[0m: not readable"
     ]
    }
   ],
   "source": [
    "with open('sample.txt', 'w') as f:\n",
    "    f.write(\"Hi I am adding new\")\n",
    "    f.read()"
   ]
  },
  {
   "cell_type": "markdown",
   "id": "50477b3d-7956-4d7f-aac9-3ed1979c525f",
   "metadata": {},
   "source": [
    "### Deleting a file\n",
    "using the os(operating system) library <br>\n",
    "pip: package installer for python to install new libraries from internet like tensorflow"
   ]
  },
  {
   "cell_type": "code",
   "execution_count": 97,
   "id": "23e97523-109c-48cc-bf6a-b2addcd0dbf1",
   "metadata": {},
   "outputs": [],
   "source": [
    "import os\n",
    "os.remove('sample.txt') #this is a function made in os by someone"
   ]
  },
  {
   "cell_type": "markdown",
   "id": "a047525d-2f5d-48fa-9fb9-a6fc28076007",
   "metadata": {},
   "source": [
    "### Practice Questions"
   ]
  },
  {
   "cell_type": "code",
   "execution_count": 99,
   "id": "c68d9a18-4b04-436b-80c3-b7e04c553661",
   "metadata": {},
   "outputs": [],
   "source": [
    "# Create a new file \"practice.txt\" \n",
    "f = open('practice.txt', 'w')\n",
    "f.write(\"Hi everyone \\nwe are learning File IO \\nusing Jave. \\nI like programming in Java\")\n",
    "f.close()"
   ]
  },
  {
   "cell_type": "code",
   "execution_count": 107,
   "id": "9ac2cff7-5c1e-40e9-a9ed-f591a72107ab",
   "metadata": {},
   "outputs": [
    {
     "ename": "AttributeError",
     "evalue": "type object 'list' has no attribute 'search'",
     "output_type": "error",
     "traceback": [
      "\u001b[1;31m---------------------------------------------------------------------------\u001b[0m",
      "\u001b[1;31mAttributeError\u001b[0m                            Traceback (most recent call last)",
      "Cell \u001b[1;32mIn[107], line 2\u001b[0m\n\u001b[0;32m      1\u001b[0m Open \u001b[38;5;241m=\u001b[39m \u001b[38;5;28mlist\u001b[39m[\u001b[38;5;28mopen\u001b[39m(\u001b[38;5;124m'\u001b[39m\u001b[38;5;124mpractice.txt\u001b[39m\u001b[38;5;124m'\u001b[39m, \u001b[38;5;124m'\u001b[39m\u001b[38;5;124mr\u001b[39m\u001b[38;5;124m'\u001b[39m)]\n\u001b[1;32m----> 2\u001b[0m Open\u001b[38;5;241m.\u001b[39msearch(\u001b[38;5;124m'\u001b[39m\u001b[38;5;124mJava\u001b[39m\u001b[38;5;124m'\u001b[39m)\n",
      "\u001b[1;31mAttributeError\u001b[0m: type object 'list' has no attribute 'search'"
     ]
    }
   ],
   "source": [
    "Open = list[open('practice.txt', 'r')]\n",
    "Open.search('Java')\n"
   ]
  },
  {
   "cell_type": "code",
   "execution_count": 112,
   "id": "4e291a53-5a3c-4700-967b-957c83ddbdc5",
   "metadata": {},
   "outputs": [
    {
     "ename": "UnsupportedOperation",
     "evalue": "not readable",
     "output_type": "error",
     "traceback": [
      "\u001b[1;31m---------------------------------------------------------------------------\u001b[0m",
      "\u001b[1;31mUnsupportedOperation\u001b[0m                      Traceback (most recent call last)",
      "Cell \u001b[1;32mIn[112], line 2\u001b[0m\n\u001b[0;32m      1\u001b[0m O \u001b[38;5;241m=\u001b[39m \u001b[38;5;28mopen\u001b[39m(\u001b[38;5;124m'\u001b[39m\u001b[38;5;124mpractice.txt\u001b[39m\u001b[38;5;124m'\u001b[39m, \u001b[38;5;124m'\u001b[39m\u001b[38;5;124ma\u001b[39m\u001b[38;5;124m'\u001b[39m)\n\u001b[1;32m----> 2\u001b[0m \u001b[38;5;28;01mif\u001b[39;00m \u001b[38;5;124m'\u001b[39m\u001b[38;5;124mJave\u001b[39m\u001b[38;5;124m'\u001b[39m \u001b[38;5;129;01min\u001b[39;00m O:\n\u001b[0;32m      3\u001b[0m     \u001b[38;5;28mprint\u001b[39m(\u001b[38;5;124m'\u001b[39m\u001b[38;5;124mTrue\u001b[39m\u001b[38;5;124m'\u001b[39m)\n\u001b[0;32m      4\u001b[0m \u001b[38;5;28;01melse\u001b[39;00m:\n",
      "\u001b[1;31mUnsupportedOperation\u001b[0m: not readable"
     ]
    }
   ],
   "source": [
    "O = open('practice.txt', 'a')\n",
    "if 'Jave' in O:\n",
    "    print('True')\n",
    "else:\n",
    "    print('False')"
   ]
  },
  {
   "cell_type": "code",
   "execution_count": 111,
   "id": "2347c938-afb8-434f-9457-8bec68f1ca2c",
   "metadata": {},
   "outputs": [
    {
     "name": "stdout",
     "output_type": "stream",
     "text": [
      "'sample' found in the string.\n"
     ]
    }
   ],
   "source": [
    "    main_string = \"This is a sample sentence.\"\n",
    "    word_to_find = \"sample\"\n",
    "\n",
    "    if word_to_find in main_string:\n",
    "        print(f\"'{word_to_find}' found in the string.\")\n",
    "    else:\n",
    "        print(f\"'{word_to_find}' not found in the string.\")"
   ]
  },
  {
   "cell_type": "code",
   "execution_count": 113,
   "id": "f8833073-10dc-43cf-8656-854aea24b871",
   "metadata": {},
   "outputs": [
    {
     "data": {
      "text/plain": [
       "'Hi everyone \\nwe are learning File IO \\nusing Jave. \\nI like programming in Java'"
      ]
     },
     "execution_count": 113,
     "metadata": {},
     "output_type": "execute_result"
    }
   ],
   "source": [
    "tt = open('practice.txt', 'r')\n",
    "tt.read()"
   ]
  },
  {
   "cell_type": "code",
   "execution_count": 114,
   "id": "e2b3c4ec-1552-4fdc-b7cd-1138f7510d80",
   "metadata": {},
   "outputs": [
    {
     "data": {
      "text/plain": [
       "''"
      ]
     },
     "execution_count": 114,
     "metadata": {},
     "output_type": "execute_result"
    }
   ],
   "source": [
    "tt.read()"
   ]
  },
  {
   "cell_type": "code",
   "execution_count": 117,
   "id": "faded92e-1dab-498e-a6d0-7e3c83cd580e",
   "metadata": {},
   "outputs": [
    {
     "data": {
      "text/plain": [
       "False"
      ]
     },
     "execution_count": 117,
     "metadata": {},
     "output_type": "execute_result"
    }
   ],
   "source": [
    "tt = open('practice.txt', 'r')\n",
    "word = 'File'\n",
    "'' in tt"
   ]
  },
  {
   "cell_type": "code",
   "execution_count": 1,
   "id": "d74586cb-9a8c-4bbe-b1f5-accd1948b3e8",
   "metadata": {},
   "outputs": [
    {
     "data": {
      "text/plain": [
       "'Hi everyone \\nwe are learning File IO \\nusing Jave. \\nI like programming in Java'"
      ]
     },
     "execution_count": 1,
     "metadata": {},
     "output_type": "execute_result"
    }
   ],
   "source": [
    "file = open('practice.txt', 'r')\n",
    "file.read()"
   ]
  },
  {
   "cell_type": "code",
   "execution_count": 2,
   "id": "98794d1e-269f-471f-9f05-5119de7a7083",
   "metadata": {},
   "outputs": [
    {
     "ename": "NameError",
     "evalue": "name 'f' is not defined",
     "output_type": "error",
     "traceback": [
      "\u001b[1;31m---------------------------------------------------------------------------\u001b[0m",
      "\u001b[1;31mNameError\u001b[0m                                 Traceback (most recent call last)",
      "Cell \u001b[1;32mIn[2], line 2\u001b[0m\n\u001b[0;32m      1\u001b[0m \u001b[38;5;28;01mwith\u001b[39;00m \u001b[38;5;28mopen\u001b[39m(\u001b[38;5;124m'\u001b[39m\u001b[38;5;124mpractice.txt\u001b[39m\u001b[38;5;124m'\u001b[39m, \u001b[38;5;124m'\u001b[39m\u001b[38;5;124ma\u001b[39m\u001b[38;5;124m'\u001b[39m):\n\u001b[1;32m----> 2\u001b[0m     f\u001b[38;5;241m.\u001b[39mwrite(\u001b[38;5;124m\"\u001b[39m\u001b[38;5;124mhi\u001b[39m\u001b[38;5;124m\"\u001b[39m)\n",
      "\u001b[1;31mNameError\u001b[0m: name 'f' is not defined"
     ]
    }
   ],
   "source": [
    "with open('practice.txt', 'a'):\n",
    "    write(\"hi\")"
   ]
  },
  {
   "cell_type": "code",
   "execution_count": 3,
   "id": "97178fcc-17d4-438d-8114-319704ffc450",
   "metadata": {},
   "outputs": [],
   "source": [
    "f = open('practice.txt', 'r')\n",
    "if 'Hi' in f:\n",
    "    print(\"AVailable\")"
   ]
  },
  {
   "cell_type": "code",
   "execution_count": 4,
   "id": "86566419-6914-4b9f-8faf-5c76f0f0db6b",
   "metadata": {},
   "outputs": [
    {
     "ename": "AttributeError",
     "evalue": "'_io.TextIOWrapper' object has no attribute 'replace'",
     "output_type": "error",
     "traceback": [
      "\u001b[1;31m---------------------------------------------------------------------------\u001b[0m",
      "\u001b[1;31mAttributeError\u001b[0m                            Traceback (most recent call last)",
      "Cell \u001b[1;32mIn[4], line 2\u001b[0m\n\u001b[0;32m      1\u001b[0m f \u001b[38;5;241m=\u001b[39m \u001b[38;5;28mopen\u001b[39m(\u001b[38;5;124m'\u001b[39m\u001b[38;5;124mpractice.txt\u001b[39m\u001b[38;5;124m'\u001b[39m, \u001b[38;5;124m'\u001b[39m\u001b[38;5;124mw\u001b[39m\u001b[38;5;124m'\u001b[39m)\n\u001b[1;32m----> 2\u001b[0m f\u001b[38;5;241m.\u001b[39mreplace(\u001b[38;5;124m'\u001b[39m\u001b[38;5;124mJava\u001b[39m\u001b[38;5;124m'\u001b[39m, \u001b[38;5;124m\"\u001b[39m\u001b[38;5;124mPython\u001b[39m\u001b[38;5;124m\"\u001b[39m)\n",
      "\u001b[1;31mAttributeError\u001b[0m: '_io.TextIOWrapper' object has no attribute 'replace'"
     ]
    }
   ],
   "source": [
    "f = open('practice.txt', 'w')\n",
    "f.replace('Java', \"Python\")"
   ]
  },
  {
   "cell_type": "code",
   "execution_count": 5,
   "id": "d17deef7-a7b9-4774-b092-d41f7cd2dfa4",
   "metadata": {},
   "outputs": [
    {
     "ename": "FileNotFoundError",
     "evalue": "[Errno 2] No such file or directory: 'practice'",
     "output_type": "error",
     "traceback": [
      "\u001b[1;31m---------------------------------------------------------------------------\u001b[0m",
      "\u001b[1;31mFileNotFoundError\u001b[0m                         Traceback (most recent call last)",
      "Cell \u001b[1;32mIn[5], line 1\u001b[0m\n\u001b[1;32m----> 1\u001b[0m f \u001b[38;5;241m=\u001b[39m \u001b[38;5;28mopen\u001b[39m(\u001b[38;5;124m'\u001b[39m\u001b[38;5;124mpractice\u001b[39m\u001b[38;5;124m'\u001b[39m, \u001b[38;5;124m'\u001b[39m\u001b[38;5;124mr\u001b[39m\u001b[38;5;124m'\u001b[39m)\n\u001b[0;32m      2\u001b[0m data \u001b[38;5;241m=\u001b[39m f\u001b[38;5;241m.\u001b[39mread()\n\u001b[0;32m      3\u001b[0m data\u001b[38;5;241m.\u001b[39mreplace(\u001b[38;5;124m\"\u001b[39m\u001b[38;5;124mJava\u001b[39m\u001b[38;5;124m\"\u001b[39m, \u001b[38;5;124m\"\u001b[39m\u001b[38;5;124mPython\u001b[39m\u001b[38;5;124m\"\u001b[39m)\n",
      "File \u001b[1;32mE:\\Anaconda Installed\\Lib\\site-packages\\IPython\\core\\interactiveshell.py:324\u001b[0m, in \u001b[0;36m_modified_open\u001b[1;34m(file, *args, **kwargs)\u001b[0m\n\u001b[0;32m    317\u001b[0m \u001b[38;5;28;01mif\u001b[39;00m file \u001b[38;5;129;01min\u001b[39;00m {\u001b[38;5;241m0\u001b[39m, \u001b[38;5;241m1\u001b[39m, \u001b[38;5;241m2\u001b[39m}:\n\u001b[0;32m    318\u001b[0m     \u001b[38;5;28;01mraise\u001b[39;00m \u001b[38;5;167;01mValueError\u001b[39;00m(\n\u001b[0;32m    319\u001b[0m         \u001b[38;5;124mf\u001b[39m\u001b[38;5;124m\"\u001b[39m\u001b[38;5;124mIPython won\u001b[39m\u001b[38;5;124m'\u001b[39m\u001b[38;5;124mt let you open fd=\u001b[39m\u001b[38;5;132;01m{\u001b[39;00mfile\u001b[38;5;132;01m}\u001b[39;00m\u001b[38;5;124m by default \u001b[39m\u001b[38;5;124m\"\u001b[39m\n\u001b[0;32m    320\u001b[0m         \u001b[38;5;124m\"\u001b[39m\u001b[38;5;124mas it is likely to crash IPython. If you know what you are doing, \u001b[39m\u001b[38;5;124m\"\u001b[39m\n\u001b[0;32m    321\u001b[0m         \u001b[38;5;124m\"\u001b[39m\u001b[38;5;124myou can use builtins\u001b[39m\u001b[38;5;124m'\u001b[39m\u001b[38;5;124m open.\u001b[39m\u001b[38;5;124m\"\u001b[39m\n\u001b[0;32m    322\u001b[0m     )\n\u001b[1;32m--> 324\u001b[0m \u001b[38;5;28;01mreturn\u001b[39;00m io_open(file, \u001b[38;5;241m*\u001b[39margs, \u001b[38;5;241m*\u001b[39m\u001b[38;5;241m*\u001b[39mkwargs)\n",
      "\u001b[1;31mFileNotFoundError\u001b[0m: [Errno 2] No such file or directory: 'practice'"
     ]
    }
   ],
   "source": [
    "f = open('practice', 'r')\n",
    "data = f.read()\n",
    "data.replace(\"Java\", \"Python\")"
   ]
  },
  {
   "cell_type": "code",
   "execution_count": 7,
   "id": "6ba6828e-2133-40eb-946a-769929b4f3ca",
   "metadata": {},
   "outputs": [],
   "source": [
    "f = open('sample.txt', 'w')\n",
    "f.write(\"Hi I am practicing Java. n\\My work is to make Java strong. \\nMy purpse is Java.\")\n",
    "f.close()"
   ]
  },
  {
   "cell_type": "code",
   "execution_count": 8,
   "id": "fa9b0188-bf2f-49d3-9e1e-6dc157a3f2f5",
   "metadata": {},
   "outputs": [],
   "source": [
    "f = open('sample1.txt', 'w')\n",
    "f.write(\"Hi I am practicing Java. \\nFrom Apna college Java is going good. \\nIt requires good efforts.\")\n",
    "f.close()"
   ]
  },
  {
   "cell_type": "code",
   "execution_count": 9,
   "id": "9741cf09-a65e-4e79-a589-893034504e4b",
   "metadata": {},
   "outputs": [
    {
     "ename": "UnsupportedOperation",
     "evalue": "not readable",
     "output_type": "error",
     "traceback": [
      "\u001b[1;31m---------------------------------------------------------------------------\u001b[0m",
      "\u001b[1;31mUnsupportedOperation\u001b[0m                      Traceback (most recent call last)",
      "Cell \u001b[1;32mIn[9], line 2\u001b[0m\n\u001b[0;32m      1\u001b[0m f \u001b[38;5;241m=\u001b[39m \u001b[38;5;28mopen\u001b[39m(\u001b[38;5;124m'\u001b[39m\u001b[38;5;124msample.txt\u001b[39m\u001b[38;5;124m'\u001b[39m, \u001b[38;5;124m'\u001b[39m\u001b[38;5;124mw\u001b[39m\u001b[38;5;124m'\u001b[39m)\n\u001b[1;32m----> 2\u001b[0m data \u001b[38;5;241m=\u001b[39m f\u001b[38;5;241m.\u001b[39mread()\n\u001b[0;32m      3\u001b[0m data\u001b[38;5;241m.\u001b[39mreplace(\u001b[38;5;124m'\u001b[39m\u001b[38;5;124mJava\u001b[39m\u001b[38;5;124m'\u001b[39m, \u001b[38;5;124m'\u001b[39m\u001b[38;5;124mPython\u001b[39m\u001b[38;5;124m'\u001b[39m)\n",
      "\u001b[1;31mUnsupportedOperation\u001b[0m: not readable"
     ]
    }
   ],
   "source": [
    "f = open('sample.txt', 'w')\n",
    "data = f.read()\n",
    "data.replace('Java', 'Python')"
   ]
  },
  {
   "cell_type": "code",
   "execution_count": 10,
   "id": "847756bb-15fd-4e1f-8568-22b4d750a9a6",
   "metadata": {},
   "outputs": [
    {
     "ename": "NameError",
     "evalue": "name 'data' is not defined",
     "output_type": "error",
     "traceback": [
      "\u001b[1;31m---------------------------------------------------------------------------\u001b[0m",
      "\u001b[1;31mNameError\u001b[0m                                 Traceback (most recent call last)",
      "Cell \u001b[1;32mIn[10], line 1\u001b[0m\n\u001b[1;32m----> 1\u001b[0m data\n",
      "\u001b[1;31mNameError\u001b[0m: name 'data' is not defined"
     ]
    }
   ],
   "source": [
    "data"
   ]
  },
  {
   "cell_type": "code",
   "execution_count": 11,
   "id": "1e3a6847-a887-4d62-94ac-b6595e110ac3",
   "metadata": {},
   "outputs": [
    {
     "ename": "UnsupportedOperation",
     "evalue": "not readable",
     "output_type": "error",
     "traceback": [
      "\u001b[1;31m---------------------------------------------------------------------------\u001b[0m",
      "\u001b[1;31mUnsupportedOperation\u001b[0m                      Traceback (most recent call last)",
      "Cell \u001b[1;32mIn[11], line 1\u001b[0m\n\u001b[1;32m----> 1\u001b[0m f\u001b[38;5;241m.\u001b[39mread()\n",
      "\u001b[1;31mUnsupportedOperation\u001b[0m: not readable"
     ]
    }
   ],
   "source": [
    "f.read()"
   ]
  },
  {
   "cell_type": "code",
   "execution_count": 12,
   "id": "18d0ef4d-4b8f-4dd5-9278-83a6fd8842d9",
   "metadata": {},
   "outputs": [
    {
     "data": {
      "text/plain": [
       "'Hi I am practicing Java. \\nFrom Apna college Java is going good. \\nIt requires good efforts.'"
      ]
     },
     "execution_count": 12,
     "metadata": {},
     "output_type": "execute_result"
    }
   ],
   "source": [
    "f = open('sample1.txt', 'r')\n",
    "f.read()"
   ]
  },
  {
   "cell_type": "code",
   "execution_count": 13,
   "id": "294017b7-6253-405e-991f-ecf9177d2de7",
   "metadata": {},
   "outputs": [
    {
     "data": {
      "text/plain": [
       "''"
      ]
     },
     "execution_count": 13,
     "metadata": {},
     "output_type": "execute_result"
    }
   ],
   "source": [
    "f.read()"
   ]
  },
  {
   "cell_type": "code",
   "execution_count": 14,
   "id": "b4d426cf-4586-4f5e-b852-b2c6fb58df0a",
   "metadata": {},
   "outputs": [
    {
     "ename": "AttributeError",
     "evalue": "'_io.TextIOWrapper' object has no attribute 'replace'",
     "output_type": "error",
     "traceback": [
      "\u001b[1;31m---------------------------------------------------------------------------\u001b[0m",
      "\u001b[1;31mAttributeError\u001b[0m                            Traceback (most recent call last)",
      "Cell \u001b[1;32mIn[14], line 2\u001b[0m\n\u001b[0;32m      1\u001b[0m f \u001b[38;5;241m=\u001b[39m \u001b[38;5;28mopen\u001b[39m(\u001b[38;5;124m'\u001b[39m\u001b[38;5;124msample1.txt\u001b[39m\u001b[38;5;124m'\u001b[39m, \u001b[38;5;124m'\u001b[39m\u001b[38;5;124mw\u001b[39m\u001b[38;5;124m'\u001b[39m)\n\u001b[1;32m----> 2\u001b[0m f\u001b[38;5;241m.\u001b[39mreplace(\u001b[38;5;124m'\u001b[39m\u001b[38;5;124mJava\u001b[39m\u001b[38;5;124m'\u001b[39m, \u001b[38;5;124m'\u001b[39m\u001b[38;5;124mPython\u001b[39m\u001b[38;5;124m'\u001b[39m)\n",
      "\u001b[1;31mAttributeError\u001b[0m: '_io.TextIOWrapper' object has no attribute 'replace'"
     ]
    }
   ],
   "source": [
    "f = open('sample1.txt', 'w')\n",
    "f.replace('Java', 'Python')"
   ]
  },
  {
   "cell_type": "code",
   "execution_count": 15,
   "id": "d40b923c-a54f-4d44-be43-7ac264c727ab",
   "metadata": {},
   "outputs": [
    {
     "name": "stdout",
     "output_type": "stream",
     "text": [
      "\n"
     ]
    }
   ],
   "source": [
    "F = open('sample1.txt', 'r')\n",
    "D = F.read()\n",
    "new_data = D.replace('Java', 'Python')\n",
    "print(new_data)"
   ]
  },
  {
   "cell_type": "code",
   "execution_count": 16,
   "id": "a151e250-883d-4bdb-9647-201732d71a88",
   "metadata": {},
   "outputs": [
    {
     "data": {
      "text/plain": [
       "''"
      ]
     },
     "execution_count": 16,
     "metadata": {},
     "output_type": "execute_result"
    }
   ],
   "source": [
    "new_data"
   ]
  },
  {
   "cell_type": "code",
   "execution_count": 18,
   "id": "a45458c0-4fab-4959-be14-bb37e0e8036e",
   "metadata": {},
   "outputs": [],
   "source": [
    "with open('sample1.txt', 'r') as f:\n",
    "    f.read()"
   ]
  },
  {
   "cell_type": "code",
   "execution_count": 19,
   "id": "5ec8cfd7-47e3-43c2-a23d-f23cbeb1ac88",
   "metadata": {},
   "outputs": [],
   "source": [
    "with open('sample1.txt', 'r') as f:\n",
    "    f.read()"
   ]
  },
  {
   "cell_type": "code",
   "execution_count": 20,
   "id": "bfdeeb00-d492-4c54-a41c-069817d7704c",
   "metadata": {},
   "outputs": [
    {
     "name": "stdout",
     "output_type": "stream",
     "text": [
      "File created and content written successfully.\n",
      "All occurrences of 'Python' have been replaced with 'Java'.\n"
     ]
    }
   ],
   "source": [
    "# Program to create a text file and replace a word in it\n",
    "\n",
    "# Step 1: Create and write to a text file\n",
    "filename = \"example.txt\"\n",
    "\n",
    "with open(filename, \"w\") as file:\n",
    "    file.write(\"Hello world! Python is amazing.\\n\")\n",
    "    file.write(\"I love learning Python every day.\\n\")\n",
    "\n",
    "print(\"File created and content written successfully.\")\n",
    "\n",
    "# Step 2: Read the file and replace a word\n",
    "old_word = \"Python\"\n",
    "new_word = \"Java\"\n",
    "\n",
    "# Read the file content\n",
    "with open(filename, \"r\") as file:\n",
    "    content = file.read()\n",
    "\n",
    "# Replace the word\n",
    "content = content.replace(old_word, new_word)\n",
    "\n",
    "# Step 3: Write the modified content back to the file\n",
    "with open(filename, \"w\") as file:\n",
    "    file.write(content)\n",
    "\n",
    "print(f\"All occurrences of '{old_word}' have been replaced with '{new_word}'.\")\n"
   ]
  },
  {
   "cell_type": "code",
   "execution_count": 21,
   "id": "560d1405-135f-446a-a0e4-503ed82b6672",
   "metadata": {},
   "outputs": [],
   "source": [
    "f.close()"
   ]
  },
  {
   "cell_type": "code",
   "execution_count": 22,
   "id": "8c9bea77-d8e5-49fb-b59a-c1fba943609c",
   "metadata": {},
   "outputs": [],
   "source": [
    "file.close()"
   ]
  },
  {
   "cell_type": "code",
   "execution_count": null,
   "id": "c26bb3b0-5d2c-455d-9183-bee287457276",
   "metadata": {},
   "outputs": [],
   "source": [
    "with open('file.txt', 'r') as f:\n",
    "    data = f.read()\n",
    "    if (da)"
   ]
  },
  {
   "cell_type": "code",
   "execution_count": 23,
   "id": "f8dd46c0-7e9a-46da-bcc8-cbd0ee691541",
   "metadata": {},
   "outputs": [
    {
     "ename": "SyntaxError",
     "evalue": "unterminated string literal (detected at line 2) (1528385146.py, line 2)",
     "output_type": "error",
     "traceback": [
      "\u001b[1;36m  Cell \u001b[1;32mIn[23], line 2\u001b[1;36m\u001b[0m\n\u001b[1;33m    B.write('Hi I am learning Java. This is tought by Shrada Java. \\nShe is good in Java. \\nHer knowledge in Java is superb\" )\u001b[0m\n\u001b[1;37m            ^\u001b[0m\n\u001b[1;31mSyntaxError\u001b[0m\u001b[1;31m:\u001b[0m unterminated string literal (detected at line 2)\n"
     ]
    }
   ],
   "source": [
    "open with ('new_sample.txt', 'w') as B:\n",
    "    B.write('Hi I am learning Java. This is tought by Shrada Java. \\nShe is good in Java. \\nHer knowledge in Java is superb\" )"
   ]
  },
  {
   "cell_type": "code",
   "execution_count": 25,
   "id": "57d2fb77-ecec-4c2c-9a21-f76674cee9ba",
   "metadata": {},
   "outputs": [],
   "source": [
    "with open ('T.txt', 'w') as t:\n",
    "    t.write('Hi I am learning Java. \\nJava Specialist Shradha. \\nThings we are learning in Java are complex')\n",
    "    t.close()"
   ]
  },
  {
   "cell_type": "code",
   "execution_count": 28,
   "id": "540a32a5-228c-46f8-b40f-eb694f587ce7",
   "metadata": {},
   "outputs": [
    {
     "name": "stdout",
     "output_type": "stream",
     "text": [
      "All occurances of Java have been replaced with Python\n"
     ]
    }
   ],
   "source": [
    "old_word = \"Java\"\n",
    "new_word = \"Python\"\n",
    "\n",
    "#read teh file content\n",
    "with open(\"T.txt\", 'r') as t:\n",
    "    content = t.read()\n",
    "content = content.replace(old_word, new_word)\n",
    "\n",
    "with open('T.txt', 'w') as t:\n",
    "    t.write(content)\n",
    "print(f\"All occurances of {old_word} have been replaced with {new_word}\")"
   ]
  },
  {
   "cell_type": "code",
   "execution_count": 29,
   "id": "f2c66828-23eb-417d-a393-73e4052b7c8d",
   "metadata": {},
   "outputs": [],
   "source": [
    "with open('T.txt', 'r') as File:\n",
    "    Read = File.read()\n",
    "Read = Read.replace(\"Python\", \"Python Pro max\")\n",
    "\n",
    "with open('T.txt', 'w') as File:\n",
    "    File.write(Read)"
   ]
  },
  {
   "cell_type": "code",
   "execution_count": 30,
   "id": "be26058b-70e1-4cd6-b22d-1a15354c2d84",
   "metadata": {},
   "outputs": [],
   "source": [
    "with open('T.txt', 'r') as TT:\n",
    "    TT.read()"
   ]
  },
  {
   "cell_type": "code",
   "execution_count": 31,
   "id": "76345653-1fc2-4a82-bca6-caee97196301",
   "metadata": {},
   "outputs": [
    {
     "data": {
      "text/plain": [
       "'Hi I am learning Python Pro max. \\nPython Pro max Specialist Shradha. \\nThings we are learning in Python Pro max are complex'"
      ]
     },
     "execution_count": 31,
     "metadata": {},
     "output_type": "execute_result"
    }
   ],
   "source": [
    "F = open(\"T.txt\", \"r\")\n",
    "F.read()"
   ]
  },
  {
   "cell_type": "code",
   "execution_count": 32,
   "id": "f7a3501e-938f-4967-9613-39f8caa8931a",
   "metadata": {},
   "outputs": [],
   "source": [
    "with open('T.txt', 'r') as W:\n",
    "    W.read()"
   ]
  },
  {
   "cell_type": "code",
   "execution_count": 33,
   "id": "169e5454-a2c9-4960-9a95-a1691fe7fa86",
   "metadata": {},
   "outputs": [
    {
     "name": "stdout",
     "output_type": "stream",
     "text": [
      "Hi I am learning Python Pro max. \n",
      "Python Pro max Specialist Shradha. \n",
      "Things we are learning in Python Pro max are complex\n"
     ]
    }
   ],
   "source": [
    "with open('T.txt', 'r') as w:\n",
    "    data = w.read()\n",
    "    print(data)"
   ]
  },
  {
   "cell_type": "code",
   "execution_count": 38,
   "id": "1a92107f-f2cd-4c8a-adbf-5e496775ad6a",
   "metadata": {},
   "outputs": [],
   "source": [
    "def Change():\n",
    "    with open('T.txt', 'r') as R:\n",
    "        RR = R.read()\n",
    "    RR.replace('Pro', 'Double Pro')"
   ]
  },
  {
   "cell_type": "code",
   "execution_count": 39,
   "id": "cff1f014-3d89-4f0f-be33-0cb679364552",
   "metadata": {},
   "outputs": [
    {
     "ename": "TypeError",
     "evalue": "Change() takes 0 positional arguments but 2 were given",
     "output_type": "error",
     "traceback": [
      "\u001b[1;31m---------------------------------------------------------------------------\u001b[0m",
      "\u001b[1;31mTypeError\u001b[0m                                 Traceback (most recent call last)",
      "Cell \u001b[1;32mIn[39], line 1\u001b[0m\n\u001b[1;32m----> 1\u001b[0m Change(\u001b[38;5;124m\"\u001b[39m\u001b[38;5;124mDouble\u001b[39m\u001b[38;5;124m\"\u001b[39m, \u001b[38;5;124m\"\u001b[39m\u001b[38;5;124mTriple\u001b[39m\u001b[38;5;124m\"\u001b[39m)\n",
      "\u001b[1;31mTypeError\u001b[0m: Change() takes 0 positional arguments but 2 were given"
     ]
    }
   ],
   "source": [
    "Change(\"Double\", \"Triple\")\n",
    "    "
   ]
  },
  {
   "cell_type": "code",
   "execution_count": 41,
   "id": "b0c9b809-fcf7-4642-9ce5-4c33183d7d79",
   "metadata": {},
   "outputs": [
    {
     "name": "stdout",
     "output_type": "stream",
     "text": [
      "False\n"
     ]
    }
   ],
   "source": [
    "with open ('T.txt', 'r') as Search:\n",
    "    if 'Pro' in Search:\n",
    "        print(True)\n",
    "    else:\n",
    "        print(False)"
   ]
  },
  {
   "cell_type": "code",
   "execution_count": 43,
   "id": "c9b969f8-5166-46a9-b2b5-f697dfb743ee",
   "metadata": {},
   "outputs": [
    {
     "name": "stdout",
     "output_type": "stream",
     "text": [
      "Found\n"
     ]
    }
   ],
   "source": [
    "word = \"learning\"\n",
    "with open(\"T.txt\", 'r') as File:\n",
    "    data = File.read()\n",
    "    if (data.find(word) != -1):\n",
    "        print(\"Found\")\n",
    "    else:\n",
    "        print(\"NOT FOUND\")"
   ]
  },
  {
   "cell_type": "code",
   "execution_count": 47,
   "id": "4eff5136-9f43-413e-b03b-4c4777c10115",
   "metadata": {},
   "outputs": [
    {
     "name": "stdin",
     "output_type": "stream",
     "text": [
      "Enter a word ee\n"
     ]
    },
    {
     "name": "stdout",
     "output_type": "stream",
     "text": [
      "Not found\n"
     ]
    }
   ],
   "source": [
    "word = input(\"Enter a word\")\n",
    "with open(\"T.txt\", 'r') as Fill:\n",
    "    DDD = Fill.read()\n",
    "    if (word in DDD):\n",
    "        print(word, \"Available in the List\")\n",
    "    else:\n",
    "        print(\"Not found\")"
   ]
  },
  {
   "cell_type": "code",
   "execution_count": 48,
   "id": "3e8bb2f1-ec0f-421a-834d-2d17491ce4fd",
   "metadata": {},
   "outputs": [],
   "source": [
    "def Check_for_word():\n",
    "    word = input(\"Enter a word\")\n",
    "    with open(\"T.txt\", 'r') as Fill:\n",
    "        DDD = Fill.read()\n",
    "        if (word in DDD):\n",
    "            print(word, \"Available in the List\")\n",
    "        else:\n",
    "            print(\"Not found\")"
   ]
  },
  {
   "cell_type": "code",
   "execution_count": 49,
   "id": "a0cc4617-e57b-4071-a644-3397c2cc4e02",
   "metadata": {},
   "outputs": [
    {
     "name": "stdin",
     "output_type": "stream",
     "text": [
      "Enter a word 32\n"
     ]
    },
    {
     "name": "stdout",
     "output_type": "stream",
     "text": [
      "Not found\n"
     ]
    }
   ],
   "source": [
    "Check_for_word()"
   ]
  },
  {
   "cell_type": "code",
   "execution_count": null,
   "id": "965e966a-6f26-4dec-b692-9c5dccf2bc05",
   "metadata": {},
   "outputs": [],
   "source": [
    "word = input(\"Enter a word\")\n",
    "line_no = 1\n",
    "\n",
    "# Opening file \n",
    "with open('T.txt', 'r') as D:\n",
    "    data = D.readline()\n",
    "    if word in data:\n",
    "        while True:\n",
    "            print(\"Found in line\", line_no)\n",
    "            line_no +=1 \n",
    "        "
   ]
  },
  {
   "cell_type": "code",
   "execution_count": null,
   "id": "f7b846c1-472d-48c5-abfd-d3e821c2a97a",
   "metadata": {},
   "outputs": [
    {
     "name": "stdin",
     "output_type": "stream",
     "text": [
      "Enter a word learning\n"
     ]
    },
    {
     "name": "stdout",
     "output_type": "stream",
     "text": [
      "1\n",
      "3\n"
     ]
    }
   ],
   "source": [
    "word = input(\"Enter a word\")\n",
    "line_no = 1\n",
    "with open('T.txt', 'r') as D:\n",
    "    while True:\n",
    "        data = D.readline()\n",
    "        if word in data:\n",
    "            print(line_no)\n",
    "            \n",
    "        line_no += 1"
   ]
  },
  {
   "cell_type": "code",
   "execution_count": null,
   "id": "967f8385-63ec-479a-a100-e19433b711db",
   "metadata": {},
   "outputs": [],
   "source": [
    "with open('T.txt', 'r') as Digit:\n",
    "    Data = Digit.read()\n",
    "    print(Data)"
   ]
  },
  {
   "cell_type": "code",
   "execution_count": 8,
   "id": "f084d28d-d8ca-4599-8d96-9eac0145ddbc",
   "metadata": {},
   "outputs": [
    {
     "name": "stdout",
     "output_type": "stream",
     "text": [
      "2,1,2,1,3,43,2,21,63,12,1353,21,5444,12,231,21\n",
      "2\n",
      "1\n",
      "2\n",
      "1\n",
      "3\n",
      "43\n",
      "2\n",
      "21\n",
      "63\n",
      "12\n",
      "1353\n",
      "21\n",
      "5444\n",
      "12\n",
      "231\n"
     ]
    }
   ],
   "source": [
    "with open('T.txt', 'r') as Digit:\n",
    "    data = Digit.read()\n",
    "    print(data)\n",
    "\n",
    "    num = \"\"\n",
    "    for i in range(len(data)):\n",
    "        if (data[i] == ','):\n",
    "            print(int(num))\n",
    "            num = \"\"\n",
    "        else:\n",
    "            num += data[i]\n",
    "    "
   ]
  },
  {
   "cell_type": "code",
   "execution_count": null,
   "id": "67080c2d-7ea3-45a1-9b5a-d82fb276b149",
   "metadata": {},
   "outputs": [],
   "source": [
    "f = open('T.txt', 'r')\n",
    "f.read()"
   ]
  },
  {
   "cell_type": "code",
   "execution_count": 1,
   "id": "2b2f9140-4804-4166-a3bb-6823cec8546e",
   "metadata": {},
   "outputs": [
    {
     "data": {
      "text/plain": [
       "9"
      ]
     },
     "execution_count": 1,
     "metadata": {},
     "output_type": "execute_result"
    }
   ],
   "source": [
    "3*3"
   ]
  },
  {
   "cell_type": "code",
   "execution_count": 12,
   "id": "2012bc0b-0f9d-4b4d-aa2b-0300d261477e",
   "metadata": {},
   "outputs": [
    {
     "name": "stdout",
     "output_type": "stream",
     "text": [
      "2,1,2,1,3,43,2,21,63,12,1353,21,5444,12,231,21\n",
      "['2', '1', '2', '1', '3', '43', '2', '21', '63', '12', '1353', '21', '5444', '12', '231', '21']\n",
      "6\n"
     ]
    }
   ],
   "source": [
    "count = 0\n",
    "with open (\"T.txt\", 'r') as Digit:\n",
    "    data = Digit.read()\n",
    "    print(data)\n",
    "    nums = data.split(\",\")\n",
    "    print(nums)\n",
    "    for val in nums:\n",
    "        if (int(val) % 2 == 0):\n",
    "            count += 1\n",
    "print(count)"
   ]
  },
  {
   "cell_type": "code",
   "execution_count": 19,
   "id": "e6076cdf-fa08-4543-bfe3-c5ff886b7ddb",
   "metadata": {},
   "outputs": [
    {
     "name": "stdout",
     "output_type": "stream",
     "text": [
      "0 32\n",
      "1 534\n",
      "2 8\n",
      "3 2\n",
      "4 4\n",
      "5\n"
     ]
    }
   ],
   "source": [
    "count = 0\n",
    "a = \"43,32,343,5,23,534,23,53,23,1,5,75,8,45,2,4,75\"\n",
    "data = a.split(\",\")\n",
    "for i in data:\n",
    "    if int(i)%2 == 0:\n",
    "        print(count, i)\n",
    "        count += 1\n",
    "print(count)"
   ]
  },
  {
   "cell_type": "code",
   "execution_count": null,
   "id": "b2594c70-8513-4a46-b33e-aeef953b943e",
   "metadata": {},
   "outputs": [],
   "source": []
  }
 ],
 "metadata": {
  "kernelspec": {
   "display_name": "Python 3 (ipykernel)",
   "language": "python",
   "name": "python3"
  },
  "language_info": {
   "codemirror_mode": {
    "name": "ipython",
    "version": 3
   },
   "file_extension": ".py",
   "mimetype": "text/x-python",
   "name": "python",
   "nbconvert_exporter": "python",
   "pygments_lexer": "ipython3",
   "version": "3.13.5"
  }
 },
 "nbformat": 4,
 "nbformat_minor": 5
}
