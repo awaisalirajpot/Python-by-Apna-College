{
 "cells": [
  {
   "cell_type": "markdown",
   "id": "11903cc8-97e4-47cc-bad1-6796fc36a146",
   "metadata": {},
   "source": [
    "### Dictionary & Set in Python\n",
    "**Dictioneries are used to store data values in key:values pairs**\n",
    "1. its mutable (not like tuples)\n",
    "2. unordered\n",
    "3. don't allow duplicate keys"
   ]
  },
  {
   "cell_type": "code",
   "execution_count": 11,
   "id": "200ca0c1-255d-40a5-af57-91bbb8368595",
   "metadata": {},
   "outputs": [
    {
     "name": "stdout",
     "output_type": "stream",
     "text": [
      "{'key': 'value', 'name': 'Awais', 'leanring': 'Python', 'age': 25, 'adult': True, 'Marks': 4.2, 'Subjects': ['python', 'c', 'Java']}\n"
     ]
    }
   ],
   "source": [
    "info = {\n",
    "    \"key\" : \"value\",\n",
    "    \"name\" : \"Awais\",\n",
    "    \"leanring\" : \"Python\" ,\n",
    "    \"age\" : 25,\n",
    "    \"adult\" : True,\n",
    "    \"Marks\" : 4.2,\n",
    "    \"Subjects\" : [\"python\", \"c\", \"Java\"],\n",
    "    \n",
    "}\n",
    "print(info)"
   ]
  },
  {
   "cell_type": "code",
   "execution_count": 12,
   "id": "b5aad04e-6212-42c5-ab44-417bcbfa0870",
   "metadata": {},
   "outputs": [
    {
     "name": "stdout",
     "output_type": "stream",
     "text": [
      "value\n",
      "25\n",
      "['python', 'c', 'Java']\n"
     ]
    }
   ],
   "source": [
    "print(info[\"key\"])\n",
    "print(info[\"age\"])\n",
    "print(info[\"Subjects\"])"
   ]
  },
  {
   "cell_type": "code",
   "execution_count": 13,
   "id": "e74fe5c4-f318-49ff-9822-4cee1ee75dda",
   "metadata": {},
   "outputs": [
    {
     "data": {
      "text/plain": [
       "{'key': 'value',\n",
       " 'name': 'Awais Ali',\n",
       " 'leanring': 'Python',\n",
       " 'age': 25,\n",
       " 'adult': True,\n",
       " 'Marks': 4.2,\n",
       " 'Subjects': ['python', 'c', 'Java'],\n",
       " 'surname': 'Ali'}"
      ]
     },
     "execution_count": 13,
     "metadata": {},
     "output_type": "execute_result"
    }
   ],
   "source": [
    "# assingment like modifieng\n",
    "info[\"name\"] = \"Awais Ali\"\n",
    "info[\"surname\"] = \"Ali\"\n",
    "info"
   ]
  },
  {
   "cell_type": "code",
   "execution_count": 16,
   "id": "264b35d4-6185-4386-abc2-83c107e79f37",
   "metadata": {},
   "outputs": [
    {
     "data": {
      "text/plain": [
       "{'Name': 'Apna College'}"
      ]
     },
     "execution_count": 16,
     "metadata": {},
     "output_type": "execute_result"
    }
   ],
   "source": [
    "# creating null dictionary\n",
    "dictt = {}\n",
    "dictt\n",
    "dictt[\"Name\"] = \"Apna College\"\n",
    "dictt"
   ]
  },
  {
   "cell_type": "code",
   "execution_count": 25,
   "id": "34247795-8903-47b9-a572-ab7dc0b4f4af",
   "metadata": {},
   "outputs": [
    {
     "data": {
      "text/plain": [
       "{'name': 'Awais Ali',\n",
       " 'Subjects': {'Math': 53, 'Science': 22, 'Geology': 32, 'Sicnce2': 55},\n",
       " 'Roll no.': 6032}"
      ]
     },
     "execution_count": 25,
     "metadata": {},
     "output_type": "execute_result"
    }
   ],
   "source": [
    "# Nested Dictionaries\n",
    "student = {\n",
    "    \"name\" : \"Awais Ali\",\n",
    "    \"Subjects\" : {\n",
    "        \"Math\" : 53,\n",
    "        \"Science\" : 22,\n",
    "        \"Geology\": 32,\n",
    "        \"Sicnce2\" : 55,   \n",
    "    },\n",
    "    \"Roll no.\" : 6032,\n",
    "}\n",
    "student"
   ]
  },
  {
   "cell_type": "code",
   "execution_count": 27,
   "id": "3ce7ad74-5739-4379-9794-afc7e6771857",
   "metadata": {},
   "outputs": [
    {
     "data": {
      "text/plain": [
       "{'Math': 53, 'Science': 22, 'Geology': 32, 'Sicnce2': 55}"
      ]
     },
     "execution_count": 27,
     "metadata": {},
     "output_type": "execute_result"
    }
   ],
   "source": [
    "student[\"Subjects\"]"
   ]
  },
  {
   "cell_type": "code",
   "execution_count": 39,
   "id": "8c16aa9d-6b1a-4c57-954d-085eb0708a45",
   "metadata": {},
   "outputs": [
    {
     "data": {
      "text/plain": [
       "44"
      ]
     },
     "execution_count": 39,
     "metadata": {},
     "output_type": "execute_result"
    }
   ],
   "source": [
    "student1 = {\n",
    "    \"name\" : \"Awais Ali\", \n",
    "    \"Subjects\" : {\n",
    "        \"Math\" : 44,\n",
    "        \"English\": 22,\n",
    "        \"Arabic\": 66,\n",
    "        \"Science\": 46,\n",
    "    }, \n",
    "    \"Roll no.\": \"422-bh-sdf\",\n",
    "    \"Class\": \"23th\"\n",
    "}\n",
    "student1 [\"Subjects\"] [\"Math\"]"
   ]
  },
  {
   "cell_type": "markdown",
   "id": "4bdb5780-c84a-45c8-9946-3750012a2376",
   "metadata": {},
   "source": [
    "#### Dictionary Methods\n",
    "1. myDict.keys() #returns all keys\n",
    "2. myDict.values() #returns all values\n",
    "3. myDict.items() #returns all (key,value) pairs as tuples\n",
    "4. myDict.get(\"key\") #returns the key according to value\n",
    "5. myDict.update(newDict) #inserts the specified items to the dictionary"
   ]
  },
  {
   "cell_type": "code",
   "execution_count": 41,
   "id": "916f4ed5-9050-4121-b936-a8513c92860a",
   "metadata": {},
   "outputs": [
    {
     "name": "stdout",
     "output_type": "stream",
     "text": [
      "dict_keys(['name', 'Subjects', 'Roll no.'])\n",
      "dict_values(['Awais Ali', {'Math': 53, 'Science': 22, 'Geology': 32, 'Sicnce2': 55}, 6032])\n"
     ]
    }
   ],
   "source": [
    "print(student.keys())\n",
    "print(student.values())"
   ]
  },
  {
   "cell_type": "code",
   "execution_count": 42,
   "id": "5fbadaf9-0a06-4f05-a095-d57bba20ec0f",
   "metadata": {},
   "outputs": [
    {
     "name": "stdout",
     "output_type": "stream",
     "text": [
      "['name', 'Subjects', 'Roll no.']\n"
     ]
    }
   ],
   "source": [
    "# Doing tyype casting \n",
    "print(list(student.keys()))"
   ]
  },
  {
   "cell_type": "code",
   "execution_count": 46,
   "id": "4569c6f6-2de0-412b-ba43-b689d1d96acc",
   "metadata": {},
   "outputs": [
    {
     "name": "stdout",
     "output_type": "stream",
     "text": [
      "3\n",
      "['Awais Ali', {'Math': 53, 'Science': 22, 'Geology': 32, 'Sicnce2': 55}, 6032]\n"
     ]
    }
   ],
   "source": [
    "print(len(student))\n",
    "print((list(student.values())))"
   ]
  },
  {
   "cell_type": "code",
   "execution_count": 47,
   "id": "cd75692b-a823-440e-9ba3-3c11aae5eca6",
   "metadata": {},
   "outputs": [
    {
     "name": "stdout",
     "output_type": "stream",
     "text": [
      "dict_items([('name', 'Awais Ali'), ('Subjects', {'Math': 53, 'Science': 22, 'Geology': 32, 'Sicnce2': 55}), ('Roll no.', 6032)])\n"
     ]
    }
   ],
   "source": [
    "print(student.items()) #returns in the form of tuples"
   ]
  },
  {
   "cell_type": "code",
   "execution_count": 51,
   "id": "59f513ae-4893-477f-ac30-31d407dffdff",
   "metadata": {},
   "outputs": [
    {
     "name": "stdout",
     "output_type": "stream",
     "text": [
      "('name', 'Awais Ali')\n",
      "[('name', 'Awais Ali'), ('Subjects', {'Math': 53, 'Science': 22, 'Geology': 32, 'Sicnce2': 55}), ('Roll no.', 6032)]\n"
     ]
    }
   ],
   "source": [
    "pairs = list(student.items())\n",
    "print(pairs[0])\n",
    "print(list(student.items()))\n"
   ]
  },
  {
   "cell_type": "code",
   "execution_count": 58,
   "id": "55823eb2-9d78-4ff9-8273-ebbca712eab6",
   "metadata": {},
   "outputs": [
    {
     "name": "stdout",
     "output_type": "stream",
     "text": [
      "Awais Ali\n",
      "Awais Ali\n",
      "None\n"
     ]
    }
   ],
   "source": [
    "print(student.get(\"name\"))\n",
    "print(student[\"name\"])\n",
    "\n",
    "# Now let's check the difference while searching for key that doesn't exist\n",
    "print(student.get(\"name1\")) # -> None\n",
    "print(student[\"name1\"]) #error\n",
    "#once the error occurs all the remaining code will not execute\n"
   ]
  },
  {
   "cell_type": "code",
   "execution_count": 53,
   "id": "28e9630b-7b58-446f-9071-5b01f17043c7",
   "metadata": {},
   "outputs": [
    {
     "name": "stdout",
     "output_type": "stream",
     "text": [
      "dict_values(['Awais Ali', {'Math': 53, 'Science': 22, 'Geology': 32, 'Sicnce2': 55}, 6032])\n"
     ]
    }
   ],
   "source": [
    "print(student.values())"
   ]
  },
  {
   "cell_type": "code",
   "execution_count": 59,
   "id": "7fcac72a-0f28-424d-933d-102dcb6d1841",
   "metadata": {},
   "outputs": [
    {
     "data": {
      "text/plain": [
       "{'name': 'Awais Ali',\n",
       " 'Subjects': {'Math': 53, 'Science': 22, 'Geology': 32, 'Sicnce2': 55},\n",
       " 'Roll no.': 6032,\n",
       " 'city': 'Lahore'}"
      ]
     },
     "execution_count": 59,
     "metadata": {},
     "output_type": "execute_result"
    }
   ],
   "source": [
    "student.update({\"city\" : \"Lahore\"})\n",
    "student"
   ]
  },
  {
   "cell_type": "code",
   "execution_count": 60,
   "id": "80a555e8-dc7b-475b-ba7d-784e8c041c08",
   "metadata": {},
   "outputs": [
    {
     "data": {
      "text/plain": [
       "{'name': 'Awais Ali',\n",
       " 'Subjects': {'Math': 53, 'Science': 22, 'Geology': 32, 'Sicnce2': 55},\n",
       " 'Roll no.': 6032,\n",
       " 'city': 'Lahore',\n",
       " 'City': 'Islamabad',\n",
       " 'Area': 'DHA'}"
      ]
     },
     "execution_count": 60,
     "metadata": {},
     "output_type": "execute_result"
    }
   ],
   "source": [
    "#adding new dictionery\n",
    "new_dic = {\n",
    "    \"City\" : \"Islamabad\",\n",
    "    \"Area\" : \"DHA\",\n",
    "}\n",
    "student.update(new_dic)\n",
    "student"
   ]
  },
  {
   "cell_type": "markdown",
   "id": "f162b7cc-500b-4514-8e01-e5c94093eb58",
   "metadata": {},
   "source": [
    "#### Sets in Python\n",
    "1. Set is the collection of the unordered items.\n",
    "2. Each element in the set must be unique & immutable\n",
    "3. following data types are acceptable\n",
    "    - bolean\n",
    "    - int\n",
    "    - float\n",
    "    - str\n",
    "    - tuple etc.\n",
    "4. Cannot store list or dictionary because they are mutable"
   ]
  },
  {
   "cell_type": "code",
   "execution_count": 64,
   "id": "e1022287-7c2a-4685-a30f-e217a0a0ea7d",
   "metadata": {},
   "outputs": [
    {
     "name": "stdout",
     "output_type": "stream",
     "text": [
      "{2, 3, 4, 'hello', 'world', 13}\n",
      "6\n"
     ]
    }
   ],
   "source": [
    "collection = {3,2,13,4, \"hello\", \"world\", 3,2,13}\n",
    "type(collection)\n",
    "print(collection)\n",
    "#sets are unordered this doesn't follow\n",
    "print(len(collection)) #ignored duplicate values\n"
   ]
  },
  {
   "cell_type": "code",
   "execution_count": 65,
   "id": "2e154c57-685a-454a-af17-c5a3ab06bd5b",
   "metadata": {},
   "outputs": [
    {
     "data": {
      "text/plain": [
       "set"
      ]
     },
     "execution_count": 65,
     "metadata": {},
     "output_type": "execute_result"
    }
   ],
   "source": [
    "# empty \n",
    "collection = {} # this is dictionary\n",
    "collection1 = set() #explicitly type casting\n",
    "type(collection1)"
   ]
  },
  {
   "cell_type": "markdown",
   "id": "c376a529-5732-408f-9eaf-bb512adfe07c",
   "metadata": {},
   "source": [
    "#### Set methods\n",
    "1. set.add() #sets elements are immutable but sets are mutable\n",
    "2. set.remove()\n",
    "3. set.clear() \n",
    "4. set.pop() #removes a random value\n",
    "5. set.union(set2)\n",
    "6. set.intersection(set2)"
   ]
  },
  {
   "cell_type": "code",
   "execution_count": 67,
   "id": "cfd3d734-7d3b-4861-a29d-4ebfecfe835e",
   "metadata": {},
   "outputs": [
    {
     "data": {
      "text/plain": [
       "{1, 2, 3}"
      ]
     },
     "execution_count": 67,
     "metadata": {},
     "output_type": "execute_result"
    }
   ],
   "source": [
    "col = set()\n",
    "col.add(1)\n",
    "col.add(3)\n",
    "col.add(2)\n",
    "col.add(1)\n",
    "col"
   ]
  },
  {
   "cell_type": "code",
   "execution_count": 68,
   "id": "03559e71-f6f9-4b9c-9c52-784b74d2d0d2",
   "metadata": {},
   "outputs": [
    {
     "data": {
      "text/plain": [
       "{1, 2}"
      ]
     },
     "execution_count": 68,
     "metadata": {},
     "output_type": "execute_result"
    }
   ],
   "source": [
    "col.remove(3)\n",
    "col"
   ]
  },
  {
   "cell_type": "code",
   "execution_count": 69,
   "id": "94902884-2ab3-4de6-bbcd-70bd8f074108",
   "metadata": {},
   "outputs": [
    {
     "data": {
      "text/plain": [
       "{1, 2, 'Apple'}"
      ]
     },
     "execution_count": 69,
     "metadata": {},
     "output_type": "execute_result"
    }
   ],
   "source": [
    "col.add(\"Apple\")\n",
    "col"
   ]
  },
  {
   "cell_type": "code",
   "execution_count": 70,
   "id": "bc2823ed-45ab-4ef6-a298-d30433e7857b",
   "metadata": {},
   "outputs": [
    {
     "data": {
      "text/plain": [
       "{(1, 3, 23, 1), 1, 2, 'Apple'}"
      ]
     },
     "execution_count": 70,
     "metadata": {},
     "output_type": "execute_result"
    }
   ],
   "source": [
    "col.add((1,3,23,1)) #since tuples are immutable\n",
    "col"
   ]
  },
  {
   "cell_type": "code",
   "execution_count": 71,
   "id": "c388bdb4-4259-4978-ac9d-f57e71059ed2",
   "metadata": {},
   "outputs": [
    {
     "ename": "TypeError",
     "evalue": "unhashable type: 'list'",
     "output_type": "error",
     "traceback": [
      "\u001b[1;31m---------------------------------------------------------------------------\u001b[0m",
      "\u001b[1;31mTypeError\u001b[0m                                 Traceback (most recent call last)",
      "Cell \u001b[1;32mIn[71], line 1\u001b[0m\n\u001b[1;32m----> 1\u001b[0m col\u001b[38;5;241m.\u001b[39madd([\u001b[38;5;241m3\u001b[39m,\u001b[38;5;241m232\u001b[39m,\u001b[38;5;241m2\u001b[39m])\n\u001b[0;32m      2\u001b[0m col\n",
      "\u001b[1;31mTypeError\u001b[0m: unhashable type: 'list'"
     ]
    }
   ],
   "source": [
    "col.add([3,232,2]) #cannot add because this list\n",
    "col\n",
    "# unhashable -> immutable means we cannot ever change the value of a tuple\n",
    "# hashable : are mutable"
   ]
  },
  {
   "cell_type": "code",
   "execution_count": 75,
   "id": "66ee3130-ea69-4ebd-97dc-114c14acfbb1",
   "metadata": {},
   "outputs": [
    {
     "name": "stdout",
     "output_type": "stream",
     "text": [
      "0\n"
     ]
    },
    {
     "ename": "KeyError",
     "evalue": "'pop from an empty set'",
     "output_type": "error",
     "traceback": [
      "\u001b[1;31m---------------------------------------------------------------------------\u001b[0m",
      "\u001b[1;31mKeyError\u001b[0m                                  Traceback (most recent call last)",
      "Cell \u001b[1;32mIn[75], line 2\u001b[0m\n\u001b[0;32m      1\u001b[0m \u001b[38;5;28mprint\u001b[39m(\u001b[38;5;28mlen\u001b[39m(col))\n\u001b[1;32m----> 2\u001b[0m col\u001b[38;5;241m.\u001b[39mpop()\n\u001b[0;32m      3\u001b[0m col\n",
      "\u001b[1;31mKeyError\u001b[0m: 'pop from an empty set'"
     ]
    }
   ],
   "source": [
    "print(len(col))\n",
    "col.pop()\n",
    "col"
   ]
  },
  {
   "cell_type": "code",
   "execution_count": 74,
   "id": "6998bac2-559d-406f-8260-ab21a54f8ee1",
   "metadata": {},
   "outputs": [
    {
     "data": {
      "text/plain": [
       "0"
      ]
     },
     "execution_count": 74,
     "metadata": {},
     "output_type": "execute_result"
    }
   ],
   "source": [
    "col.clear()\n",
    "len(col)"
   ]
  },
  {
   "cell_type": "code",
   "execution_count": 76,
   "id": "412c0b10-9951-446b-bcab-ca1049686c61",
   "metadata": {},
   "outputs": [
    {
     "data": {
      "text/plain": [
       "{22, 3, 'apna', 'college', 'is teaching'}"
      ]
     },
     "execution_count": 76,
     "metadata": {},
     "output_type": "execute_result"
    }
   ],
   "source": [
    "col1 = {\"apna\", \"college\", \"is teaching\", 3 , 22, 32}\n",
    "col1.pop()\n",
    "col1"
   ]
  },
  {
   "cell_type": "code",
   "execution_count": 77,
   "id": "21701460-aad4-4f93-8a70-5cec992e8d1a",
   "metadata": {},
   "outputs": [
    {
     "data": {
      "text/plain": [
       "'apna'"
      ]
     },
     "execution_count": 77,
     "metadata": {},
     "output_type": "execute_result"
    }
   ],
   "source": [
    "col1.pop()"
   ]
  },
  {
   "cell_type": "code",
   "execution_count": 78,
   "id": "bae12a70-9d80-4419-b037-47935844d220",
   "metadata": {},
   "outputs": [
    {
     "data": {
      "text/plain": [
       "{22, 3, 'college', 'is teaching'}"
      ]
     },
     "execution_count": 78,
     "metadata": {},
     "output_type": "execute_result"
    }
   ],
   "source": [
    "col1"
   ]
  },
  {
   "cell_type": "code",
   "execution_count": 82,
   "id": "68441df8-332f-428a-938d-6a8ff7dd1851",
   "metadata": {},
   "outputs": [
    {
     "name": "stdout",
     "output_type": "stream",
     "text": [
      "{1, 2, 3, 4, 5, 6, 9}\n",
      "{4}\n"
     ]
    }
   ],
   "source": [
    "set1 = {1,2,3,4}\n",
    "set2 = {4, 5, 6,9}\n",
    "print(set1.union(set2))\n",
    "print(set1.intersection(set2)) #4"
   ]
  },
  {
   "cell_type": "markdown",
   "id": "2e8896a8-ef4c-4991-be60-371b93b4ba3f",
   "metadata": {},
   "source": [
    "#### Practice"
   ]
  },
  {
   "cell_type": "markdown",
   "id": "0063202c-1cb4-4ab6-9bb4-7b55781b2838",
   "metadata": {},
   "source": [
    "**Store the following word meanings in a python dictionary:** <br>\n",
    "table: \"a piece of furniture\", \"list of facts & figures\" <br>\n",
    "cat: \"a small animal\""
   ]
  },
  {
   "cell_type": "code",
   "execution_count": 85,
   "id": "6bcaa215-9980-4809-a5f3-fd895deafb07",
   "metadata": {},
   "outputs": [
    {
     "name": "stdout",
     "output_type": "stream",
     "text": [
      "{'table': ['a piece of furniture', 'list of facts & figures'], 'cat': 'a small animal'}\n"
     ]
    }
   ],
   "source": [
    "Dict = {\n",
    "    \"table\" : [\n",
    "        \"a piece of furniture\", \n",
    "        \"list of facts & figures\"],\n",
    "    \"cat\" : \"a small animal\",\n",
    "}\n",
    "print(Dict)"
   ]
  },
  {
   "cell_type": "markdown",
   "id": "77b6fb0a-c08a-41f0-8e25-992b8cdf0285",
   "metadata": {},
   "source": [
    "**You are given a list of subjects ofr students. Assume one classroom is required for 1 subject. How many classrooms are needed by all students** <br>\n",
    "\n"
   ]
  },
  {
   "cell_type": "code",
   "execution_count": 84,
   "id": "5326d4d2-cebb-418e-a13d-2114ab6b60bc",
   "metadata": {},
   "outputs": [
    {
     "name": "stdout",
     "output_type": "stream",
     "text": [
      "Total class are requried 5 for the subjets\n"
     ]
    }
   ],
   "source": [
    "Subjects = {\"python\", \"java\", \"C++\", \"python\", \"Javascript\", \n",
    "           \"java\", \"python\", \"java\", \"C++\", \"C\"\n",
    "           }\n",
    "print(\"Total class are requried\", len(Subjects), \"for the subjets\")"
   ]
  },
  {
   "cell_type": "markdown",
   "id": "f456a793-9421-4dd1-adad-ba3df36bf1e1",
   "metadata": {},
   "source": [
    "**WAP to enter marks of 3 subjects from the user and store them in a dictionary, Start with an empty dictionary and add one by one. Use subject name as key & marks as value**"
   ]
  },
  {
   "cell_type": "code",
   "execution_count": 92,
   "id": "ed0097ee-ac89-4a3f-903f-2052a417d016",
   "metadata": {},
   "outputs": [
    {
     "name": "stdin",
     "output_type": "stream",
     "text": [
      "Enter Subject 1: English\n",
      "Enter Marks 42\n",
      "Enter Subject 2: Math\n",
      "Enter Marks 23\n",
      "Enter subject 3: Science\n",
      "Enter marks 99\n"
     ]
    },
    {
     "name": "stdout",
     "output_type": "stream",
     "text": [
      "{'English': '42', 'Math': '23', 'Science': '99'}\n"
     ]
    }
   ],
   "source": [
    "Subj = {}\n",
    "Subjects = {\n",
    "    input(\"Enter Subject 1:\") : input(\"Enter Marks\"),\n",
    "    input(\"Enter Subject 2:\") : input(\"Enter Marks\"),\n",
    "    input(\"Enter subject 3:\") : input(\"Enter marks\"),\n",
    "}\n",
    "Subj.update(Subjects)\n",
    "print(Subj)"
   ]
  },
  {
   "cell_type": "markdown",
   "id": "c952160e-e233-47b1-bc96-08e8b347a331",
   "metadata": {},
   "source": [
    "**Figure out a way to store 9 & 9.0 as seperate values in the set. (You can take help of built-in data types)**"
   ]
  },
  {
   "cell_type": "code",
   "execution_count": 96,
   "id": "4cd0be6d-7eb0-4c2b-8f9d-660f60b55bad",
   "metadata": {},
   "outputs": [
    {
     "name": "stdout",
     "output_type": "stream",
     "text": [
      "{9, '9.0'}\n"
     ]
    }
   ],
   "source": [
    "set8 = {int(9), str(9.0)}\n",
    "print(set8)"
   ]
  },
  {
   "cell_type": "code",
   "execution_count": 99,
   "id": "3997bf95-94de-41ff-945e-75ffa61fb422",
   "metadata": {},
   "outputs": [
    {
     "name": "stdin",
     "output_type": "stream",
     "text": [
      "Enter marks 43\n",
      "Enter marks 23\n",
      "Enter marks 12\n"
     ]
    },
    {
     "name": "stdout",
     "output_type": "stream",
     "text": [
      "{'Phy': 43, 'Math': 23, 'Enlish': 12}\n"
     ]
    }
   ],
   "source": [
    "marks = {}\n",
    "\n",
    "x = int(input(\"Enter marks\"))\n",
    "marks.update({\"Phy\" : x})\n",
    "x = int(input(\"Enter marks\"))\n",
    "marks.update({\"Math\" : x})\n",
    "x = int(input(\"Enter marks\"))\n",
    "marks.update({\"Enlish\" : x})\n",
    "print(marks)"
   ]
  },
  {
   "cell_type": "code",
   "execution_count": null,
   "id": "991e45a4-66a4-47a4-8848-24bd713f1f80",
   "metadata": {},
   "outputs": [],
   "source": []
  }
 ],
 "metadata": {
  "kernelspec": {
   "display_name": "Python 3 (ipykernel)",
   "language": "python",
   "name": "python3"
  },
  "language_info": {
   "codemirror_mode": {
    "name": "ipython",
    "version": 3
   },
   "file_extension": ".py",
   "mimetype": "text/x-python",
   "name": "python",
   "nbconvert_exporter": "python",
   "pygments_lexer": "ipython3",
   "version": "3.13.5"
  }
 },
 "nbformat": 4,
 "nbformat_minor": 5
}
