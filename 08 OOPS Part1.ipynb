{
 "cells": [
  {
   "cell_type": "markdown",
   "id": "91b47593-496f-4fba-bfdd-27713c4f43b2",
   "metadata": {},
   "source": [
    "### OOPS in Python (Classes & Objects)\n",
    "**To map with real world scenarios, we started using objects in code.**\n",
    "We started with procedural program simple *-+ <br>\n",
    "Then to reduce redundancy and reuseability of program we introudce functions <br>\n",
    "Now object oriented programming is also like this <br>\n",
    "Object: everything can be object <br>\n",
    "for making object we make a class to add things into it.\n",
    "<br>\n",
    "We have already read many of these like lists are objects strings etc. <br>\n"
   ]
  },
  {
   "cell_type": "markdown",
   "id": "e1ba27ee-db3b-4c07-a3c3-df440b8ff88d",
   "metadata": {},
   "source": [
    "#### Class & Object in Python\n",
    "class is a blueprint for creating objects. (we gather and store the information inside the class) like college ask for making a system for adding students information "
   ]
  },
  {
   "cell_type": "code",
   "execution_count": 5,
   "id": "1108ba54-4c87-4a1b-bb1e-2f0cacd39178",
   "metadata": {},
   "outputs": [
    {
     "name": "stdout",
     "output_type": "stream",
     "text": [
      "<__main__.Student object at 0x0000028282B2C980>\n",
      "Awais\n",
      "Awais\n",
      "Awais\n"
     ]
    }
   ],
   "source": [
    "#creating class\n",
    "class Student: \n",
    "    name = \"Awais\" # giving same name to all students for now\n",
    "#creating objects: lets we want to make a car and we make a blue print\n",
    "#that these are the features which are required called class\n",
    "#When we make  a car using that blueprint this is called as object\n",
    "s1 = Student() #creating object(instance) (instances of class)\n",
    "print(s1)\n",
    "print(s1.name)\n",
    "\n",
    "s2 = Student()\n",
    "print(s2.name)\n",
    "s3 = Student()\n",
    "print(s3.name)"
   ]
  },
  {
   "cell_type": "code",
   "execution_count": 7,
   "id": "7ca9b652-9785-4466-ba63-3ef4c0dc6c27",
   "metadata": {},
   "outputs": [
    {
     "name": "stdout",
     "output_type": "stream",
     "text": [
      "blue\n",
      "Mercedes\n"
     ]
    }
   ],
   "source": [
    "class Car:\n",
    "    color = \"blue\" #all car colors are same\n",
    "    brand = \"Mercedes\"\n",
    "car1 = Car()\n",
    "print(car1.color)\n",
    "print(car1.brand)"
   ]
  },
  {
   "cell_type": "markdown",
   "id": "59a01554-4fd6-42b1-a7c9-4131882294e8",
   "metadata": {},
   "source": [
    "### __init__ Function\n",
    "**Constructor** <br>\n",
    "**All classes have a function called __init__(), which is always executed when the object is being initiated.**\n"
   ]
  },
  {
   "cell_type": "code",
   "execution_count": 12,
   "id": "59742a59-e763-4a94-bed9-26ca10072a6c",
   "metadata": {},
   "outputs": [
    {
     "name": "stdout",
     "output_type": "stream",
     "text": [
      "adding new student in database\n",
      "<__main__.Student object at 0x0000028282B2D2B0>\n",
      "<__main__.Student object at 0x0000028282B2D2B0>\n"
     ]
    }
   ],
   "source": [
    "#creating a class\n",
    "class Student:\n",
    "    name = \"Awais\"\n",
    "    def __init__ (self): #it always take a parameter\n",
    "        print(\"adding new student in database\")\n",
    "        print(self) #means location\n",
    "s1 = Student()\n",
    "print(s1)"
   ]
  },
  {
   "cell_type": "code",
   "execution_count": 15,
   "id": "88f2f370-0bfd-4001-ae7c-8a767f940ab2",
   "metadata": {},
   "outputs": [
    {
     "name": "stdout",
     "output_type": "stream",
     "text": [
      "Awais\n"
     ]
    }
   ],
   "source": [
    "#creating a class\n",
    "class Student:\n",
    "    def __init__ (self, fullname): #it always take a parameter\n",
    "        self.name = fullname\n",
    "s1 = Student(\"Awais\")\n",
    "print(s1.name)"
   ]
  },
  {
   "cell_type": "code",
   "execution_count": 16,
   "id": "2c23dd42-3367-43e1-b590-6be1e073fe74",
   "metadata": {},
   "outputs": [
    {
     "name": "stdout",
     "output_type": "stream",
     "text": [
      "<__main__.Awais object at 0x0000028282B2D400>\n"
     ]
    }
   ],
   "source": [
    "#Checking python is creating a constructor automatically for us\n",
    "class Awais():\n",
    "    name = 'Awais'\n",
    "s1 = Awais()\n",
    "print(s1)"
   ]
  },
  {
   "cell_type": "code",
   "execution_count": 21,
   "id": "9f9e88c3-8022-4ab8-94a5-0737522735fd",
   "metadata": {},
   "outputs": [
    {
     "name": "stdout",
     "output_type": "stream",
     "text": [
      "<__main__.Imran object at 0x0000028282B2D7F0>\n",
      "<__main__.Imran object at 0x0000028282B2D7F0>\n"
     ]
    }
   ],
   "source": [
    "#creating of our own\n",
    "class Imran():\n",
    "    def __init__ (self):\n",
    "        print(self)\n",
    "s2 = Imran()\n",
    "print(s2)"
   ]
  },
  {
   "cell_type": "markdown",
   "id": "07c35613-7fd2-4902-b618-6555bcf1c056",
   "metadata": {},
   "source": [
    "**The self parameter is a reference to the current instance of the class, and is used to access variables that belong to the class**"
   ]
  },
  {
   "cell_type": "code",
   "execution_count": 25,
   "id": "9889c541-75c4-404e-9d9c-9c1be52fc052",
   "metadata": {},
   "outputs": [
    {
     "name": "stdout",
     "output_type": "stream",
     "text": [
      "Mercedes\n",
      "Jeep\n"
     ]
    }
   ],
   "source": [
    "class Car():\n",
    "    def __init__ (self, fullname):\n",
    "        self.name = fullname\n",
    "s1 = Car(\"Mercedes\")\n",
    "print(s1.name)\n",
    "\n",
    "s2 = Car(\"Jeep\")\n",
    "print(s2.name)"
   ]
  },
  {
   "cell_type": "code",
   "execution_count": 28,
   "id": "c4609d8c-f2a8-4140-8f9b-b4d8cd8103dc",
   "metadata": {},
   "outputs": [
    {
     "name": "stdout",
     "output_type": "stream",
     "text": [
      "I am again here\n",
      "I am under the function\n",
      "Mercedes\n",
      "I am again here\n",
      "I am under the function\n",
      "Jeep\n"
     ]
    }
   ],
   "source": [
    "class Car():\n",
    "    \n",
    "    def __init__ (self, fullname):\n",
    "        self.name = fullname\n",
    "        print(\"I am under the function\") # come after calling name\n",
    "        print(\"I am again here\")\n",
    "s1 = Car(\"Mercedes\")\n",
    "print(s1.name)\n",
    "\n",
    "s2 = Car(\"Jeep\")\n",
    "print(s2.name)"
   ]
  },
  {
   "cell_type": "code",
   "execution_count": 27,
   "id": "b2f554e3-c98c-43c7-ac35-eb59bb8f06bf",
   "metadata": {},
   "outputs": [
    {
     "name": "stdout",
     "output_type": "stream",
     "text": [
      "<__main__.Car object at 0x0000028282B2D550>\n"
     ]
    }
   ],
   "source": [
    "print(s)"
   ]
  },
  {
   "cell_type": "code",
   "execution_count": 29,
   "id": "b4d12be4-7f07-409b-976b-7fe28fd6b79c",
   "metadata": {},
   "outputs": [
    {
     "name": "stdout",
     "output_type": "stream",
     "text": [
      "Awais\n"
     ]
    }
   ],
   "source": [
    "class test():\n",
    "    name = \"Awais\"\n",
    "s1 = test()\n",
    "print(s1.name)"
   ]
  },
  {
   "cell_type": "code",
   "execution_count": 30,
   "id": "6c694bf0-ed05-486a-9237-0e52f2166c58",
   "metadata": {},
   "outputs": [
    {
     "name": "stdout",
     "output_type": "stream",
     "text": [
      "Awaisss\n"
     ]
    }
   ],
   "source": [
    "class test():\n",
    "    def __init__ (self, fullname):\n",
    "        self.name = fullname\n",
    "s1 = test(\"Awaisss\")\n",
    "print(s1.name)"
   ]
  },
  {
   "cell_type": "code",
   "execution_count": 31,
   "id": "2883dbda-5f69-4108-8902-793d5aff8e06",
   "metadata": {},
   "outputs": [
    {
     "name": "stdout",
     "output_type": "stream",
     "text": [
      "Hello I am testing\n",
      "<__main__.test object at 0x0000028282B2D550>\n"
     ]
    }
   ],
   "source": [
    "class test():\n",
    "    print(\"Hello I am testing\")\n",
    "s1 = test()\n",
    "print(s1)"
   ]
  },
  {
   "cell_type": "markdown",
   "id": "a22c403b-00ec-482f-98a6-665dbfaf6229",
   "metadata": {},
   "source": [
    "the variables we send to the function are known as attributs"
   ]
  },
  {
   "cell_type": "code",
   "execution_count": 33,
   "id": "d3c16520-4a7a-486c-abbc-90e0e741eaa1",
   "metadata": {},
   "outputs": [
    {
     "name": "stdout",
     "output_type": "stream",
     "text": [
      "Awais Ali 42\n",
      "Imran Ali 23\n"
     ]
    }
   ],
   "source": [
    "# Adding more than two parameters\n",
    "class Student():\n",
    "    def __init__ (self, name, marks):\n",
    "        self.name = name\n",
    "        self.marks = marks\n",
    "s1 = Student('Awais Ali', 42)\n",
    "print(s1.name, s1.marks)\n",
    "\n",
    "s2 = Student(\"Imran Ali\", 23)\n",
    "print(s2.name, s2.marks)"
   ]
  },
  {
   "cell_type": "code",
   "execution_count": 34,
   "id": "7e5d251b-2da6-4a2a-a0d0-4233193c50e0",
   "metadata": {},
   "outputs": [],
   "source": [
    "#default constructors\n",
    "def __init__ (self):\n",
    "    pass\n",
    "    \n",
    "#parameterized constructors\n",
    "def __init__ (self, name, makrs):\n",
    "    pass"
   ]
  },
  {
   "cell_type": "markdown",
   "id": "8c06d284-1c50-4640-8274-7f8e4fce301e",
   "metadata": {},
   "source": [
    "### Class & Instance Attributes\n",
    "class attributes are own by class and are same for all instances or objects. It occupy the only 1 space <br>\n",
    "<br>\n",
    "Instance attributes are differenct for each students and those values which are different for all are written with self. <br>\n",
    "lets take an example of student and college: college is same for all students so it'll be written as class attribute same for all students but students names and marks are different for all students so we will write them with self. and changeable occupy each time space"
   ]
  },
  {
   "cell_type": "code",
   "execution_count": 40,
   "id": "1e93e98d-aad7-47ec-9359-ca75ecbbbde4",
   "metadata": {},
   "outputs": [
    {
     "name": "stdout",
     "output_type": "stream",
     "text": [
      "Awais 32\n",
      "<__main__.Student object at 0x0000028282B2DA90>\n",
      "MAO College\n"
     ]
    }
   ],
   "source": [
    "class Student():\n",
    "    #class attribute\n",
    "    college_name = \"MAO College\" \n",
    "\n",
    "    #instance attributes\n",
    "    def __init__ (self, name, marks):\n",
    "        self.name = name\n",
    "        self.marks = marks\n",
    "\n",
    "s1 = Student(\"Awais\", 32)\n",
    "print(s1.name, s1.marks)\n",
    "\n",
    "print(s1)\n",
    "print(Student.college_name)"
   ]
  },
  {
   "cell_type": "code",
   "execution_count": 42,
   "id": "0d7bcb4a-6b7b-4c4e-94cb-0df6a8d67aae",
   "metadata": {},
   "outputs": [
    {
     "name": "stdout",
     "output_type": "stream",
     "text": [
      "Awais\n",
      "MAO COLLEGE\n"
     ]
    }
   ],
   "source": [
    "# Writing name outside the constructor while making it class attribute\n",
    "class Student():\n",
    "   \n",
    "    #class attributes\n",
    "    college_name = \"MAO COLLEGE\"\n",
    "    name = \"anonymous\"\n",
    "    \n",
    "    def __init__ (self, name, marks):\n",
    "        self.name = name #instance attribute\n",
    "        self.marks = marks\n",
    "\n",
    "s1 = Student(\"Awais\", 82)\n",
    "\n",
    "#Object attribute > class attribute\n",
    "print(s1.name)\n",
    "\n",
    "\n",
    "print(s1.college_name)"
   ]
  },
  {
   "cell_type": "markdown",
   "id": "bd8caf30-b876-4231-b4a0-cad44a0728e8",
   "metadata": {},
   "source": [
    "### Methods\n",
    "Methods are functions that belong to objects."
   ]
  },
  {
   "cell_type": "code",
   "execution_count": 45,
   "id": "580f49b3-6a41-4917-90e7-9d2a26a8ac99",
   "metadata": {},
   "outputs": [
    {
     "name": "stdout",
     "output_type": "stream",
     "text": [
      "Hello Awais\n"
     ]
    }
   ],
   "source": [
    "class Student:\n",
    "    def __init__ (self, name):\n",
    "        self.name = name\n",
    "    \n",
    "    def hello(self):\n",
    "        print(\"Hello\", self.name)\n",
    "\n",
    "s1 = Student(\"Awais\")\n",
    "s1.hello()"
   ]
  },
  {
   "cell_type": "code",
   "execution_count": 47,
   "id": "ff368d00-a1b4-4f5e-b8bd-d1510b74747e",
   "metadata": {},
   "outputs": [
    {
     "name": "stdout",
     "output_type": "stream",
     "text": [
      "Student marks are: 42\n"
     ]
    }
   ],
   "source": [
    "class Student:\n",
    "    def __init__ (self, name, marks):\n",
    "        self.name = name\n",
    "        self.marks = marks\n",
    "\n",
    "    def welcome(self):\n",
    "        print(\"Welcome Student\", self.name)\n",
    "    def get_marks(self):\n",
    "        print(\"Student marks are:\", self.marks)\n",
    "\n",
    "s1 = Student(\"Awais Ali Rajpot\", 42)\n",
    "s1.get_marks()"
   ]
  },
  {
   "cell_type": "markdown",
   "id": "f7e64a24-7897-46d6-be8d-4d96db6ea5f7",
   "metadata": {},
   "source": [
    "### Let's Practice\n",
    "**Create student class that takes name & marks of 3 subjects as arguments in constructor. Then create a method to to print the average**"
   ]
  },
  {
   "cell_type": "code",
   "execution_count": 63,
   "id": "92084e85-0352-45c1-9677-9be8d693a38a",
   "metadata": {},
   "outputs": [
    {
     "name": "stdout",
     "output_type": "stream",
     "text": [
      "Awais 23 53 99\n",
      "Average of all together is:  58.333333333333336\n",
      "None\n"
     ]
    }
   ],
   "source": [
    "class Student:\n",
    "    def __init__ (self, name, marks1, marks2, marks3):\n",
    "        self.name = name\n",
    "        self.marks1 = marks1\n",
    "        self.marks2 = marks2\n",
    "        self.marks3 = marks3\n",
    "\n",
    "    def get_average(self):\n",
    "        Sum = self.marks1 + self.marks2 + self.marks3\n",
    "        average = Sum/3\n",
    "        print(\"Average of all together is: \", average)\n",
    "s1 = Student(\"Awais\", 23, 53, 99)\n",
    "print(s1.name, s1.marks1, s1.marks2, s1.marks3)\n",
    "print(s1.get_average())"
   ]
  },
  {
   "cell_type": "code",
   "execution_count": 62,
   "id": "7a8f928f-7ce8-4475-887d-438dc6eeea65",
   "metadata": {},
   "outputs": [
    {
     "name": "stdout",
     "output_type": "stream",
     "text": [
      "Awais Ali [32, 342, 543]\n",
      "Average of marks is:  305.6666666666667\n",
      "None\n"
     ]
    }
   ],
   "source": [
    "class Student():\n",
    "    def __init__ (self, name, marks):\n",
    "        self.name = name\n",
    "        self.marks = marks\n",
    "\n",
    "    def get_average(self):\n",
    "        average = sum(self.marks)/len(self.marks)\n",
    "        print(\"Average of marks is: \", average)\n",
    "\n",
    "s1 = Student(\"Awais Ali\", [32,342,543])\n",
    "print(s1.name, s1.marks)\n",
    "print(s1.get_average())"
   ]
  },
  {
   "cell_type": "code",
   "execution_count": 67,
   "id": "7d7f4c3f-ed0e-491b-897f-808cc5baf1ea",
   "metadata": {},
   "outputs": [
    {
     "name": "stdout",
     "output_type": "stream",
     "text": [
      "Hi Awais Ali Your average marks are:  10.666666666666666\n",
      "Hi Awais Ali Your average marks are:  124.66666666666667\n",
      "Hi Awais Ali Your average marks are:  305.6666666666667\n",
      "None\n"
     ]
    }
   ],
   "source": [
    "class Student():\n",
    "    def __init__ (self, name, marks):\n",
    "        self.name = name\n",
    "        self.marks = marks\n",
    "\n",
    "    def get_average(self):\n",
    "        sum = 0\n",
    "        for i in self.marks:\n",
    "            sum += i\n",
    "            print(\"Hi\", self.name, \"Your average marks are: \", sum/3)\n",
    "            \n",
    "\n",
    "\n",
    "s1 = Student(\"Awais Ali\", [32,342,543])\n",
    "print(s1.get_average())"
   ]
  },
  {
   "cell_type": "code",
   "execution_count": null,
   "id": "a339f6d3-605e-4807-889b-98e7b29e0c49",
   "metadata": {},
   "outputs": [],
   "source": []
  }
 ],
 "metadata": {
  "kernelspec": {
   "display_name": "Python 3 (ipykernel)",
   "language": "python",
   "name": "python3"
  },
  "language_info": {
   "codemirror_mode": {
    "name": "ipython",
    "version": 3
   },
   "file_extension": ".py",
   "mimetype": "text/x-python",
   "name": "python",
   "nbconvert_exporter": "python",
   "pygments_lexer": "ipython3",
   "version": "3.13.5"
  }
 },
 "nbformat": 4,
 "nbformat_minor": 5
}
