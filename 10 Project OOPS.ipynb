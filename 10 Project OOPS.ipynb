{
 "cells": [
  {
   "cell_type": "markdown",
   "id": "7c61afd3-cb58-4537-aba6-9dce9c54aaf8",
   "metadata": {},
   "source": [
    "## Question: Banking System using Abstraction and Encapsulation\n",
    "\n",
    "You are required to design and implement a simple Banking System using the concepts of abstraction and encapsulation in Object-Oriented Programming (OOP).\n",
    "<br>\n",
    "<br>\n",
    "The program should allow users to create a bank account, deposit money, withdraw money, and check their balance, while ensuring that account details are kept secure and can only be accessed through proper methods."
   ]
  },
  {
   "cell_type": "code",
   "execution_count": 11,
   "id": "c017ed82-a2dc-4bce-a543-47516154d527",
   "metadata": {},
   "outputs": [
    {
     "name": "stdout",
     "output_type": "stream",
     "text": [
      "1. Create Account \n",
      "2. Deposit Money \n",
      "3. Withdraw Money \n",
      "4. Check Balance \n",
      "5. Display Account Details \n",
      "6. Exit\n",
      "Following details are recorded: \n",
      "\n",
      "Account number:  1234531\n",
      "Account Holder Name:  Awais Ali\n",
      "Account initial Balance:  10000 \n",
      "End\n",
      "None\n",
      "Total of  1000 was Deposited\n",
      "Now total balance is:  11000\n",
      "None\n",
      "Total of 100 was Withdraw.\n",
      "Total balance is:  10900\n",
      "None\n",
      "Your current balance is  10900\n",
      "None\n"
     ]
    }
   ],
   "source": [
    "##Create a class named BankAccount that represents a single customer’s bank account.\n",
    "class BankAccount:\n",
    "\n",
    "    def main():\n",
    "        print(\"1. Create Account \\n2. Deposit Money \\n3. Withdraw Money \\n4. Check Balance \\n5. Display Account Details \\n6. Exit\")\n",
    "    main()\n",
    "\n",
    "    \n",
    "    #Using Encapsulation\n",
    "    def __init__ (self, account_number, account_holder_name, balance):\n",
    "        self.account_number = account_number\n",
    "        self.account_holder_name = account_holder_name\n",
    "        self.balance = balance\n",
    "\n",
    "    #Implementing the methods inside the BankAccount\n",
    "    #Geting the geting output once an account created\n",
    "    def Get_status(self):\n",
    "        print(\"Following details are recorded: \\n\\nAccount number: \", self.account_number)\n",
    "        print(\"Account Holder Name: \", self.account_holder_name)\n",
    "        print(\"Account initial Balance: \", self.balance, \"\\nEnd\")\n",
    "\n",
    "    #Deposit Method\n",
    "    def Deposit(self, amount):\n",
    "        self.balance += amount\n",
    "        print(\"Total of \", amount, \"was Deposited\")\n",
    "        print(\"Now total balance is: \", self.balance)\n",
    "        #Prevent deposits of zero or negative values.\n",
    "    \n",
    "    #Withdraw Method\n",
    "    def Withdraw(self,  amount):\n",
    "        self.balance -= amount\n",
    "        print(\"Total of\", amount, \"was Withdraw.\")\n",
    "        print(\"Total balance is: \", self.balance)\n",
    "        #Ensure sufficient funds before withdrawal.\n",
    "\n",
    "    #Check Balance\n",
    "    def Check_balance(self):\n",
    "        print(\"Your current balance is \", self.balance)\n",
    "        \n",
    "\n",
    "acc1 = BankAccount(1234531, \"Awais Ali\", 10000)\n",
    "print(acc1.Get_status())\n",
    "print(acc1.Deposit(1000))\n",
    "print(acc1.Withdraw(100))\n",
    "print(acc1.Check_balance())"
   ]
  },
  {
   "cell_type": "code",
   "execution_count": 13,
   "id": "6d2380d2-4688-43bc-a832-cee4f598a0e4",
   "metadata": {},
   "outputs": [
    {
     "data": {
      "text/plain": [
       "<__main__.BankAccount at 0x1eaaa1a6490>"
      ]
     },
     "execution_count": 13,
     "metadata": {},
     "output_type": "execute_result"
    }
   ],
   "source": []
  },
  {
   "cell_type": "code",
   "execution_count": 60,
   "id": "47e19498-be0a-4f8b-b74e-fb886f4659a3",
   "metadata": {},
   "outputs": [
    {
     "name": "stdout",
     "output_type": "stream",
     "text": [
      "--- Welcome to Simple Bank System --- \n",
      "\n",
      "1. Create Account \n",
      "2. Deposit Money \n",
      "3. Withdraw Money \n",
      "4. Check Balance \n",
      "5. Display Account Details \n",
      "6. Exit \n",
      "\n",
      "\n"
     ]
    },
    {
     "name": "stdin",
     "output_type": "stream",
     "text": [
      "Enter your Choice:  3\n",
      "Enter Account Number:  1236789\n",
      "Enter Account Holder name:  asdf\n",
      "Enter initial Account Balance:  1234\n",
      "Enter Amount:  4\n"
     ]
    },
    {
     "name": "stdout",
     "output_type": "stream",
     "text": [
      "Remaining Balance is:  1230\n",
      "None\n"
     ]
    }
   ],
   "source": [
    "print(\"--- Welcome to Simple Bank System --- \\n\\n1. Create Account \\n2. Deposit Money \\n3. Withdraw Money \\n4. Check Balance \\n5. Display Account Details \\n6. Exit \\n\\n\")\n",
    "\n",
    "#Taking input from user from 1 to 6\n",
    "num = int(input(\"Enter your Choice: \"))\n",
    "\n",
    "Account_number = int(input(\"Enter Account Number: \"))\n",
    "Account_holder_name = input(\"Enter Account Holder name: \")\n",
    "Balance = int(input(\"Enter initial Account Balance: \"))\n",
    "\n",
    "#Defining class for BankSystem\n",
    "class BankAccount:\n",
    "    def __init__ (self, Account_number, Account_holder_name, Balance):\n",
    "        self.Account_number = Account_number\n",
    "        self.Account_holder_name = Account_holder_name\n",
    "        self.Balance = Balance\n",
    "    #Defining Method to create account\n",
    "    def CreateAccount(self):\n",
    "        acc1 = BankAccount(Account_number, Account_holder_name, Balance)\n",
    "        print(\"\\n\\nCreating.... \\nAccount Successfully Created\")\n",
    "        print(\"Account Number: \", acc1.Account_number)\n",
    "        print(\"Account Holder Name: \", acc1.Account_holder_name)\n",
    "        print(\"Account Balance: \", acc1.Balance)\n",
    "\n",
    "    def Deposit(self):\n",
    "        money = int(input(\"Enter Amount: \"))\n",
    "        self.Balance += money\n",
    "        print(\"Now your Balance is: \", self.Balance)\n",
    "\n",
    "    def Withdraw(self):\n",
    "        money = int(input(\"Enter Amount: \"))\n",
    "        self.Balance -= money\n",
    "        print(\"Remaining Balance is: \", self.Balance)\n",
    "\n",
    "    def Check_balance(self):\n",
    "        print(self.Balance)\n",
    "    \n",
    "\n",
    "   \n",
    "acc2 = BankAccount(Account_number, Account_holder_name, Balance)\n",
    "\n",
    "\n",
    "if num == 1:\n",
    "    print(acc2.CreateAccount())\n",
    "elif num == 2:\n",
    "    print(acc2.Deposit())\n",
    "elif num == 3:\n",
    "    print(acc2.Withdraw())\n",
    "elif num == 4:\n",
    "    print(acc2.Check_balance())\n",
    "    \n",
    "\n",
    "    \n",
    "\n"
   ]
  },
  {
   "cell_type": "code",
   "execution_count": null,
   "id": "716f3875-aa83-4b1e-901f-0a561dcca3ba",
   "metadata": {},
   "outputs": [],
   "source": []
  },
  {
   "cell_type": "code",
   "execution_count": 36,
   "id": "f2bc5e2b-42fd-40d8-995c-6e5fa00ae80a",
   "metadata": {},
   "outputs": [
    {
     "name": "stdin",
     "output_type": "stream",
     "text": [
      "Enter Account Number:  123\n",
      "Enter Account Holder name:  sd\n",
      "Enter initial Account Balance:  123\n"
     ]
    },
    {
     "name": "stdout",
     "output_type": "stream",
     "text": [
      "Account Successfully Created\n",
      "Account Number:  123\n",
      "Account Holder Name:  sd\n",
      "Account Balance:  123\n",
      "None\n"
     ]
    }
   ],
   "source": [
    "Account_number = int(input(\"Enter Account Number: \"))\n",
    "Account_holder_name = input(\"Enter Account Holder name: \")\n",
    "Balance = int(input(\"Enter initial Account Balance: \"))\n",
    "\n",
    "class BankAccount:\n",
    "    def __init__ (self, Account_number, Account_holder_name, Balance):\n",
    "        self.Account_number = Account_number\n",
    "        self.Account_holder_name = Account_holder_name\n",
    "        self.Balance = Balance\n",
    "\n",
    "    #Defining Method to create account\n",
    "    def CreateAccount(self):\n",
    "        acc1 = BankAccount(Account_number, Account_holder_name, Balance)\n",
    "        print(\"Account Successfully Created\")\n",
    "        print(\"Account Number: \", acc1.Account_number)\n",
    "        print(\"Account Holder Name: \", acc1.Account_holder_name)\n",
    "        print(\"Account Balance: \", acc1.Balance)\n",
    "acc2 = BankAccount(Account_number, Account_holder_name, Balance)\n",
    "print(acc2.CreateAccount())"
   ]
  },
  {
   "cell_type": "code",
   "execution_count": null,
   "id": "38fce8f6-7ce2-41a9-b557-a3dce7620a54",
   "metadata": {},
   "outputs": [
    {
     "name": "stdout",
     "output_type": "stream",
     "text": [
      "\n",
      "--- Welcome to Simple Bank System ---\n",
      "1. Create Account\n",
      "2. Deposit Money\n",
      "3. Withdraw Money\n",
      "4. Check Balance\n",
      "5. Display Account Details\n",
      "6. Exit\n"
     ]
    },
    {
     "name": "stdin",
     "output_type": "stream",
     "text": [
      "Enter your choice:  2\n",
      "Enter amount to deposit:  10\n"
     ]
    },
    {
     "name": "stdout",
     "output_type": "stream",
     "text": [
      "Deposited 10.0. New balance is 10.0\n",
      "\n",
      "--- Welcome to Simple Bank System ---\n",
      "1. Create Account\n",
      "2. Deposit Money\n",
      "3. Withdraw Money\n",
      "4. Check Balance\n",
      "5. Display Account Details\n",
      "6. Exit\n"
     ]
    },
    {
     "name": "stdin",
     "output_type": "stream",
     "text": [
      "Enter your choice:  1\n",
      "Enter Account Number:  1234567890\n",
      "Enter Account Holder Name:  Awais Ali\n",
      "Enter Initial Balance:  10000\n"
     ]
    },
    {
     "name": "stdout",
     "output_type": "stream",
     "text": [
      "\n",
      "Account created successfully!\n",
      "\n",
      "--- Welcome to Simple Bank System ---\n",
      "1. Create Account\n",
      "2. Deposit Money\n",
      "3. Withdraw Money\n",
      "4. Check Balance\n",
      "5. Display Account Details\n",
      "6. Exit\n"
     ]
    },
    {
     "name": "stdin",
     "output_type": "stream",
     "text": [
      "Enter your choice:  5\n"
     ]
    },
    {
     "name": "stdout",
     "output_type": "stream",
     "text": [
      "Account Number: 1234567890\n",
      "Account Holder: Awais Ali\n",
      "Balance: 10000.0\n",
      "\n",
      "--- Welcome to Simple Bank System ---\n",
      "1. Create Account\n",
      "2. Deposit Money\n",
      "3. Withdraw Money\n",
      "4. Check Balance\n",
      "5. Display Account Details\n",
      "6. Exit\n"
     ]
    },
    {
     "name": "stdin",
     "output_type": "stream",
     "text": [
      "Enter your choice:  3\n",
      "Enter amount to withdraw:  1000\n"
     ]
    },
    {
     "name": "stdout",
     "output_type": "stream",
     "text": [
      "Withdrawn 1000.0. Remaining balance is 9000.0\n",
      "\n",
      "--- Welcome to Simple Bank System ---\n",
      "1. Create Account\n",
      "2. Deposit Money\n",
      "3. Withdraw Money\n",
      "4. Check Balance\n",
      "5. Display Account Details\n",
      "6. Exit\n"
     ]
    }
   ],
   "source": [
    "class BankAccount:\n",
    "    def __init__(self):\n",
    "        # Private attributes (Encapsulation)\n",
    "        self.__account_number = None\n",
    "        self.__account_holder_name = None\n",
    "        self.__balance = 0.0\n",
    "\n",
    "    # Method to create account\n",
    "    def create_account(self, acc_num, holder_name, initial_balance):\n",
    "        self.__account_number = acc_num\n",
    "        self.__account_holder_name = holder_name\n",
    "        self.__balance = initial_balance\n",
    "        print(\"\\nAccount created successfully!\")\n",
    "\n",
    "    # Deposit method (Abstraction)\n",
    "    def deposit(self, amount):\n",
    "        if amount > 0:\n",
    "            self.__balance += amount\n",
    "            print(f\"Deposited {amount}. New balance is {self.__balance}\")\n",
    "        else:\n",
    "            print(\"Invalid deposit amount!\")\n",
    "\n",
    "    # Withdraw method (Abstraction)\n",
    "    def withdraw(self, amount):\n",
    "        if amount <= self.__balance:\n",
    "            self.__balance -= amount\n",
    "            print(f\"Withdrawn {amount}. Remaining balance is {self.__balance}\")\n",
    "        else:\n",
    "            print(\"Insufficient funds!\")\n",
    "\n",
    "    # Check balance\n",
    "    def check_balance(self):\n",
    "        print(f\"Current balance: {self.__balance}\")\n",
    "\n",
    "    # Display account details\n",
    "    def display_account_details(self):\n",
    "        print(f\"Account Number: {self.__account_number}\")\n",
    "        print(f\"Account Holder: {self.__account_holder_name}\")\n",
    "        print(f\"Balance: {self.__balance}\")\n",
    "\n",
    "\n",
    "# Main Program\n",
    "account = BankAccount()\n",
    "\n",
    "while True:\n",
    "    print(\"\\n--- Welcome to Simple Bank System ---\")\n",
    "    print(\"1. Create Account\")\n",
    "    print(\"2. Deposit Money\")\n",
    "    print(\"3. Withdraw Money\")\n",
    "    print(\"4. Check Balance\")\n",
    "    print(\"5. Display Account Details\")\n",
    "    print(\"6. Exit\")\n",
    "\n",
    "    choice = int(input(\"Enter your choice: \"))\n",
    "\n",
    "    if choice == 1:\n",
    "        acc_num = int(input(\"Enter Account Number: \"))\n",
    "        name = input(\"Enter Account Holder Name: \")\n",
    "        balance = float(input(\"Enter Initial Balance: \"))\n",
    "        account.create_account(acc_num, name, balance)\n",
    "\n",
    "    elif choice == 2:\n",
    "        amount = float(input(\"Enter amount to deposit: \"))\n",
    "        account.deposit(amount)\n",
    "\n",
    "    elif choice == 3:\n",
    "        amount = float(input(\"Enter amount to withdraw: \"))\n",
    "        account.withdraw(amount)\n",
    "\n",
    "    elif choice == 4:\n",
    "        account.check_balance()\n",
    "\n",
    "    elif choice == 5:\n",
    "        account.display_account_details()\n",
    "\n",
    "    elif choice == 6:\n",
    "        print(\"Thank you for using our banking system!\")\n",
    "        break\n",
    "\n",
    "    else:\n",
    "        print(\"Invalid choice! Please try again.\")\n"
   ]
  },
  {
   "cell_type": "code",
   "execution_count": null,
   "id": "b6d96a4a-8707-4db2-add1-061f3967fa86",
   "metadata": {},
   "outputs": [],
   "source": []
  }
 ],
 "metadata": {
  "kernelspec": {
   "display_name": "Python 3 (ipykernel)",
   "language": "python",
   "name": "python3"
  },
  "language_info": {
   "codemirror_mode": {
    "name": "ipython",
    "version": 3
   },
   "file_extension": ".py",
   "mimetype": "text/x-python",
   "name": "python",
   "nbconvert_exporter": "python",
   "pygments_lexer": "ipython3",
   "version": "3.13.5"
  }
 },
 "nbformat": 4,
 "nbformat_minor": 5
}
