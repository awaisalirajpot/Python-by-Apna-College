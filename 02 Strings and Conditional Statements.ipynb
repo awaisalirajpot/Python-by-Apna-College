{
 "cells": [
  {
   "cell_type": "markdown",
   "id": "f32c1cea-deba-4242-9b27-f1876a6294e6",
   "metadata": {},
   "source": [
    "#### Lecture 02: Strings & Conditional Statements"
   ]
  },
  {
   "cell_type": "markdown",
   "id": "eb36777f-28df-4a91-8afb-0f36b8c47f2b",
   "metadata": {},
   "source": [
    "All Power is within You; You can Do Anything and Everything\n",
    "##### Strings"
   ]
  },
  {
   "cell_type": "code",
   "execution_count": 2,
   "id": "c9bc9f12-d980-4889-91d9-47d7c9fab67a",
   "metadata": {},
   "outputs": [
    {
     "data": {
      "text/plain": [
       "'helloworld'"
      ]
     },
     "execution_count": 2,
     "metadata": {},
     "output_type": "execute_result"
    }
   ],
   "source": [
    "\"hello\" + \"world\""
   ]
  },
  {
   "cell_type": "code",
   "execution_count": 5,
   "id": "a8de2271-c435-44e4-a1c1-691c9d5373fc",
   "metadata": {},
   "outputs": [
    {
     "data": {
      "text/plain": [
       "10"
      ]
     },
     "execution_count": 5,
     "metadata": {},
     "output_type": "execute_result"
    }
   ],
   "source": [
    "my_name = 'Awais  Ali'\n",
    "len(my_name)"
   ]
  },
  {
   "cell_type": "code",
   "execution_count": 8,
   "id": "179b16c9-a47e-466c-9e21-f45dd0ab8213",
   "metadata": {},
   "outputs": [
    {
     "name": "stdout",
     "output_type": "stream",
     "text": [
      "Awais Ali's work is to get into harvad\n",
      "Awais Ali's work is to doing what it needs to be done\n"
     ]
    }
   ],
   "source": [
    "# Why we use single double or triple qoutes its due the apostrophy\n",
    "print(\"Awais Ali's work is to get into harvad\")\n",
    "print('''Awais Ali's work is to doing what it needs to be done''')\n"
   ]
  },
  {
   "cell_type": "code",
   "execution_count": 11,
   "id": "0b3bfdf1-fcb2-4ced-9382-282de0dab52d",
   "metadata": {},
   "outputs": [
    {
     "name": "stdout",
     "output_type": "stream",
     "text": [
      "Things required to be done with certain consistancy. \n",
      "This needs certain level of practice.\n"
     ]
    }
   ],
   "source": [
    "#Escape Sequence character \n",
    "# \\n for next line\n",
    "# \\t for tab\n",
    "print(\"Things required to be done with certain consistancy. \\nThis needs certain level of practice.\")"
   ]
  },
  {
   "cell_type": "code",
   "execution_count": 12,
   "id": "ab17bfca-f274-4df5-8828-c9ac381061a1",
   "metadata": {},
   "outputs": [
    {
     "data": {
      "text/plain": [
       "'helloworld'"
      ]
     },
     "execution_count": 12,
     "metadata": {},
     "output_type": "execute_result"
    }
   ],
   "source": [
    "# Concatenation: combining two strings together is called concatenation\n",
    "\"hello\" + \"world\""
   ]
  },
  {
   "cell_type": "code",
   "execution_count": 13,
   "id": "235e1206-ffc5-492a-be66-4154af972cb2",
   "metadata": {},
   "outputs": [
    {
     "data": {
      "text/plain": [
       "10"
      ]
     },
     "execution_count": 13,
     "metadata": {},
     "output_type": "execute_result"
    }
   ],
   "source": [
    "len('helloworld')"
   ]
  },
  {
   "cell_type": "code",
   "execution_count": 18,
   "id": "5d98bd64-9982-4d23-82a6-47f6b7720697",
   "metadata": {},
   "outputs": [
    {
     "name": "stdout",
     "output_type": "stream",
     "text": [
      "My name is Awais Ali. I am studying at GCU Lahore\n"
     ]
    },
    {
     "data": {
      "text/plain": [
       "49"
      ]
     },
     "execution_count": 18,
     "metadata": {},
     "output_type": "execute_result"
    }
   ],
   "source": [
    "str1 = \"My name is Awais Ali.\"\n",
    "str2 = \"I am studying at GCU Lahore\"\n",
    "final_str = str1 + \" \" + str2 #Adding space\n",
    "print(final_str)\n",
    "len(final_str)"
   ]
  },
  {
   "cell_type": "markdown",
   "id": "8d33cd51-d048-4d95-87da-d4b8e5a7d0b3",
   "metadata": {},
   "source": [
    "##### Indexing & Slicing\n",
    "*Indexing* goes to even all things like spaces and special charaters etc. <br>\n",
    "It is used to access specific character\n",
    "Doesn't support item assignment means we cannot modify.\n",
    "<br>\n",
    "*Slicing:* accessing parts of a string"
   ]
  },
  {
   "cell_type": "code",
   "execution_count": 30,
   "id": "1156794f-0650-4878-9b6c-87e8459734bc",
   "metadata": {},
   "outputs": [
    {
     "name": "stdout",
     "output_type": "stream",
     "text": [
      "A\n",
      " \n",
      "pna \n",
      "12\n",
      "College\n",
      "College\n",
      "Apna\n"
     ]
    }
   ],
   "source": [
    "str4 = \"Apna College\"\n",
    "print(str4[0])\n",
    "print(str4[4])\n",
    "\n",
    "print(str4[1:5]) #pna C \n",
    "# remember the ending index is always excluded\n",
    "print(len(str4))\n",
    "print(str4[5:len(str4)])\n",
    "print(str4[5:]) #Learning automatically\n",
    "print(str4[:4])\n",
    "\n"
   ]
  },
  {
   "cell_type": "code",
   "execution_count": 34,
   "id": "bca15033-4bba-44e1-88cf-b5512295b47a",
   "metadata": {},
   "outputs": [
    {
     "name": "stdout",
     "output_type": "stream",
     "text": [
      "\n",
      "pl\n",
      "App\n"
     ]
    }
   ],
   "source": [
    "# Counting backword or Negative Index\n",
    "fruit = 'Apple'\n",
    "print(fruit[-1:-3]) # now that is considered wrong\n",
    "print(fruit[-3:-1]) # here still last one is neglected\n",
    "print(fruit[-5:-2])"
   ]
  },
  {
   "cell_type": "markdown",
   "id": "05cfe149-c070-47ec-9093-582cb1832f46",
   "metadata": {},
   "source": [
    "##### Strings basic Functions\n",
    "1. line.endswith()\n",
    "2. line.capitalize()\n",
    "3. line.replace()\n",
    "4. line.find()\n",
    "5. line.count() etc."
   ]
  },
  {
   "cell_type": "code",
   "execution_count": 37,
   "id": "942110ae-8f7d-48f4-94ed-e8dc62300954",
   "metadata": {},
   "outputs": [
    {
     "name": "stdout",
     "output_type": "stream",
     "text": [
      "True\n",
      "False\n"
     ]
    }
   ],
   "source": [
    "# Checking endswih\n",
    "line = 'Hey! are you participating in upcoming summit'\n",
    "print(line.endswith('mit'))\n",
    "print(line.endswith('mmi'))"
   ]
  },
  {
   "cell_type": "code",
   "execution_count": 41,
   "id": "d4112bd2-48fb-4795-8d5d-2ab655ca93ea",
   "metadata": {},
   "outputs": [
    {
     "name": "stdout",
     "output_type": "stream",
     "text": [
      "Hi! i am big fan of abrar hassan\n",
      "hi! I am big fan of Abrar Hassan\n",
      "Hi! i am big fan of abrar hassan\n"
     ]
    }
   ],
   "source": [
    "# Capitalize\n",
    "line2 = 'hi! I am big fan of Abrar Hassan'\n",
    "print(line2.capitalize()) # this is won't change the line2 originally\n",
    "print(line2) # it keep the original line same\n",
    "\n",
    "# now if we want to change the line2 permanently then\n",
    "line2 = line2.capitalize()\n",
    "print(line2)"
   ]
  },
  {
   "cell_type": "code",
   "execution_count": 44,
   "id": "0f5c624c-8929-4618-8d21-266fc329ca43",
   "metadata": {},
   "outputs": [
    {
     "name": "stdout",
     "output_type": "stream",
     "text": [
      "I l0ve watching c0ntent 0f Abrar Hassan fr0m my deep heart\n"
     ]
    }
   ],
   "source": [
    "#Replacing\n",
    "line3 = 'I love watching content of Abrar Hassan from my deep heart'\n",
    "print(line3.replace('o' , '0'))\n"
   ]
  },
  {
   "cell_type": "code",
   "execution_count": 46,
   "id": "b7f1bd67-2906-4b72-9a4c-2c1c1cf90105",
   "metadata": {},
   "outputs": [
    {
     "name": "stdout",
     "output_type": "stream",
     "text": [
      "13\n"
     ]
    }
   ],
   "source": [
    "# Finding\n",
    "line4 = 'I am trying to find letter o'\n",
    "print(line4.find('o')) # it will return the index of the letter"
   ]
  },
  {
   "cell_type": "code",
   "execution_count": 48,
   "id": "5573e391-1800-43cb-b813-a2301f0ee872",
   "metadata": {},
   "outputs": [
    {
     "name": "stdout",
     "output_type": "stream",
     "text": [
      "3\n"
     ]
    }
   ],
   "source": [
    "#Count \n",
    "line5 = 'I am doing working. \\nSo I am learning. \\nMeans I am improving'\n",
    "print(line5.count('am'))"
   ]
  },
  {
   "cell_type": "markdown",
   "id": "9020143d-586f-466b-92f6-2c6441b38d80",
   "metadata": {},
   "source": [
    "**Practice Question 1** <br>\n",
    "*WAP to input user's first name & print its length*"
   ]
  },
  {
   "cell_type": "code",
   "execution_count": 49,
   "id": "8aa2ad7a-9579-4472-ae6d-4b149467747c",
   "metadata": {},
   "outputs": [
    {
     "name": "stdin",
     "output_type": "stream",
     "text": [
      "Who are you? Awais Ali\n"
     ]
    },
    {
     "name": "stdout",
     "output_type": "stream",
     "text": [
      "You name consist of total 9 Characters\n"
     ]
    }
   ],
   "source": [
    "user_name = input('Who are you?')\n",
    "print(\"You name consist of total\" , len(user_name), \"Characters\")"
   ]
  },
  {
   "cell_type": "markdown",
   "id": "c4c75c4e-93bd-44a9-8217-1df870eeaf72",
   "metadata": {},
   "source": [
    "**Practice Question2** <br>\n",
    "*WAP to find the occurrence of '$' in a String.*"
   ]
  },
  {
   "cell_type": "code",
   "execution_count": 50,
   "id": "03cbf9c8-a689-4e2b-a186-7ad1e8d46936",
   "metadata": {},
   "outputs": [
    {
     "name": "stdout",
     "output_type": "stream",
     "text": [
      "2\n"
     ]
    }
   ],
   "source": [
    "string = 'How much total many in Dollars($). \\nIts 6$'\n",
    "print(string.count('$'))"
   ]
  },
  {
   "cell_type": "markdown",
   "id": "8341e7ae-5c6a-4270-abc2-4159c98b661c",
   "metadata": {},
   "source": [
    "**More Questions**"
   ]
  },
  {
   "cell_type": "code",
   "execution_count": 56,
   "id": "29065744-974b-455b-983b-a9ad73ea0ef1",
   "metadata": {},
   "outputs": [
    {
     "name": "stdout",
     "output_type": "stream",
     "text": [
      "A comes for: 7\n",
      "E comes for: 5\n",
      "i comes for: 5\n",
      "o comes for 6\n",
      "Total vowals in the string are:  23\n"
     ]
    }
   ],
   "source": [
    "#1. Write a program to count the number of vowels in a string.\n",
    "string = 'Hey I aaam woorking on different things like, learning python from IBM and from Shradha'\n",
    "a = string.count('a')\n",
    "print('A comes for:', a)\n",
    "e = string.count('e')\n",
    "print('E comes for:', e)\n",
    "i = string.count('i')\n",
    "print('i comes for:', i)\n",
    "o = string.count('o')\n",
    "print('o comes for', o)\n",
    "print(\"Total vowals in the string are: \", a+e+i+o)"
   ]
  },
  {
   "cell_type": "code",
   "execution_count": 62,
   "id": "8c89f780-3249-44ed-9417-b760fdb1c1c2",
   "metadata": {},
   "outputs": [
    {
     "name": "stdout",
     "output_type": "stream",
     "text": [
      "1\n",
      "Hey,-I-am-working-on-a-Project-which-is-based-on-strings\n",
      "True\n"
     ]
    }
   ],
   "source": [
    "# Given a string, count how many times each character appears.\n",
    "# Write a program that replaces all spaces in a string with -.\n",
    "# Given a string, remove all punctuation marks.\n",
    "# Write a program to check if one string is a substring of another.\n",
    "# Take a string and remove all duplicate characters.\n",
    "\n",
    "#1\n",
    "str1 = 'Hey, I am working on a Project which is based on strings'\n",
    "print(str1.count('H')) # but don't know how to calcute the each one\n",
    "\n",
    "#2\n",
    "print(str1.replace(' ', '-'))\n",
    "\n",
    "#3 remove doesn't worked again\n",
    "\n",
    "print(str1.endswith('ngs'))"
   ]
  },
  {
   "cell_type": "code",
   "execution_count": null,
   "id": "cceca081-e746-4ebc-858f-6ca03694774d",
   "metadata": {},
   "outputs": [],
   "source": []
  }
 ],
 "metadata": {
  "kernelspec": {
   "display_name": "Python 3 (ipykernel)",
   "language": "python",
   "name": "python3"
  },
  "language_info": {
   "codemirror_mode": {
    "name": "ipython",
    "version": 3
   },
   "file_extension": ".py",
   "mimetype": "text/x-python",
   "name": "python",
   "nbconvert_exporter": "python",
   "pygments_lexer": "ipython3",
   "version": "3.13.5"
  }
 },
 "nbformat": 4,
 "nbformat_minor": 5
}
