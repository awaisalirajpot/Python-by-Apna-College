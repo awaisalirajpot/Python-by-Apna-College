{
 "cells": [
  {
   "cell_type": "markdown",
   "id": "f32c1cea-deba-4242-9b27-f1876a6294e6",
   "metadata": {},
   "source": [
    "#### Lecture 02: Strings & Conditional Statements"
   ]
  },
  {
   "cell_type": "markdown",
   "id": "eb36777f-28df-4a91-8afb-0f36b8c47f2b",
   "metadata": {},
   "source": [
    "All Power is within You; You can Do Anything and Everything\n",
    "##### Strings"
   ]
  },
  {
   "cell_type": "code",
   "execution_count": 2,
   "id": "c9bc9f12-d980-4889-91d9-47d7c9fab67a",
   "metadata": {},
   "outputs": [
    {
     "data": {
      "text/plain": [
       "'helloworld'"
      ]
     },
     "execution_count": 2,
     "metadata": {},
     "output_type": "execute_result"
    }
   ],
   "source": [
    "\"hello\" + \"world\""
   ]
  },
  {
   "cell_type": "code",
   "execution_count": 5,
   "id": "a8de2271-c435-44e4-a1c1-691c9d5373fc",
   "metadata": {},
   "outputs": [
    {
     "data": {
      "text/plain": [
       "10"
      ]
     },
     "execution_count": 5,
     "metadata": {},
     "output_type": "execute_result"
    }
   ],
   "source": [
    "my_name = 'Awais  Ali'\n",
    "len(my_name)"
   ]
  },
  {
   "cell_type": "code",
   "execution_count": 8,
   "id": "179b16c9-a47e-466c-9e21-f45dd0ab8213",
   "metadata": {},
   "outputs": [
    {
     "name": "stdout",
     "output_type": "stream",
     "text": [
      "Awais Ali's work is to get into harvad\n",
      "Awais Ali's work is to doing what it needs to be done\n"
     ]
    }
   ],
   "source": [
    "# Why we use single double or triple qoutes its due the apostrophy\n",
    "print(\"Awais Ali's work is to get into harvad\")\n",
    "print('''Awais Ali's work is to doing what it needs to be done''')\n"
   ]
  },
  {
   "cell_type": "code",
   "execution_count": 11,
   "id": "0b3bfdf1-fcb2-4ced-9382-282de0dab52d",
   "metadata": {},
   "outputs": [
    {
     "name": "stdout",
     "output_type": "stream",
     "text": [
      "Things required to be done with certain consistancy. \n",
      "This needs certain level of practice.\n"
     ]
    }
   ],
   "source": [
    "#Escape Sequence character \n",
    "# \\n for next line\n",
    "# \\t for tab\n",
    "print(\"Things required to be done with certain consistancy. \\nThis needs certain level of practice.\")"
   ]
  },
  {
   "cell_type": "code",
   "execution_count": 12,
   "id": "ab17bfca-f274-4df5-8828-c9ac381061a1",
   "metadata": {},
   "outputs": [
    {
     "data": {
      "text/plain": [
       "'helloworld'"
      ]
     },
     "execution_count": 12,
     "metadata": {},
     "output_type": "execute_result"
    }
   ],
   "source": [
    "# Concatenation: combining two strings together is called concatenation\n",
    "\"hello\" + \"world\""
   ]
  },
  {
   "cell_type": "code",
   "execution_count": 13,
   "id": "235e1206-ffc5-492a-be66-4154af972cb2",
   "metadata": {},
   "outputs": [
    {
     "data": {
      "text/plain": [
       "10"
      ]
     },
     "execution_count": 13,
     "metadata": {},
     "output_type": "execute_result"
    }
   ],
   "source": [
    "len('helloworld')"
   ]
  },
  {
   "cell_type": "code",
   "execution_count": 18,
   "id": "5d98bd64-9982-4d23-82a6-47f6b7720697",
   "metadata": {},
   "outputs": [
    {
     "name": "stdout",
     "output_type": "stream",
     "text": [
      "My name is Awais Ali. I am studying at GCU Lahore\n"
     ]
    },
    {
     "data": {
      "text/plain": [
       "49"
      ]
     },
     "execution_count": 18,
     "metadata": {},
     "output_type": "execute_result"
    }
   ],
   "source": [
    "str1 = \"My name is Awais Ali.\"\n",
    "str2 = \"I am studying at GCU Lahore\"\n",
    "final_str = str1 + \" \" + str2 #Adding space\n",
    "print(final_str)\n",
    "len(final_str)"
   ]
  },
  {
   "cell_type": "markdown",
   "id": "8d33cd51-d048-4d95-87da-d4b8e5a7d0b3",
   "metadata": {},
   "source": [
    "##### Indexing & Slicing\n",
    "*Indexing* goes to even all things like spaces and special charaters etc. <br>\n",
    "It is used to access specific character\n",
    "Doesn't support item assignment means we cannot modify.\n",
    "<br>\n",
    "*Slicing:* accessing parts of a string"
   ]
  },
  {
   "cell_type": "code",
   "execution_count": 30,
   "id": "1156794f-0650-4878-9b6c-87e8459734bc",
   "metadata": {},
   "outputs": [
    {
     "name": "stdout",
     "output_type": "stream",
     "text": [
      "A\n",
      " \n",
      "pna \n",
      "12\n",
      "College\n",
      "College\n",
      "Apna\n"
     ]
    }
   ],
   "source": [
    "str4 = \"Apna College\"\n",
    "print(str4[0])\n",
    "print(str4[4])\n",
    "\n",
    "print(str4[1:5]) #pna C \n",
    "# remember the ending index is always excluded\n",
    "print(len(str4))\n",
    "print(str4[5:len(str4)])\n",
    "print(str4[5:]) #Learning automatically\n",
    "print(str4[:4])\n",
    "\n"
   ]
  },
  {
   "cell_type": "code",
   "execution_count": 34,
   "id": "bca15033-4bba-44e1-88cf-b5512295b47a",
   "metadata": {},
   "outputs": [
    {
     "name": "stdout",
     "output_type": "stream",
     "text": [
      "\n",
      "pl\n",
      "App\n"
     ]
    }
   ],
   "source": [
    "# Counting backword or Negative Index\n",
    "fruit = 'Apple'\n",
    "print(fruit[-1:-3]) # now that is considered wrong\n",
    "print(fruit[-3:-1]) # here still last one is neglected\n",
    "print(fruit[-5:-2])"
   ]
  },
  {
   "cell_type": "markdown",
   "id": "05cfe149-c070-47ec-9093-582cb1832f46",
   "metadata": {},
   "source": [
    "##### Strings basic Functions\n",
    "1. line.endswith()\n",
    "2. line.capitalize()\n",
    "3. line.replace()\n",
    "4. line.find()\n",
    "5. line.count() etc."
   ]
  },
  {
   "cell_type": "code",
   "execution_count": 37,
   "id": "942110ae-8f7d-48f4-94ed-e8dc62300954",
   "metadata": {},
   "outputs": [
    {
     "name": "stdout",
     "output_type": "stream",
     "text": [
      "True\n",
      "False\n"
     ]
    }
   ],
   "source": [
    "# Checking endswih\n",
    "line = 'Hey! are you participating in upcoming summit'\n",
    "print(line.endswith('mit'))\n",
    "print(line.endswith('mmi'))"
   ]
  },
  {
   "cell_type": "code",
   "execution_count": 41,
   "id": "d4112bd2-48fb-4795-8d5d-2ab655ca93ea",
   "metadata": {},
   "outputs": [
    {
     "name": "stdout",
     "output_type": "stream",
     "text": [
      "Hi! i am big fan of abrar hassan\n",
      "hi! I am big fan of Abrar Hassan\n",
      "Hi! i am big fan of abrar hassan\n"
     ]
    }
   ],
   "source": [
    "# Capitalize\n",
    "line2 = 'hi! I am big fan of Abrar Hassan'\n",
    "print(line2.capitalize()) # this is won't change the line2 originally\n",
    "print(line2) # it keep the original line same\n",
    "\n",
    "# now if we want to change the line2 permanently then\n",
    "line2 = line2.capitalize()\n",
    "print(line2)"
   ]
  },
  {
   "cell_type": "code",
   "execution_count": 44,
   "id": "0f5c624c-8929-4618-8d21-266fc329ca43",
   "metadata": {},
   "outputs": [
    {
     "name": "stdout",
     "output_type": "stream",
     "text": [
      "I l0ve watching c0ntent 0f Abrar Hassan fr0m my deep heart\n"
     ]
    }
   ],
   "source": [
    "#Replacing\n",
    "line3 = 'I love watching content of Abrar Hassan from my deep heart'\n",
    "print(line3.replace('o' , '0'))\n"
   ]
  },
  {
   "cell_type": "code",
   "execution_count": 46,
   "id": "b7f1bd67-2906-4b72-9a4c-2c1c1cf90105",
   "metadata": {},
   "outputs": [
    {
     "name": "stdout",
     "output_type": "stream",
     "text": [
      "13\n"
     ]
    }
   ],
   "source": [
    "# Finding\n",
    "line4 = 'I am trying to find letter o'\n",
    "print(line4.find('o')) # it will return the index of the letter"
   ]
  },
  {
   "cell_type": "code",
   "execution_count": 48,
   "id": "5573e391-1800-43cb-b813-a2301f0ee872",
   "metadata": {},
   "outputs": [
    {
     "name": "stdout",
     "output_type": "stream",
     "text": [
      "3\n"
     ]
    }
   ],
   "source": [
    "#Count \n",
    "line5 = 'I am doing working. \\nSo I am learning. \\nMeans I am improving'\n",
    "print(line5.count('am'))"
   ]
  },
  {
   "cell_type": "markdown",
   "id": "9020143d-586f-466b-92f6-2c6441b38d80",
   "metadata": {},
   "source": [
    "**Practice Question 1** <br>\n",
    "*WAP to input user's first name & print its length*"
   ]
  },
  {
   "cell_type": "code",
   "execution_count": 49,
   "id": "8aa2ad7a-9579-4472-ae6d-4b149467747c",
   "metadata": {},
   "outputs": [
    {
     "name": "stdin",
     "output_type": "stream",
     "text": [
      "Who are you? Awais Ali\n"
     ]
    },
    {
     "name": "stdout",
     "output_type": "stream",
     "text": [
      "You name consist of total 9 Characters\n"
     ]
    }
   ],
   "source": [
    "user_name = input('Who are you?')\n",
    "print(\"You name consist of total\" , len(user_name), \"Characters\")"
   ]
  },
  {
   "cell_type": "markdown",
   "id": "c4c75c4e-93bd-44a9-8217-1df870eeaf72",
   "metadata": {},
   "source": [
    "**Practice Question2** <br>\n",
    "*WAP to find the occurrence of '$' in a String.*"
   ]
  },
  {
   "cell_type": "code",
   "execution_count": 50,
   "id": "03cbf9c8-a689-4e2b-a186-7ad1e8d46936",
   "metadata": {},
   "outputs": [
    {
     "name": "stdout",
     "output_type": "stream",
     "text": [
      "2\n"
     ]
    }
   ],
   "source": [
    "string = 'How much total many in Dollars($). \\nIts 6$'\n",
    "print(string.count('$'))"
   ]
  },
  {
   "cell_type": "markdown",
   "id": "8341e7ae-5c6a-4270-abc2-4159c98b661c",
   "metadata": {},
   "source": [
    "**More Questions**"
   ]
  },
  {
   "cell_type": "code",
   "execution_count": 56,
   "id": "29065744-974b-455b-983b-a9ad73ea0ef1",
   "metadata": {},
   "outputs": [
    {
     "name": "stdout",
     "output_type": "stream",
     "text": [
      "A comes for: 7\n",
      "E comes for: 5\n",
      "i comes for: 5\n",
      "o comes for 6\n",
      "Total vowals in the string are:  23\n"
     ]
    }
   ],
   "source": [
    "#1. Write a program to count the number of vowels in a string.\n",
    "string = 'Hey I aaam woorking on different things like, learning python from IBM and from Shradha'\n",
    "a = string.count('a')\n",
    "print('A comes for:', a)\n",
    "e = string.count('e')\n",
    "print('E comes for:', e)\n",
    "i = string.count('i')\n",
    "print('i comes for:', i)\n",
    "o = string.count('o')\n",
    "print('o comes for', o)\n",
    "print(\"Total vowals in the string are: \", a+e+i+o)"
   ]
  },
  {
   "cell_type": "code",
   "execution_count": 62,
   "id": "8c89f780-3249-44ed-9417-b760fdb1c1c2",
   "metadata": {},
   "outputs": [
    {
     "name": "stdout",
     "output_type": "stream",
     "text": [
      "1\n",
      "Hey,-I-am-working-on-a-Project-which-is-based-on-strings\n",
      "True\n"
     ]
    }
   ],
   "source": [
    "# Given a string, count how many times each character appears.\n",
    "# Write a program that replaces all spaces in a string with -.\n",
    "# Given a string, remove all punctuation marks.\n",
    "# Write a program to check if one string is a substring of another.\n",
    "# Take a string and remove all duplicate characters.\n",
    "\n",
    "#1\n",
    "str1 = 'Hey, I am working on a Project which is based on strings'\n",
    "print(str1.count('H')) # but don't know how to calcute the each one\n",
    "\n",
    "#2\n",
    "print(str1.replace(' ', '-'))\n",
    "\n",
    "#3 remove doesn't worked again\n",
    "\n",
    "print(str1.endswith('ngs'))"
   ]
  },
  {
   "cell_type": "code",
   "execution_count": 63,
   "id": "cceca081-e746-4ebc-858f-6ca03694774d",
   "metadata": {},
   "outputs": [
    {
     "name": "stdout",
     "output_type": "stream",
     "text": [
      "hi\n"
     ]
    }
   ],
   "source": [
    "print('hi')"
   ]
  },
  {
   "cell_type": "markdown",
   "id": "bbc0e1d8-e1f0-4e6a-bbbe-40dfbccb7710",
   "metadata": {},
   "source": [
    "##### Conditional Statements & Nesting\n",
    "if-elif-else (syntax)\n",
    "*difference b/w if and elif: if always check and execute while elif exits once a condition true*"
   ]
  },
  {
   "cell_type": "code",
   "execution_count": 2,
   "id": "b5d4f664-2862-4577-9c1c-83bddd39a993",
   "metadata": {},
   "outputs": [
    {
     "name": "stdout",
     "output_type": "stream",
     "text": [
      "not eligible\n"
     ]
    }
   ],
   "source": [
    "age = 20\n",
    "if age >= 22:\n",
    "    print('Eligible for Licenese')  #True\n",
    "else:\n",
    "    print('not eligible')"
   ]
  },
  {
   "cell_type": "code",
   "execution_count": 7,
   "id": "cbee7566-ae41-4a1a-a5ea-d7f186da61f7",
   "metadata": {},
   "outputs": [
    {
     "name": "stdout",
     "output_type": "stream",
     "text": [
      "go\n"
     ]
    }
   ],
   "source": [
    "# Trafic Light\n",
    "light = \"green\"\n",
    "if (light == \"red\"):\n",
    "    print('stop') #Indentation\n",
    "elif (light == \"green\"):\n",
    "    print('go')\n",
    "elif (light == \"yellow\"):\n",
    "    print('ready')\n",
    "else:\n",
    "    print ('add valid entity')"
   ]
  },
  {
   "cell_type": "code",
   "execution_count": 8,
   "id": "c2c37ab7-159a-473f-a674-d6ee9328e61f",
   "metadata": {},
   "outputs": [
    {
     "name": "stdout",
     "output_type": "stream",
     "text": [
      "Number is greater than 2\n",
      "Number is greater than 4\n"
     ]
    }
   ],
   "source": [
    "num = 5\n",
    "if (num>2):\n",
    "    print('Number is greater than 2')\n",
    "if (num>4):\n",
    "    print('Number is greater than 4')"
   ]
  },
  {
   "cell_type": "code",
   "execution_count": 12,
   "id": "cdfbb136-58d7-44f5-a533-4f90ac3b7d06",
   "metadata": {},
   "outputs": [
    {
     "name": "stdin",
     "output_type": "stream",
     "text": [
      "Enter your makrs 4\n"
     ]
    },
    {
     "name": "stdout",
     "output_type": "stream",
     "text": [
      "out of syllabus\n"
     ]
    }
   ],
   "source": [
    "# If all conditions are false then else will print\n",
    "marks = int(input('Enter your makrs'))\n",
    "if marks >= 90:\n",
    "    print(\"Your grade is A\")\n",
    "elif marks >= 80:\n",
    "    print(\"Your grade is B\")\n",
    "elif marks >= 70:\n",
    "    print(\"Your grade is C\")\n",
    "elif marks >= 60:\n",
    "    print(\"Fail\")\n",
    "else:\n",
    "    print('out of syllabus')"
   ]
  },
  {
   "cell_type": "code",
   "execution_count": 16,
   "id": "e7ccc4f8-ad45-4da7-8a39-01a7c340392f",
   "metadata": {},
   "outputs": [
    {
     "name": "stdin",
     "output_type": "stream",
     "text": [
      "Enter your makrs 99\n"
     ]
    },
    {
     "name": "stdout",
     "output_type": "stream",
     "text": [
      "Your grade is A\n"
     ]
    }
   ],
   "source": [
    "# If all conditions are false then else will print\n",
    "marks = int(input('Enter your makrs'))\n",
    "if marks >= 90 and marks <= 100:\n",
    "    print(\"Your grade is A\")\n",
    "elif marks >= 80 and marks <= 89:\n",
    "    print(\"Your grade is B\")\n",
    "elif marks >= 70 and marks <= 79:\n",
    "    print(\"Your grade is C\")\n",
    "elif marks >= 60 and marks <= 69:\n",
    "    print(\"Fail\")\n",
    "else:\n",
    "    print('out of syllabus')"
   ]
  },
  {
   "cell_type": "code",
   "execution_count": 19,
   "id": "ff09b70b-1947-430e-82e5-165082d280a6",
   "metadata": {},
   "outputs": [
    {
     "name": "stdin",
     "output_type": "stream",
     "text": [
      "Enter students marks:  90\n"
     ]
    },
    {
     "name": "stdout",
     "output_type": "stream",
     "text": [
      "Grade of the student -> A\n"
     ]
    }
   ],
   "source": [
    "# third way of writing the same the code\n",
    "marks = int(input('Enter students marks: '))\n",
    "if marks >= 90 and marks <=100:\n",
    "    grade = \"A\"\n",
    "elif marks >= 80 and marks < 90:\n",
    "    grade = \"B\"\n",
    "elif marks >= 70 and marks < 80:\n",
    "    grade = \"C\"\n",
    "elif marks >= 60 and marks < 70:\n",
    "    grade = \"D\"\n",
    "else:\n",
    "    grade = \"Fail\"\n",
    "print(\"Grade of the student ->\", grade)"
   ]
  },
  {
   "cell_type": "code",
   "execution_count": 23,
   "id": "8e01428a-713c-4688-acbe-53c071fa0e85",
   "metadata": {},
   "outputs": [
    {
     "name": "stdin",
     "output_type": "stream",
     "text": [
      "Enter your age:  18\n"
     ]
    },
    {
     "name": "stdout",
     "output_type": "stream",
     "text": [
      "Can drive\n"
     ]
    }
   ],
   "source": [
    "# Nesting (also)\n",
    "age = int(input('Enter your age: '))\n",
    "if age >= 18:\n",
    "    if age >= 80:\n",
    "        print('Cannot drive')\n",
    "    else:\n",
    "        print(\"Can drive\")\n",
    "else:\n",
    "    print('You are too young')"
   ]
  },
  {
   "cell_type": "code",
   "execution_count": 25,
   "id": "309904f3-b279-44a8-86fe-2558886aca61",
   "metadata": {},
   "outputs": [
    {
     "name": "stdin",
     "output_type": "stream",
     "text": [
      "Enter a number 54\n"
     ]
    },
    {
     "name": "stdout",
     "output_type": "stream",
     "text": [
      "Number is Even\n"
     ]
    }
   ],
   "source": [
    "# Practice Questions \n",
    "# WAP to check if number is even or odd\n",
    "num = int(input('Enter a number'))\n",
    "if num % 2 == 0:\n",
    "    print(\"Number is Even\")\n",
    "else:\n",
    "    print(\"Number is odd\")"
   ]
  },
  {
   "cell_type": "code",
   "execution_count": 30,
   "id": "ee071572-4739-482f-b27f-a1aa17e82c57",
   "metadata": {},
   "outputs": [
    {
     "name": "stdin",
     "output_type": "stream",
     "text": [
      "Enter first number:  12\n",
      "Enter second Number:  12\n",
      "Enter third number:  11\n"
     ]
    },
    {
     "name": "stdout",
     "output_type": "stream",
     "text": [
      "11\n"
     ]
    }
   ],
   "source": [
    "# WAP to find greatest of 3 numbers entered by the user.\n",
    "num1 = int(input(\"Enter first number: \"))\n",
    "num2 = int(input(\"Enter second Number: \"))\n",
    "num3 = int(input(\"Enter third number: \"))\n",
    "if num1 > num2 and num1 > num3:\n",
    "    print(num1)\n",
    "elif num2 > num1 and num2 > num3:\n",
    "    print(num2)\n",
    "else:\n",
    "    print(num3)"
   ]
  },
  {
   "cell_type": "code",
   "execution_count": 40,
   "id": "715eb813-9374-4d4c-99ae-799726a9fa54",
   "metadata": {},
   "outputs": [
    {
     "name": "stdin",
     "output_type": "stream",
     "text": [
      "Enter number:  12\n",
      "Enter second Number:  12\n",
      "Enter third Number:  11\n"
     ]
    },
    {
     "name": "stdout",
     "output_type": "stream",
     "text": [
      "12 First greatest number\n"
     ]
    }
   ],
   "source": [
    "a = int(input(\"Enter number: \"))\n",
    "b = int(input(\"Enter second Number: \"))\n",
    "c = int(input(\"Enter third Number: \"))\n",
    "if a>=b and a>=c:\n",
    "    print(a, \"First greatest number\")\n",
    "elif b>=c:\n",
    "    print(b, \"Second greatest number.\")\n",
    "else:\n",
    "    print(c, \"Third greatest Number.\")"
   ]
  },
  {
   "cell_type": "code",
   "execution_count": 34,
   "id": "fd149eec-8adb-41c1-bf9c-3e5541e16ba9",
   "metadata": {},
   "outputs": [
    {
     "name": "stdin",
     "output_type": "stream",
     "text": [
      "Enter a Number:  45\n"
     ]
    },
    {
     "name": "stdout",
     "output_type": "stream",
     "text": [
      "45 its not divisible\n"
     ]
    }
   ],
   "source": [
    "# WAP to if a number is  a multiple of 7 or not.\n",
    "num = int(input('Enter a Number: '))\n",
    "if num % 7 == 0:\n",
    "    print(\"It's divisible by 7\")\n",
    "else:\n",
    "    print(num, \"its not divisible\")"
   ]
  },
  {
   "cell_type": "code",
   "execution_count": 45,
   "id": "e340b028-cc84-49b7-afbf-da2c5d341871",
   "metadata": {},
   "outputs": [
    {
     "name": "stdin",
     "output_type": "stream",
     "text": [
      "1st:  15\n",
      "2nd:  32\n",
      "3rd:  553\n",
      "4th:  5553\n"
     ]
    },
    {
     "name": "stdout",
     "output_type": "stream",
     "text": [
      "5553 Fourth is greatest\n"
     ]
    }
   ],
   "source": [
    "# Largest of 4 numbers\n",
    "a = int(input(\"1st: \"))\n",
    "b = int(input(\"2nd: \"))\n",
    "c = int(input(\"3rd: \"))\n",
    "d = int(input(\"4th: \"))\n",
    "if a>=b and a>=c and a>=d:\n",
    "    print(a , \"First number is Greatest\")\n",
    "elif b>=c and b>=d:\n",
    "    print(b, \"Second is greatest\")\n",
    "elif c>=d:\n",
    "    print(c, \"Third is greatest\")\n",
    "else:\n",
    "    print(d, \"Fourth is greatest\")"
   ]
  },
  {
   "cell_type": "markdown",
   "id": "f326ef70-bbf7-4554-9fd6-908a6030dfaf",
   "metadata": {},
   "source": [
    "##### Practice Questions..."
   ]
  },
  {
   "cell_type": "code",
   "execution_count": 3,
   "id": "0019dcba-45e9-4745-bd4d-bfe4e04c7410",
   "metadata": {},
   "outputs": [
    {
     "name": "stdin",
     "output_type": "stream",
     "text": [
      "enter a number 0\n"
     ]
    },
    {
     "name": "stdout",
     "output_type": "stream",
     "text": [
      "0.0 Is a zero\n"
     ]
    }
   ],
   "source": [
    "#Write a program to check if a number is positive, negative, or zero.\n",
    "num = float(input ('enter a number'))\n",
    "if num < 0:\n",
    "    print(num, \"Is a negitive number\")\n",
    "elif num == 0:\n",
    "    print(num, \"Is a zero\")\n",
    "else:\n",
    "    print(num, \"Is a Positive number\")"
   ]
  },
  {
   "cell_type": "code",
   "execution_count": 5,
   "id": "0893e7e8-5d1c-4a66-952f-764447b404d8",
   "metadata": {},
   "outputs": [
    {
     "name": "stdin",
     "output_type": "stream",
     "text": [
      "Enter your age:  19\n"
     ]
    },
    {
     "name": "stdout",
     "output_type": "stream",
     "text": [
      "You can vote\n"
     ]
    }
   ],
   "source": [
    "#Write a program to check if a person is eligible to vote (age ≥ 18).\n",
    "age = int(input('Enter your age: '))\n",
    "if age >= 18:\n",
    "    print('You can vote')\n",
    "else:\n",
    "    print('you are under age')"
   ]
  },
  {
   "cell_type": "code",
   "execution_count": 9,
   "id": "0c7711fe-2834-4fbd-a9d1-1f527b6b16f3",
   "metadata": {},
   "outputs": [
    {
     "name": "stdin",
     "output_type": "stream",
     "text": [
      "Enter Year:  2012\n"
     ]
    },
    {
     "name": "stdout",
     "output_type": "stream",
     "text": [
      "2012 its not leap\n"
     ]
    }
   ],
   "source": [
    "year = int(input(\"Enter Year: \"))\n",
    "if year % 4 == 0:\n",
    "    if year % 400 == 0:\n",
    "        print(year, \"is a leap year\")\n",
    "    else:\n",
    "        print(year, \"its not leap\")"
   ]
  },
  {
   "cell_type": "code",
   "execution_count": 16,
   "id": "84e8a231-cd6f-437a-8287-36752d35a092",
   "metadata": {},
   "outputs": [
    {
     "name": "stdin",
     "output_type": "stream",
     "text": [
      "Enter year 2000\n"
     ]
    },
    {
     "name": "stdout",
     "output_type": "stream",
     "text": [
      "2000 Not Leap Year\n"
     ]
    }
   ],
   "source": [
    "year = int(input(\"Enter year\"))\n",
    "if year % 4 == 0 and year % 100 == 0:\n",
    "    print(year, \"Not Leap Year\")\n",
    "elif year % 4 == 0:\n",
    "    print(year, \"Leep Year\")\n",
    "elif year % 100 == 0 and year % 400 == 0:\n",
    "    print(year, \"Leap year\")\n",
    "else:\n",
    "    print(\"enter valid entity\")"
   ]
  },
  {
   "cell_type": "markdown",
   "id": "e3df3345-f689-4ebc-a4d8-edde465fd7ac",
   "metadata": {},
   "source": [
    "year = int(input(\"Enter year: \"))\n",
    "if year % 4 == 0 and year % 100 == 0 and year % 400 == 0:\n",
    "    if year % 4 == 0 and year % 100 == 0:\n",
    "        print(year, \"Not Leap\")\n",
    "    else:\n",
    "        print(year, \"Leap year\")\n",
    "else:\n",
    "    print('enter valid')\n",
    "\n",
    "    "
   ]
  },
  {
   "cell_type": "code",
   "execution_count": 21,
   "id": "3ed85b7d-369e-4626-ae54-7fecfd830bbe",
   "metadata": {},
   "outputs": [
    {
     "data": {
      "text/plain": [
       "True"
      ]
     },
     "execution_count": 21,
     "metadata": {},
     "output_type": "execute_result"
    }
   ],
   "source": [
    "2024 % 4 == 0\n"
   ]
  },
  {
   "cell_type": "code",
   "execution_count": 31,
   "id": "4977e016-06fe-44d6-a57f-e41663310f0e",
   "metadata": {},
   "outputs": [
    {
     "name": "stdin",
     "output_type": "stream",
     "text": [
      "enter year 1999\n"
     ]
    },
    {
     "name": "stdout",
     "output_type": "stream",
     "text": [
      "enter a valid number\n"
     ]
    }
   ],
   "source": [
    "year = int (input(\"enter year\"))\n",
    "if year % 400 == 0:\n",
    "    print(year, \"Leap\")\n",
    "elif year % 4 == 0 and year % 100 == 0:\n",
    "    print(year, \"not a Leap year\")\n",
    "elif year % 4 == 0:\n",
    "    print(year, \"Leap\")\n",
    "else:\n",
    "    print(\"enter a valid number\")"
   ]
  },
  {
   "cell_type": "code",
   "execution_count": 36,
   "id": "bb58097d-ef7a-4af5-b5ae-5fd30fc1087b",
   "metadata": {},
   "outputs": [
    {
     "name": "stdin",
     "output_type": "stream",
     "text": [
      "Enter year:  1900\n"
     ]
    },
    {
     "name": "stdout",
     "output_type": "stream",
     "text": [
      "Not Leap\n"
     ]
    }
   ],
   "source": [
    "year = int(input(\"Enter year: \"))\n",
    "if year % 400 == 0:\n",
    "    print('Leap')\n",
    "elif year % 100 == 0:\n",
    "    print('Not Leap')\n",
    "elif year % 4 == 0:\n",
    "    print('Leap')\n",
    "else:\n",
    "    print('not leap')"
   ]
  },
  {
   "cell_type": "code",
   "execution_count": 39,
   "id": "734a15be-cdb6-4017-aca8-cee3947b3277",
   "metadata": {},
   "outputs": [
    {
     "name": "stdin",
     "output_type": "stream",
     "text": [
      "Enter character w\n"
     ]
    },
    {
     "name": "stdout",
     "output_type": "stream",
     "text": [
      "w its a consonent\n"
     ]
    }
   ],
   "source": [
    "# Write a program to check if a character entered is a vowel or a consonant.\n",
    "char = input('Enter character')\n",
    "if char == \"a\" or char == \"e\" or char == \"i\" or char == \"o\" or char == \"u\":\n",
    "    print(char, \"is a vowal\")\n",
    "else:\n",
    "    print(char, \"its a consonent\")"
   ]
  },
  {
   "cell_type": "code",
   "execution_count": 42,
   "id": "43648a3c-af06-4a56-9aea-0c238bed0030",
   "metadata": {},
   "outputs": [
    {
     "name": "stdin",
     "output_type": "stream",
     "text": [
      "Enter a character:  q\n"
     ]
    },
    {
     "name": "stdout",
     "output_type": "stream",
     "text": [
      "consonent\n"
     ]
    }
   ],
   "source": [
    "char = input(\"Enter a character: \")\n",
    "if char.lower() in ['a', 'e', 'i', 'o', 'u']:\n",
    "    print(char, \"is a vowel\")\n",
    "else:\n",
    "    print(\"consonent\")"
   ]
  },
  {
   "cell_type": "code",
   "execution_count": 50,
   "id": "b9bda4e5-08d6-4c5d-88e0-c5f6187c3c59",
   "metadata": {},
   "outputs": [
    {
     "name": "stdin",
     "output_type": "stream",
     "text": [
      "Enter a number: 44\n"
     ]
    },
    {
     "name": "stdout",
     "output_type": "stream",
     "text": [
      "Divisible by none\n"
     ]
    }
   ],
   "source": [
    "# Write a program to check if a number is divisible by both 3 and 5, only one of them, or none.\n",
    "num = int(input(\"Enter a number:\" ))\n",
    "if num % 3 == 0 and num % 5 == 0:\n",
    "    print(num, \"is divisible by both\")\n",
    "elif num % 3 == 0 and num % 5 != 0:\n",
    "    print(num, \"is divisible by 3 only\")\n",
    "elif num % 3 != 0 and num % 5 == 0:\n",
    "    print(num, \"is divisible by 5 only\")\n",
    "else:\n",
    "    print(\"Divisible by none\")"
   ]
  },
  {
   "cell_type": "code",
   "execution_count": 52,
   "id": "f08468bf-fa50-42a6-9b57-64464bb48b4d",
   "metadata": {},
   "outputs": [
    {
     "data": {
      "text/plain": [
       "'McalJcsn'"
      ]
     },
     "execution_count": 52,
     "metadata": {},
     "output_type": "execute_result"
    }
   ],
   "source": [
    "name = \"Michael Jackson\"\n",
    "name[::2]"
   ]
  },
  {
   "cell_type": "code",
   "execution_count": 53,
   "id": "5ac7de5c-0e15-4830-ba59-fe1c069355ef",
   "metadata": {},
   "outputs": [
    {
     "data": {
      "text/plain": [
       "'Mca'"
      ]
     },
     "execution_count": 53,
     "metadata": {},
     "output_type": "execute_result"
    }
   ],
   "source": [
    "name[0:5:2]"
   ]
  },
  {
   "cell_type": "code",
   "execution_count": 54,
   "id": "98e655bb-85d3-4b45-a847-98f8b9433a01",
   "metadata": {},
   "outputs": [
    {
     "data": {
      "text/plain": [
       "'Michael JacksonMichael JacksonMichael Jackson'"
      ]
     },
     "execution_count": 54,
     "metadata": {},
     "output_type": "execute_result"
    }
   ],
   "source": [
    "3 * 'Michael Jackson'"
   ]
  },
  {
   "cell_type": "code",
   "execution_count": 55,
   "id": "f4a20dbe-b28c-4a6e-9f40-0a8eef77da63",
   "metadata": {},
   "outputs": [],
   "source": [
    "name = name + \" \" + \"is the best\""
   ]
  },
  {
   "cell_type": "code",
   "execution_count": 56,
   "id": "815d5631-2b23-4c48-9682-5d929fe9e1d7",
   "metadata": {},
   "outputs": [
    {
     "name": "stdout",
     "output_type": "stream",
     "text": [
      "Michael Jackson is the best\n"
     ]
    }
   ],
   "source": [
    "print(name)"
   ]
  },
  {
   "cell_type": "code",
   "execution_count": 57,
   "id": "20a6df80-a1ff-406e-b1bd-e5d79e18123b",
   "metadata": {},
   "outputs": [
    {
     "name": "stdout",
     "output_type": "stream",
     "text": [
      "awais ali \\ is a good man\n"
     ]
    }
   ],
   "source": [
    "print('awais ali \\\\ is a good man')"
   ]
  },
  {
   "cell_type": "code",
   "execution_count": 60,
   "id": "c2410b29-bb46-4388-9d2b-5ab6ccd871e1",
   "metadata": {},
   "outputs": [
    {
     "name": "stdout",
     "output_type": "stream",
     "text": [
      "THRILLER IS THE SIXTH STUDIO ALBUM\n"
     ]
    },
    {
     "data": {
      "text/plain": [
       "'THRILLER IS THE SIXTH STUDIO ALBUM'"
      ]
     },
     "execution_count": 60,
     "metadata": {},
     "output_type": "execute_result"
    }
   ],
   "source": [
    "A = \"Thriller is the sixth studio album\"\n",
    "print(A.upper())\n",
    "A = A.upper()\n",
    "A"
   ]
  },
  {
   "cell_type": "code",
   "execution_count": 61,
   "id": "b5b635e8-5d0a-4366-901c-043cf6864095",
   "metadata": {},
   "outputs": [
    {
     "name": "stdout",
     "output_type": "stream",
     "text": [
      "AwAIS IS THE SIXTH STUDIO ALBUM\n"
     ]
    }
   ],
   "source": [
    "B = A.replace('THRILLER', 'AwAIS')\n",
    "print(B)"
   ]
  },
  {
   "cell_type": "code",
   "execution_count": 64,
   "id": "028fee20-272a-4130-86f6-c176c964016d",
   "metadata": {},
   "outputs": [
    {
     "name": "stdout",
     "output_type": "stream",
     "text": [
      "4\n"
     ]
    }
   ],
   "source": [
    "print(A.find('LL'))"
   ]
  },
  {
   "cell_type": "code",
   "execution_count": 66,
   "id": "226130a4-304d-45f6-872a-5c70190a8fc3",
   "metadata": {},
   "outputs": [
    {
     "name": "stdout",
     "output_type": "stream",
     "text": [
      "My name is Awais and I am 25 year old\n"
     ]
    }
   ],
   "source": [
    "\n",
    "name = \"Awais\"\n",
    "age = 25\n",
    "print(f\"My name is {name} and I am {age} year old\")"
   ]
  },
  {
   "cell_type": "code",
   "execution_count": null,
   "id": "167a5215-3512-4068-8e53-de2e6af5a78d",
   "metadata": {},
   "outputs": [],
   "source": []
  }
 ],
 "metadata": {
  "kernelspec": {
   "display_name": "Python 3 (ipykernel)",
   "language": "python",
   "name": "python3"
  },
  "language_info": {
   "codemirror_mode": {
    "name": "ipython",
    "version": 3
   },
   "file_extension": ".py",
   "mimetype": "text/x-python",
   "name": "python",
   "nbconvert_exporter": "python",
   "pygments_lexer": "ipython3",
   "version": "3.13.5"
  }
 },
 "nbformat": 4,
 "nbformat_minor": 5
}
