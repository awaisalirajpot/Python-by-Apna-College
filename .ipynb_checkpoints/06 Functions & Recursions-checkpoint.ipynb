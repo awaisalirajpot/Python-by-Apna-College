{
 "cells": [
  {
   "cell_type": "markdown",
   "id": "ea1afa59-2689-449f-8cd9-088f1a92fe20",
   "metadata": {},
   "source": [
    "#### Functions And Recursions"
   ]
  },
  {
   "cell_type": "code",
   "execution_count": 2,
   "id": "98944209-adc4-4119-9531-975954d25a81",
   "metadata": {},
   "outputs": [
    {
     "name": "stdout",
     "output_type": "stream",
     "text": [
      "26\n"
     ]
    }
   ],
   "source": [
    "# Functions in python\n",
    "# Block of statements that perform a specific task.\n",
    "# redundant\n",
    "def Sum (a, b):\n",
    "    print(a+b)\n",
    "Sum(3,23)"
   ]
  },
  {
   "cell_type": "code",
   "execution_count": 6,
   "id": "e849d480-e652-4dec-97ef-f6b1d2110a7c",
   "metadata": {},
   "outputs": [
    {
     "data": {
      "text/plain": [
       "47"
      ]
     },
     "execution_count": 6,
     "metadata": {},
     "output_type": "execute_result"
    }
   ],
   "source": [
    "def calc_sum(a, b): #parameters like variables names\n",
    "    Sum = a + b\n",
    "    return Sum\n",
    "calc_sum(24,23) #Arguements are actuall values"
   ]
  },
  {
   "cell_type": "code",
   "execution_count": 10,
   "id": "21911849-8c07-4ec6-a390-ec016df4c517",
   "metadata": {},
   "outputs": [
    {
     "name": "stdout",
     "output_type": "stream",
     "text": [
      "hello\n",
      "None\n"
     ]
    }
   ],
   "source": [
    "def print_hello():\n",
    "    print(\"hello\")\n",
    "output = print_hello()\n",
    "print(output)"
   ]
  },
  {
   "cell_type": "code",
   "execution_count": 11,
   "id": "22d3f090-849c-4e61-84d3-05ce2ab59590",
   "metadata": {},
   "outputs": [],
   "source": [
    "# Average of three numbers\n",
    "def average(a, b, c):\n",
    "    Sum = a+b+c\n",
    "    print(Sum/3)\n",
    "    "
   ]
  },
  {
   "cell_type": "code",
   "execution_count": 12,
   "id": "bc439ae8-53a4-4695-9d7b-afbfce8a1065",
   "metadata": {},
   "outputs": [
    {
     "name": "stdout",
     "output_type": "stream",
     "text": [
      "3.0\n"
     ]
    }
   ],
   "source": [
    "average(3,2,4)"
   ]
  },
  {
   "cell_type": "markdown",
   "id": "9f6ea93b-a8cb-42ba-a4a2-88930c23e491",
   "metadata": {},
   "source": [
    "##### Two types of functions\n",
    "1. Built-in Functions\n",
    "2. User defined functions"
   ]
  },
  {
   "cell_type": "code",
   "execution_count": 13,
   "id": "aa652abf-6d90-4b11-a7a0-357ec065eb80",
   "metadata": {},
   "outputs": [
    {
     "name": "stdout",
     "output_type": "stream",
     "text": [
      "apna college\n"
     ]
    }
   ],
   "source": [
    "# Looking into how built-in function worked\n",
    "print('apna college') #apna college is an argument here"
   ]
  },
  {
   "cell_type": "code",
   "execution_count": 14,
   "id": "46d69e85-33c9-4133-a279-bba32935848c",
   "metadata": {},
   "outputs": [
    {
     "name": "stdout",
     "output_type": "stream",
     "text": [
      "Help on built-in function print in module builtins:\n",
      "\n",
      "print(*args, sep=' ', end='\\n', file=None, flush=False)\n",
      "    Prints the values to a stream, or to sys.stdout by default.\n",
      "\n",
      "    sep\n",
      "      string inserted between values, default a space.\n",
      "    end\n",
      "      string appended after the last value, default a newline.\n",
      "    file\n",
      "      a file-like object (stream); defaults to the current sys.stdout.\n",
      "    flush\n",
      "      whether to forcibly flush the stream.\n",
      "\n"
     ]
    }
   ],
   "source": [
    "help(print)"
   ]
  },
  {
   "cell_type": "code",
   "execution_count": 16,
   "id": "c8b835e1-85d4-4bce-b9ce-eb7ecbf42164",
   "metadata": {},
   "outputs": [
    {
     "name": "stdout",
     "output_type": "stream",
     "text": [
      "Awais Ali\n"
     ]
    }
   ],
   "source": [
    "print(\"Awais\", end = \" \") #since its not #end = \"\\n\"\n",
    "print(\"Ali\")"
   ]
  },
  {
   "cell_type": "code",
   "execution_count": 18,
   "id": "98dff4c3-b53d-4ab1-8994-9aa8518c628d",
   "metadata": {},
   "outputs": [
    {
     "name": "stdout",
     "output_type": "stream",
     "text": [
      "Help on built-in function len in module builtins:\n",
      "\n",
      "len(obj, /)\n",
      "    Return the number of items in a container.\n",
      "\n"
     ]
    }
   ],
   "source": [
    "help(len)"
   ]
  },
  {
   "cell_type": "code",
   "execution_count": 22,
   "id": "ebd4bc40-56e6-4d35-8f30-4d6f19d48294",
   "metadata": {},
   "outputs": [
    {
     "ename": "TypeError",
     "evalue": "Prod() missing 2 required positional arguments: 'a' and 'b'",
     "output_type": "error",
     "traceback": [
      "\u001b[1;31m---------------------------------------------------------------------------\u001b[0m",
      "\u001b[1;31mTypeError\u001b[0m                                 Traceback (most recent call last)",
      "Cell \u001b[1;32mIn[22], line 3\u001b[0m\n\u001b[0;32m      1\u001b[0m \u001b[38;5;28;01mdef\u001b[39;00m\u001b[38;5;250m \u001b[39m\u001b[38;5;21mProd\u001b[39m(a, b):\n\u001b[0;32m      2\u001b[0m     \u001b[38;5;28;01mreturn\u001b[39;00m a\u001b[38;5;241m*\u001b[39mb\n\u001b[1;32m----> 3\u001b[0m Prod()\n",
      "\u001b[1;31mTypeError\u001b[0m: Prod() missing 2 required positional arguments: 'a' and 'b'"
     ]
    }
   ],
   "source": [
    "def Prod(a, b):\n",
    "    return a*b\n",
    "Prod()"
   ]
  },
  {
   "cell_type": "code",
   "execution_count": 23,
   "id": "82dd5e5f-2b5d-4a00-acc3-e803abf4444b",
   "metadata": {},
   "outputs": [
    {
     "ename": "TypeError",
     "evalue": "Prod() missing 1 required positional argument: 'b'",
     "output_type": "error",
     "traceback": [
      "\u001b[1;31m---------------------------------------------------------------------------\u001b[0m",
      "\u001b[1;31mTypeError\u001b[0m                                 Traceback (most recent call last)",
      "Cell \u001b[1;32mIn[23], line 1\u001b[0m\n\u001b[1;32m----> 1\u001b[0m Prod(\u001b[38;5;241m3\u001b[39m)\n",
      "\u001b[1;31mTypeError\u001b[0m: Prod() missing 1 required positional argument: 'b'"
     ]
    }
   ],
   "source": [
    "Prod(3)"
   ]
  },
  {
   "cell_type": "code",
   "execution_count": 24,
   "id": "756cc248-a230-4232-9abe-18c9e613d5ca",
   "metadata": {},
   "outputs": [
    {
     "data": {
      "text/plain": [
       "6"
      ]
     },
     "execution_count": 24,
     "metadata": {},
     "output_type": "execute_result"
    }
   ],
   "source": [
    "Prod(3,2)"
   ]
  },
  {
   "cell_type": "markdown",
   "id": "a61411ed-b511-4eec-8b75-23d4946e307a",
   "metadata": {},
   "source": [
    "##### Giving the default values to overcome this problem of missing values"
   ]
  },
  {
   "cell_type": "code",
   "execution_count": 27,
   "id": "60eaf637-efca-44cd-875a-d8bbf04cf0d6",
   "metadata": {},
   "outputs": [],
   "source": [
    "def calProd(a = 1, b = 1):\n",
    "    return a*b"
   ]
  },
  {
   "cell_type": "code",
   "execution_count": 28,
   "id": "83c4afeb-5829-4a6f-831c-caa7693ae1f6",
   "metadata": {},
   "outputs": [
    {
     "data": {
      "text/plain": [
       "3"
      ]
     },
     "execution_count": 28,
     "metadata": {},
     "output_type": "execute_result"
    }
   ],
   "source": [
    "calProd(3)"
   ]
  },
  {
   "cell_type": "markdown",
   "id": "c16be6da-887b-48cb-b74d-27a39c5438b4",
   "metadata": {},
   "source": [
    "##### Practice Questions"
   ]
  },
  {
   "cell_type": "code",
   "execution_count": 29,
   "id": "44deec88-8fc8-4b04-8038-e7fc5ad9432b",
   "metadata": {},
   "outputs": [],
   "source": [
    "# WAF to print the length of a list.\n",
    "def Len(List):\n",
    "    for i in List:\n",
    "        print(i)\n",
    "        print(len(List))"
   ]
  },
  {
   "cell_type": "code",
   "execution_count": 31,
   "id": "9214af30-41ab-43ca-9fd6-9ed1f19cbf21",
   "metadata": {},
   "outputs": [
    {
     "name": "stdout",
     "output_type": "stream",
     "text": [
      "4\n"
     ]
    }
   ],
   "source": [
    "cities = ['lahore', 'islamabad', 'Karachi', 'Multan']\n",
    "def printL (list):\n",
    "    print(len(cities))\n",
    "printL(cities)"
   ]
  },
  {
   "cell_type": "code",
   "execution_count": 37,
   "id": "d03fdfaf-6a74-4154-b3b4-fa739019c11a",
   "metadata": {},
   "outputs": [
    {
     "name": "stdout",
     "output_type": "stream",
     "text": [
      "lahore islamabad Karachi Multan "
     ]
    }
   ],
   "source": [
    "print(cities[0], end = \" \")\n",
    "print(cities[1], end = \" \")\n",
    "print(cities[2], end = \" \")\n",
    "print(cities[3], end = \" \")"
   ]
  },
  {
   "cell_type": "code",
   "execution_count": 38,
   "id": "09db32ec-8296-4a19-b31c-6d54acef29dd",
   "metadata": {},
   "outputs": [],
   "source": [
    "def P(list):\n",
    "    for item in list:\n",
    "        print(item, end= \" \")"
   ]
  },
  {
   "cell_type": "code",
   "execution_count": 39,
   "id": "b3d3f8c7-218d-420b-a266-f24f20171f81",
   "metadata": {},
   "outputs": [
    {
     "name": "stdout",
     "output_type": "stream",
     "text": [
      "lahore islamabad Karachi Multan "
     ]
    }
   ],
   "source": [
    "P(cities)"
   ]
  },
  {
   "cell_type": "code",
   "execution_count": null,
   "id": "cba1a38f-4840-4f61-8c64-0fe5b3da3108",
   "metadata": {},
   "outputs": [],
   "source": []
  }
 ],
 "metadata": {
  "kernelspec": {
   "display_name": "Python 3 (ipykernel)",
   "language": "python",
   "name": "python3"
  },
  "language_info": {
   "codemirror_mode": {
    "name": "ipython",
    "version": 3
   },
   "file_extension": ".py",
   "mimetype": "text/x-python",
   "name": "python",
   "nbconvert_exporter": "python",
   "pygments_lexer": "ipython3",
   "version": "3.13.5"
  }
 },
 "nbformat": 4,
 "nbformat_minor": 5
}
