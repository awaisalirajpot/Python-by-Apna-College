{
 "cells": [
  {
   "cell_type": "markdown",
   "id": "306f6266-b5fe-42e4-8a88-6736f1db1559",
   "metadata": {},
   "source": [
    "#### Lists in Python\n",
    "*A built-in data type that stores set of values* <br>\n",
    "*It can store elements of different types (integer, float, string, etc.)*\n"
   ]
  },
  {
   "cell_type": "code",
   "execution_count": 1,
   "id": "88f075d0-3147-4f7e-9ebb-b134e6d7fba8",
   "metadata": {},
   "outputs": [
    {
     "name": "stdout",
     "output_type": "stream",
     "text": [
      "[43, 54, 22, 21, 45, 22]\n"
     ]
    }
   ],
   "source": [
    "# Storing marks\n",
    "marks1 = 50\n",
    "marks2 = 30\n",
    "marks3 = 20\n",
    "marks4 = 23\n",
    "marks5 = 22\n",
    "\n",
    "# or Storing this way\n",
    "marks = [43, 54,22, 21, 45, 22] #list\n",
    "print(marks)"
   ]
  },
  {
   "cell_type": "code",
   "execution_count": 2,
   "id": "a5410f08-6d8e-4350-be66-f2235dfc3e55",
   "metadata": {},
   "outputs": [
    {
     "data": {
      "text/plain": [
       "list"
      ]
     },
     "execution_count": 2,
     "metadata": {},
     "output_type": "execute_result"
    }
   ],
   "source": [
    "type(marks)"
   ]
  },
  {
   "cell_type": "code",
   "execution_count": 9,
   "id": "b8f22111-86d3-4a5d-b13b-2bef855999a8",
   "metadata": {},
   "outputs": [
    {
     "data": {
      "text/plain": [
       "['Awais', 54]"
      ]
     },
     "execution_count": 9,
     "metadata": {},
     "output_type": "execute_result"
    }
   ],
   "source": [
    "#List Slicings\n",
    "marks[0:2]"
   ]
  },
  {
   "cell_type": "code",
   "execution_count": 4,
   "id": "574922d7-3b17-4a97-8e05-ffcb1b211d66",
   "metadata": {},
   "outputs": [
    {
     "data": {
      "text/plain": [
       "6"
      ]
     },
     "execution_count": 4,
     "metadata": {},
     "output_type": "execute_result"
    }
   ],
   "source": [
    "len(marks)"
   ]
  },
  {
   "cell_type": "code",
   "execution_count": 6,
   "id": "6127fc60-8a12-423e-84c7-ce63aef91e96",
   "metadata": {},
   "outputs": [
    {
     "data": {
      "text/plain": [
       "['Awais', 54, 22, 21, 45, 22]"
      ]
     },
     "execution_count": 6,
     "metadata": {},
     "output_type": "execute_result"
    }
   ],
   "source": [
    "# List are muteable\n",
    "marks[0] = \"Awais\"\n",
    "marks"
   ]
  },
  {
   "cell_type": "code",
   "execution_count": 7,
   "id": "9cb4124f-eb22-4004-b552-6521fff566fe",
   "metadata": {},
   "outputs": [
    {
     "data": {
      "text/plain": [
       "['Awais', 54, 22, 21]"
      ]
     },
     "execution_count": 7,
     "metadata": {},
     "output_type": "execute_result"
    }
   ],
   "source": [
    "# Indices: elements inside the list\n",
    "marks[:4]"
   ]
  },
  {
   "cell_type": "code",
   "execution_count": 8,
   "id": "813a5dbf-9f7c-454e-8cf2-9529ab913565",
   "metadata": {},
   "outputs": [
    {
     "data": {
      "text/plain": [
       "[54, 22, 21, 45, 22]"
      ]
     },
     "execution_count": 8,
     "metadata": {},
     "output_type": "execute_result"
    }
   ],
   "source": [
    "marks[1:]"
   ]
  },
  {
   "cell_type": "markdown",
   "id": "e6ffeeef-8919-4b94-80f3-c944cfc0410c",
   "metadata": {},
   "source": [
    "#### List Methods\n",
    "These methods can be list specific, will be working mostly on list \n",
    "1. list = [2, 1, 4]\n",
    "2. list.append(4)\n",
    "3. list.sort()\n",
    "4. list.sort(reverse=True)\n",
    "5. list.reverse()\n",
    "6. list.insert"
   ]
  },
  {
   "cell_type": "code",
   "execution_count": 10,
   "id": "4b760e82-39b3-43f5-aed0-f30d5fe619ec",
   "metadata": {},
   "outputs": [
    {
     "data": {
      "text/plain": [
       "[3, 1, 4, 2, 5]"
      ]
     },
     "execution_count": 10,
     "metadata": {},
     "output_type": "execute_result"
    }
   ],
   "source": [
    "listt = [3,1,4,2]\n",
    "listt.append(5) #mutation\n",
    "listt"
   ]
  },
  {
   "cell_type": "code",
   "execution_count": 11,
   "id": "ec233c9b-9701-48d9-b89a-6866b6eb9e86",
   "metadata": {},
   "outputs": [
    {
     "data": {
      "text/plain": [
       "[1, 2, 3, 4, 5]"
      ]
     },
     "execution_count": 11,
     "metadata": {},
     "output_type": "execute_result"
    }
   ],
   "source": [
    "listt.sort()\n",
    "listt"
   ]
  },
  {
   "cell_type": "code",
   "execution_count": 13,
   "id": "8da2c563-10b9-422d-8305-de503c229828",
   "metadata": {},
   "outputs": [
    {
     "data": {
      "text/plain": [
       "[5, 4, 3, 2, 1]"
      ]
     },
     "execution_count": 13,
     "metadata": {},
     "output_type": "execute_result"
    }
   ],
   "source": [
    "listt.sort(reverse = True)\n",
    "listt"
   ]
  },
  {
   "cell_type": "code",
   "execution_count": 14,
   "id": "79d33ce6-4668-440e-ba35-6d029dceceb2",
   "metadata": {},
   "outputs": [
    {
     "name": "stdout",
     "output_type": "stream",
     "text": [
      "None\n"
     ]
    }
   ],
   "source": [
    "print(listt.append(6)) #have some own rules not like string"
   ]
  },
  {
   "cell_type": "code",
   "execution_count": 15,
   "id": "1058a7a1-e73d-4010-9a30-930132d49b90",
   "metadata": {},
   "outputs": [
    {
     "ename": "AttributeError",
     "evalue": "'int' object has no attribute 'sort'",
     "output_type": "error",
     "traceback": [
      "\u001b[1;31m---------------------------------------------------------------------------\u001b[0m",
      "\u001b[1;31mAttributeError\u001b[0m                            Traceback (most recent call last)",
      "Cell \u001b[1;32mIn[15], line 2\u001b[0m\n\u001b[0;32m      1\u001b[0m num \u001b[38;5;241m=\u001b[39m \u001b[38;5;241m23213\u001b[39m\n\u001b[1;32m----> 2\u001b[0m num\u001b[38;5;241m.\u001b[39msort(reverse \u001b[38;5;241m=\u001b[39m \u001b[38;5;28;01mTrue\u001b[39;00m)\n\u001b[0;32m      3\u001b[0m num\n",
      "\u001b[1;31mAttributeError\u001b[0m: 'int' object has no attribute 'sort'"
     ]
    }
   ],
   "source": [
    "num = 23213\n",
    "num.sort(reverse = True)\n",
    "num"
   ]
  },
  {
   "cell_type": "code",
   "execution_count": 17,
   "id": "15698095-a9f0-4339-a324-c1c3b9b5b973",
   "metadata": {},
   "outputs": [
    {
     "data": {
      "text/plain": [
       "[5, 4, 3, 2, 1, 6]"
      ]
     },
     "execution_count": 17,
     "metadata": {},
     "output_type": "execute_result"
    }
   ],
   "source": [
    "listt.reverse()\n",
    "listt"
   ]
  },
  {
   "cell_type": "code",
   "execution_count": 18,
   "id": "f12e1b23-8b6f-4352-aadd-dd9772cefe0b",
   "metadata": {},
   "outputs": [
    {
     "data": {
      "text/plain": [
       "[5, 4, 99, 3, 2, 1, 6]"
      ]
     },
     "execution_count": 18,
     "metadata": {},
     "output_type": "execute_result"
    }
   ],
   "source": [
    "listt.insert(2, 99) #4\n",
    "listt"
   ]
  },
  {
   "cell_type": "code",
   "execution_count": 23,
   "id": "9df118fd-c03d-4ecf-9cd6-30fdb73a50ea",
   "metadata": {},
   "outputs": [
    {
     "data": {
      "text/plain": [
       "[5, 2, 1, 6]"
      ]
     },
     "execution_count": 23,
     "metadata": {},
     "output_type": "execute_result"
    }
   ],
   "source": [
    "listt.remove(3)\n",
    "listt"
   ]
  },
  {
   "cell_type": "code",
   "execution_count": 25,
   "id": "052d6077-6fab-4ccd-8fd1-1a1091b8eee5",
   "metadata": {},
   "outputs": [
    {
     "data": {
      "text/plain": [
       "[5, 2]"
      ]
     },
     "execution_count": 25,
     "metadata": {},
     "output_type": "execute_result"
    }
   ],
   "source": [
    "listt.pop(2) #delete at particular index\n",
    "listt "
   ]
  },
  {
   "cell_type": "markdown",
   "id": "efd82917-be8e-4a9e-a8fa-533d7759e745",
   "metadata": {},
   "source": [
    "#### Tuples in Python\n",
    "*A built-in data type that lets us create immutable sequences of values* <br>\n"
   ]
  },
  {
   "cell_type": "code",
   "execution_count": 27,
   "id": "4bacde22-861e-42b0-b4a9-2bdf2b0f2a0f",
   "metadata": {},
   "outputs": [
    {
     "name": "stdout",
     "output_type": "stream",
     "text": [
      "<class 'tuple'>\n"
     ]
    },
    {
     "data": {
      "text/plain": [
       "3"
      ]
     },
     "execution_count": 27,
     "metadata": {},
     "output_type": "execute_result"
    }
   ],
   "source": [
    "tup = (3,23,11,4,1,42,1)\n",
    "print(type(tup))\n",
    "tup[0]"
   ]
  },
  {
   "cell_type": "code",
   "execution_count": 29,
   "id": "dab1be02-0205-42a3-9317-c09ab73a3f5f",
   "metadata": {},
   "outputs": [
    {
     "name": "stdout",
     "output_type": "stream",
     "text": [
      "<class 'tuple'>\n",
      "<class 'tuple'>\n"
     ]
    }
   ],
   "source": [
    "tup1 = () #empty tuple\n",
    "tup2 = (1,) #single value tuple\n",
    "print(type(tup1))\n",
    "print(type(tup2))"
   ]
  },
  {
   "cell_type": "code",
   "execution_count": 30,
   "id": "daca5400-75fd-4339-a2a9-615322606b70",
   "metadata": {},
   "outputs": [
    {
     "name": "stdout",
     "output_type": "stream",
     "text": [
      "(3, 23, 11, 4, 1, 42, 1)\n"
     ]
    }
   ],
   "source": [
    "#Slicing\n",
    "print(tup[0:])"
   ]
  },
  {
   "cell_type": "code",
   "execution_count": 33,
   "id": "a6dc3b24-8ae3-4bf7-8d52-ce4fd4119591",
   "metadata": {},
   "outputs": [
    {
     "data": {
      "text/plain": [
       "4"
      ]
     },
     "execution_count": 33,
     "metadata": {},
     "output_type": "execute_result"
    }
   ],
   "source": [
    "tup.index(1)\n"
   ]
  },
  {
   "cell_type": "code",
   "execution_count": 35,
   "id": "faf1ce87-a5c0-4e6b-a4ce-d93e1a644df2",
   "metadata": {},
   "outputs": [
    {
     "data": {
      "text/plain": [
       "2"
      ]
     },
     "execution_count": 35,
     "metadata": {},
     "output_type": "execute_result"
    }
   ],
   "source": [
    "tup.count(1)"
   ]
  },
  {
   "cell_type": "markdown",
   "id": "e17344bf-97fe-4e4c-8301-b3f2379c382e",
   "metadata": {},
   "source": [
    "#### Practice Questions"
   ]
  },
  {
   "cell_type": "code",
   "execution_count": 36,
   "id": "ff8af4a9-cd02-4ee2-bda1-bc6ddf064e32",
   "metadata": {},
   "outputs": [
    {
     "name": "stdin",
     "output_type": "stream",
     "text": [
      "Enter your first favorite movie Pink\n",
      "Enter your second favorite movie PK\n",
      "Enter your third favorite movie 3 Idiots\n"
     ]
    },
    {
     "name": "stdout",
     "output_type": "stream",
     "text": [
      "['Pink', 'PK', '3 Idiots']\n"
     ]
    }
   ],
   "source": [
    "# WAP to ask user to enter names of their 3 favorite movies & Store them in a list\n",
    "movie1 = input(\"Enter your first favorite movie\")\n",
    "movie2 = input(\"Enter your second favorite movie\")\n",
    "movie3 = input(\"Enter your third favorite movie\")\n",
    "movies = [movie1, movie2, movie3]\n",
    "print(movies)"
   ]
  },
  {
   "cell_type": "code",
   "execution_count": 37,
   "id": "9cb623a8-15ca-4eb1-b7a2-4f5732c65100",
   "metadata": {},
   "outputs": [
    {
     "name": "stdin",
     "output_type": "stream",
     "text": [
      "1st a\n",
      "2nd b\n",
      "3rd as\n"
     ]
    },
    {
     "name": "stdout",
     "output_type": "stream",
     "text": [
      "['a', 'b', 'as']\n"
     ]
    }
   ],
   "source": [
    "# Second way\n",
    "movies = [] # create an empty movie list\n",
    "mov1 = input('1st')\n",
    "mov2 = input('2nd')\n",
    "mov3 = input('3rd')\n",
    "\n",
    "movies.append(mov1)\n",
    "movies.append(mov2)\n",
    "movies.append(mov3)\n",
    "\n",
    "print(movies)"
   ]
  },
  {
   "cell_type": "code",
   "execution_count": 41,
   "id": "ace2a993-bd37-4703-8b05-f2c882db558c",
   "metadata": {},
   "outputs": [
    {
     "name": "stdin",
     "output_type": "stream",
     "text": [
      "1sr fw\n",
      "2nd fe\n",
      "3rd dfe\n"
     ]
    },
    {
     "name": "stdout",
     "output_type": "stream",
     "text": [
      "['fw', 'fe', 'dfe']\n"
     ]
    }
   ],
   "source": [
    "movie = []\n",
    "\n",
    "movie.append(input(\"1sr\"))\n",
    "movie.append(input(\"2nd\"))\n",
    "movie.append(input(\"3rd\"))\n",
    "\n",
    "print(movie)"
   ]
  },
  {
   "cell_type": "code",
   "execution_count": null,
   "id": "a0b1b134-2e98-4757-9fe6-e3f3f08499e9",
   "metadata": {},
   "outputs": [],
   "source": []
  },
  {
   "cell_type": "code",
   "execution_count": 44,
   "id": "1ac7bb2e-98fc-4c46-aab0-59796cf823d3",
   "metadata": {},
   "outputs": [
    {
     "name": "stdout",
     "output_type": "stream",
     "text": [
      "Palindrome\n"
     ]
    }
   ],
   "source": [
    "# WAP to check if a list contains a palindrome of elements. (Hint: use copy() method)\n",
    "# Palindrome is a word that is same to read from start or read from \n",
    "# like mam, racecar similarly a list can also be palindrome like\n",
    "# [1,2,3,2,1]\n",
    "\n",
    "ls = [1,2, 3, 2, 1]\n",
    "ls1 = ls.copy()\n",
    "if ls == ls1:\n",
    "    print('Palindrome')\n",
    "else:\n",
    "    print(\"not palindrome\")"
   ]
  },
  {
   "cell_type": "code",
   "execution_count": 54,
   "id": "62120236-ea59-4585-9196-dba4472b467f",
   "metadata": {},
   "outputs": [
    {
     "ename": "AttributeError",
     "evalue": "'builtin_function_or_method' object has no attribute 'reverse'",
     "output_type": "error",
     "traceback": [
      "\u001b[1;31m---------------------------------------------------------------------------\u001b[0m",
      "\u001b[1;31mAttributeError\u001b[0m                            Traceback (most recent call last)",
      "Cell \u001b[1;32mIn[54], line 2\u001b[0m\n\u001b[0;32m      1\u001b[0m ls2 \u001b[38;5;241m=\u001b[39m ls\u001b[38;5;241m.\u001b[39mcopy\n\u001b[1;32m----> 2\u001b[0m ls2\u001b[38;5;241m.\u001b[39mreverse()\n\u001b[0;32m      3\u001b[0m \u001b[38;5;28;01mif\u001b[39;00m ls \u001b[38;5;241m==\u001b[39m ls2:\n\u001b[0;32m      4\u001b[0m     \u001b[38;5;28mprint\u001b[39m(\u001b[38;5;124m\"\u001b[39m\u001b[38;5;124mPalindrome\u001b[39m\u001b[38;5;124m\"\u001b[39m)\n",
      "\u001b[1;31mAttributeError\u001b[0m: 'builtin_function_or_method' object has no attribute 'reverse'"
     ]
    }
   ],
   "source": [
    "ls2 = ls.copy\n",
    "ls2.reverse()\n",
    "if ls == ls2:\n",
    "    print(\"Palindrome\")\n",
    "else:\n",
    "    print(\"Not palindrome\")"
   ]
  },
  {
   "cell_type": "code",
   "execution_count": 47,
   "id": "b602ea94-2c52-4c47-bf27-399a43afb503",
   "metadata": {},
   "outputs": [
    {
     "data": {
      "text/plain": [
       "[1, 2, 3, 2, 1]"
      ]
     },
     "execution_count": 47,
     "metadata": {},
     "output_type": "execute_result"
    }
   ],
   "source": [
    "ls.reverse()\n",
    "ls"
   ]
  },
  {
   "cell_type": "code",
   "execution_count": 49,
   "id": "a424f854-16fa-4113-b657-33974fa88d21",
   "metadata": {},
   "outputs": [
    {
     "data": {
      "text/plain": [
       "[11, 22, 33]"
      ]
     },
     "execution_count": 49,
     "metadata": {},
     "output_type": "execute_result"
    }
   ],
   "source": [
    "ls5 = [33,22,11]\n",
    "ls5.reverse()\n",
    "ls5"
   ]
  },
  {
   "cell_type": "code",
   "execution_count": 52,
   "id": "d506fa5d-7012-44f3-bcad-83f5cc93099b",
   "metadata": {},
   "outputs": [
    {
     "name": "stdout",
     "output_type": "stream",
     "text": [
      "Palindrome\n"
     ]
    }
   ],
   "source": [
    "a = [1,2,3,4,3,2,1]\n",
    "b = a.copy()\n",
    "b.reverse()\n",
    "if a == b:\n",
    "    print(\"Palindrome\")\n",
    "else:\n",
    "    print(\"not\")"
   ]
  },
  {
   "cell_type": "code",
   "execution_count": 56,
   "id": "10d8c5d4-b86c-459c-a356-794be92edfa0",
   "metadata": {},
   "outputs": [
    {
     "data": {
      "text/plain": [
       "True"
      ]
     },
     "execution_count": 56,
     "metadata": {},
     "output_type": "execute_result"
    }
   ],
   "source": [
    "list01 = [1 , 'abc', 'abc' , 1]\n",
    "list02 = list01.copy()\n",
    "list01 == list02"
   ]
  },
  {
   "cell_type": "code",
   "execution_count": 57,
   "id": "1dc72737-0111-4782-9d9a-ac8070a13e96",
   "metadata": {},
   "outputs": [
    {
     "data": {
      "text/plain": [
       "3"
      ]
     },
     "execution_count": 57,
     "metadata": {},
     "output_type": "execute_result"
    }
   ],
   "source": [
    "# WAP to count the number of students with the \"A\" grade in the followig tuple\n",
    "grades = ['C', 'D', 'A', 'A', 'B', 'B', 'A']\n",
    "grades.count('A')"
   ]
  },
  {
   "cell_type": "code",
   "execution_count": 58,
   "id": "630ac86b-9f7d-4068-b3a4-07ac9a63b399",
   "metadata": {},
   "outputs": [
    {
     "data": {
      "text/plain": [
       "['A', 'A', 'A', 'B', 'B', 'C', 'D']"
      ]
     },
     "execution_count": 58,
     "metadata": {},
     "output_type": "execute_result"
    }
   ],
   "source": [
    "grades.sort()\n",
    "grades"
   ]
  },
  {
   "cell_type": "code",
   "execution_count": 65,
   "id": "4e0a1378-330c-44f5-8852-1dd003ffc2ec",
   "metadata": {},
   "outputs": [
    {
     "data": {
      "text/plain": [
       "[5, 10, 15, 20]"
      ]
     },
     "execution_count": 65,
     "metadata": {},
     "output_type": "execute_result"
    }
   ],
   "source": [
    "#Create a list of 5 numbers and print the sum, maximum, and minimum values.\n",
    "ls_sum = [5, 10, 15, 20]\n",
    "ls_sum[0:]"
   ]
  },
  {
   "cell_type": "code",
   "execution_count": 63,
   "id": "d1d805b3-4c06-4931-a753-ea484e71d687",
   "metadata": {},
   "outputs": [
    {
     "name": "stdout",
     "output_type": "stream",
     "text": [
      "Help on class list in module builtins:\n",
      "\n",
      "class list(object)\n",
      " |  list(iterable=(), /)\n",
      " |\n",
      " |  Built-in mutable sequence.\n",
      " |\n",
      " |  If no argument is given, the constructor creates a new empty list.\n",
      " |  The argument must be an iterable if specified.\n",
      " |\n",
      " |  Methods defined here:\n",
      " |\n",
      " |  __add__(self, value, /)\n",
      " |      Return self+value.\n",
      " |\n",
      " |  __contains__(self, key, /)\n",
      " |      Return bool(key in self).\n",
      " |\n",
      " |  __delitem__(self, key, /)\n",
      " |      Delete self[key].\n",
      " |\n",
      " |  __eq__(self, value, /)\n",
      " |      Return self==value.\n",
      " |\n",
      " |  __ge__(self, value, /)\n",
      " |      Return self>=value.\n",
      " |\n",
      " |  __getattribute__(self, name, /)\n",
      " |      Return getattr(self, name).\n",
      " |\n",
      " |  __getitem__(self, index, /)\n",
      " |      Return self[index].\n",
      " |\n",
      " |  __gt__(self, value, /)\n",
      " |      Return self>value.\n",
      " |\n",
      " |  __iadd__(self, value, /)\n",
      " |      Implement self+=value.\n",
      " |\n",
      " |  __imul__(self, value, /)\n",
      " |      Implement self*=value.\n",
      " |\n",
      " |  __init__(self, /, *args, **kwargs)\n",
      " |      Initialize self.  See help(type(self)) for accurate signature.\n",
      " |\n",
      " |  __iter__(self, /)\n",
      " |      Implement iter(self).\n",
      " |\n",
      " |  __le__(self, value, /)\n",
      " |      Return self<=value.\n",
      " |\n",
      " |  __len__(self, /)\n",
      " |      Return len(self).\n",
      " |\n",
      " |  __lt__(self, value, /)\n",
      " |      Return self<value.\n",
      " |\n",
      " |  __mul__(self, value, /)\n",
      " |      Return self*value.\n",
      " |\n",
      " |  __ne__(self, value, /)\n",
      " |      Return self!=value.\n",
      " |\n",
      " |  __repr__(self, /)\n",
      " |      Return repr(self).\n",
      " |\n",
      " |  __reversed__(self, /)\n",
      " |      Return a reverse iterator over the list.\n",
      " |\n",
      " |  __rmul__(self, value, /)\n",
      " |      Return value*self.\n",
      " |\n",
      " |  __setitem__(self, key, value, /)\n",
      " |      Set self[key] to value.\n",
      " |\n",
      " |  __sizeof__(self, /)\n",
      " |      Return the size of the list in memory, in bytes.\n",
      " |\n",
      " |  append(self, object, /)\n",
      " |      Append object to the end of the list.\n",
      " |\n",
      " |  clear(self, /)\n",
      " |      Remove all items from list.\n",
      " |\n",
      " |  copy(self, /)\n",
      " |      Return a shallow copy of the list.\n",
      " |\n",
      " |  count(self, value, /)\n",
      " |      Return number of occurrences of value.\n",
      " |\n",
      " |  extend(self, iterable, /)\n",
      " |      Extend list by appending elements from the iterable.\n",
      " |\n",
      " |  index(self, value, start=0, stop=9223372036854775807, /)\n",
      " |      Return first index of value.\n",
      " |\n",
      " |      Raises ValueError if the value is not present.\n",
      " |\n",
      " |  insert(self, index, object, /)\n",
      " |      Insert object before index.\n",
      " |\n",
      " |  pop(self, index=-1, /)\n",
      " |      Remove and return item at index (default last).\n",
      " |\n",
      " |      Raises IndexError if list is empty or index is out of range.\n",
      " |\n",
      " |  remove(self, value, /)\n",
      " |      Remove first occurrence of value.\n",
      " |\n",
      " |      Raises ValueError if the value is not present.\n",
      " |\n",
      " |  reverse(self, /)\n",
      " |      Reverse *IN PLACE*.\n",
      " |\n",
      " |  sort(self, /, *, key=None, reverse=False)\n",
      " |      Sort the list in ascending order and return None.\n",
      " |\n",
      " |      The sort is in-place (i.e. the list itself is modified) and stable (i.e. the\n",
      " |      order of two equal elements is maintained).\n",
      " |\n",
      " |      If a key function is given, apply it once to each list item and sort them,\n",
      " |      ascending or descending, according to their function values.\n",
      " |\n",
      " |      The reverse flag can be set to sort in descending order.\n",
      " |\n",
      " |  ----------------------------------------------------------------------\n",
      " |  Class methods defined here:\n",
      " |\n",
      " |  __class_getitem__(object, /)\n",
      " |      See PEP 585\n",
      " |\n",
      " |  ----------------------------------------------------------------------\n",
      " |  Static methods defined here:\n",
      " |\n",
      " |  __new__(*args, **kwargs)\n",
      " |      Create and return a new object.  See help(type) for accurate signature.\n",
      " |\n",
      " |  ----------------------------------------------------------------------\n",
      " |  Data and other attributes defined here:\n",
      " |\n",
      " |  __hash__ = None\n",
      "\n"
     ]
    }
   ],
   "source": [
    "help(list)"
   ]
  },
  {
   "cell_type": "code",
   "execution_count": 74,
   "id": "3e14f73e-5b6f-4bb9-b3b2-9f64e3be9032",
   "metadata": {},
   "outputs": [
    {
     "data": {
      "text/plain": [
       "tuple"
      ]
     },
     "execution_count": 74,
     "metadata": {},
     "output_type": "execute_result"
    }
   ],
   "source": [
    "# Convert a tuple to a list, modify one element, and convert it back to a tuple.\n",
    "tup01 = (3,23,11,43,2)\n",
    "type(tup01)\n",
    "tup02 = list(tup01)\n",
    "type(tup02)\n",
    "tup02.insert(0, 99)\n",
    "tup02 = tuple(tup02)\n",
    "type(tup02)"
   ]
  },
  {
   "cell_type": "code",
   "execution_count": 76,
   "id": "6286264b-ca14-41e1-90b0-acd963e2780a",
   "metadata": {},
   "outputs": [
    {
     "data": {
      "text/plain": [
       "1"
      ]
     },
     "execution_count": 76,
     "metadata": {},
     "output_type": "execute_result"
    }
   ],
   "source": [
    "tup01.index(23)"
   ]
  },
  {
   "cell_type": "code",
   "execution_count": 5,
   "id": "b21010f5-be91-40fe-9e59-77a9b7307f9f",
   "metadata": {},
   "outputs": [
    {
     "data": {
      "text/plain": [
       "4"
      ]
     },
     "execution_count": 5,
     "metadata": {},
     "output_type": "execute_result"
    }
   ],
   "source": [
    "listt1 = [32,232,4,22,43,32]\n",
    "sum(listt1)\n",
    "max(listt1)\n",
    "min(listt1)\n"
   ]
  },
  {
   "cell_type": "code",
   "execution_count": null,
   "id": "ffe6106f-1020-493a-928c-84c4f7055574",
   "metadata": {},
   "outputs": [],
   "source": []
  }
 ],
 "metadata": {
  "kernelspec": {
   "display_name": "Python 3 (ipykernel)",
   "language": "python",
   "name": "python3"
  },
  "language_info": {
   "codemirror_mode": {
    "name": "ipython",
    "version": 3
   },
   "file_extension": ".py",
   "mimetype": "text/x-python",
   "name": "python",
   "nbconvert_exporter": "python",
   "pygments_lexer": "ipython3",
   "version": "3.13.5"
  }
 },
 "nbformat": 4,
 "nbformat_minor": 5
}
