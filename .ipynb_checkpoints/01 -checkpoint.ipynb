{
 "cells": [
  {
   "cell_type": "markdown",
   "id": "f4073fb1-eb75-4670-8f97-f823f8995dec",
   "metadata": {},
   "source": [
    "## Variables & Data Types"
   ]
  },
  {
   "cell_type": "markdown",
   "id": "99cd9a79-fd7a-453d-b583-ecac70b101b2",
   "metadata": {},
   "source": [
    "![teacher](https://www.mypunepulse.com/wp-content/uploads/2024/08/WhatsApp-Image-2024-08-27-at-2.11.07-PM.jpeg)\n",
    "\n",
    "#### Lecture Outline\n",
    "1. Introduction\n",
    "2. Introduction to Python\n",
    "3. Python Installation (windows)\n",
    "4. Python Installation (Mac)\n",
    "5. VScode Installation\n",
    "6. First Program\n",
    "7. Python Characters set\n",
    "8. variables and how to use them\n",
    "9. Rules for identifiers\n",
    "10. Data Types\n",
    "11. Keywords\n",
    "12. Print Sum\n",
    "13. Comments in Python\n",
    "14. Type conversion\n",
    "15. Inputs/ outputs\n",
    "16. Let's Practice"
   ]
  },
  {
   "cell_type": "markdown",
   "id": "9e5f258d-2c2e-465e-9325-8e98d856e1e8",
   "metadata": {},
   "source": [
    "Python is a high level language and translators convert them into low level language like into binary forms to make computers understand\n",
    "\n",
    "**Tranlator** Can be (Compilers or Interpreters) in python they are interpreters\n",
    "\n",
    "##### What is Python?\n",
    "- Python is simple & easy\n",
    "- Free & Open Source\n",
    "- High level Language\n",
    "- Developed by *Guido Van Rossum* (initially worked for google now workin in microsoft)\n",
    "- Portable (same code can be executed in windows, macs, or Linux)\n",
    "- Python is versitile language like (Data Science: ML/AI, Web Dev: Using Django and Games etc.)\n",
    "##### First Python Code"
   ]
  },
  {
   "cell_type": "code",
   "execution_count": 2,
   "id": "7b6f66ed-9928-4b1b-9519-e4749faa3420",
   "metadata": {},
   "outputs": [
    {
     "name": "stdout",
     "output_type": "stream",
     "text": [
      "Hello World\n"
     ]
    }
   ],
   "source": [
    "print('Hello World')"
   ]
  },
  {
   "cell_type": "markdown",
   "id": "260e6114-ca0f-48a8-a95b-5fcc35434a27",
   "metadata": {},
   "source": [
    "##### Python Character Set\n",
    "- Letters: A to Z, a to z\n",
    "- Digits: 0 to 9\n",
    "- Special Symbols: -+_*/ etc.\n",
    "- Whitespaces: Blank Space, tab, carriage return, newline, formfeed\n",
    "- Other characters: Python can process all ASCII and Unicode character as part of data or literals\n",
    "\n",
    "##### Variables\n",
    "**A variable is a name given to a memory location in a program**\n",
    "name = \"Awais\" <br>\n",
    "age = 23 <br>\n",
    "price = 25.99 "
   ]
  },
  {
   "cell_type": "code",
   "execution_count": 3,
   "id": "a5d5fa9b-bbb5-4ecf-97d3-9932b5e0aff1",
   "metadata": {},
   "outputs": [
    {
     "name": "stdout",
     "output_type": "stream",
     "text": [
      "My name is:  Awais\n",
      "My age is:  25\n"
     ]
    }
   ],
   "source": [
    "name = \"Awais\"\n",
    "age = 25\n",
    "price = 25.99\n",
    "print(\"My name is: \", name)\n",
    "print(\"My age is: \", age)"
   ]
  },
  {
   "cell_type": "markdown",
   "id": "83b3f0be-5bc3-4159-a4b8-65e63518b6a4",
   "metadata": {},
   "source": [
    "##### Rules for Identifiers\n",
    "1. Identifiers can be combination of uppercase and lowercase letters, digits or an underscore(_). Like: myVariable, variable_1, variable_for_print all are valid python identifiers.\n",
    "2. An Identifier can not start with digit. So while variable1 is valid, 1variable is not valid.\n",
    "3. We can't use special sybols like !*%#$@\n",
    "4. can be of any length\n",
    "\n",
    "##### Data Types\n",
    "*There are total 5 types*\n",
    "- Integers (+ve, -ve, 0 and all whole numbers)\n",
    "- Strings (\"\")('')(\"''\")\n",
    "- Float (Decimal values)\n",
    "- Boolean (True, False) (with capital T & F)\n",
    "- None (means no value is assign)"
   ]
  },
  {
   "cell_type": "code",
   "execution_count": 5,
   "id": "e5a5a360-5d59-43d1-bf22-41ad7fd45d71",
   "metadata": {},
   "outputs": [
    {
     "name": "stdout",
     "output_type": "stream",
     "text": [
      "'Awais'\n",
      "Awais\n"
     ]
    }
   ],
   "source": [
    "name = \"'Awais'\"\n",
    "print(name)\n",
    "print('''Awais''')"
   ]
  },
  {
   "cell_type": "code",
   "execution_count": 6,
   "id": "08a14cd1-6f5e-45a8-90f1-c73b6961c774",
   "metadata": {},
   "outputs": [
    {
     "name": "stdout",
     "output_type": "stream",
     "text": [
      "<class 'bool'>\n",
      "<class 'NoneType'>\n"
     ]
    }
   ],
   "source": [
    "old = False\n",
    "a = None\n",
    "print(type(old))\n",
    "print(type(a))"
   ]
  },
  {
   "cell_type": "markdown",
   "id": "74767be2-32da-493b-bf8a-dc06169583d5",
   "metadata": {},
   "source": [
    "##### Keywords\n",
    "*Keywords are reserved words*\n",
    "| Column 1 | Column 2 | Column 3 | Column 4 |\n",
    "| ---------- | ---- | ------------ | -------|\n",
    "| and | else | in | return | \n",
    "| as | except | is | True |\n",
    "| assert | finally | lambda | try |\n",
    "| break | False | nonlocal | with |\n",
    "| class | for | None | while |\n",
    "| continue | from | not | yeild |\n",
    "| def | global | or |\n",
    "| del | if | pass | \n",
    "| elif | import | raise |\n",
    "Python is case sensitive \n"
   ]
  },
  {
   "cell_type": "code",
   "execution_count": 7,
   "id": "d1c4b85b-14e7-49a7-9b1c-4707544a5b1c",
   "metadata": {},
   "outputs": [
    {
     "name": "stdout",
     "output_type": "stream",
     "text": [
      "8\n"
     ]
    }
   ],
   "source": [
    "# Print Sum\n",
    "a = 3\n",
    "b = 5\n",
    "sum = a + b\n",
    "print(sum)"
   ]
  },
  {
   "cell_type": "markdown",
   "id": "cbc91171-f154-4a2e-8c52-c309a1a102a4",
   "metadata": {},
   "source": [
    "##### Comments in Python\n",
    "\n",
    "we use '#' and \"\"\""
   ]
  },
  {
   "cell_type": "code",
   "execution_count": 11,
   "id": "682aba13-6df5-44a7-9bf0-b1fb5ace1375",
   "metadata": {},
   "outputs": [
    {
     "data": {
      "text/plain": [
       "'\\nprint(\"hello world\") nthis is multi line comment\\n'"
      ]
     },
     "execution_count": 11,
     "metadata": {},
     "output_type": "execute_result"
    }
   ],
   "source": [
    "\"\"\"\n",
    "print(\"hello world\") \n",
    "this is multi line comment\n",
    "\"\"\""
   ]
  },
  {
   "cell_type": "code",
   "execution_count": 13,
   "id": "e3ed3acf-c694-4e4b-b739-4e94302d2005",
   "metadata": {},
   "outputs": [],
   "source": [
    "# print ('I ma using command')\n",
    "# print('for multiple things to comment out')\n",
    "# print('here we go')\n",
    "# ctrl and /"
   ]
  },
  {
   "cell_type": "markdown",
   "id": "ec566af1-06fd-4938-b212-ee73efaa8174",
   "metadata": {},
   "source": [
    "##### Operators in Python\n",
    "| Type | Symbols |\n",
    "| ----- | ----- |\n",
    "| Arithmetic Operators | (+, -, *, /,  %, **) |\n",
    "| Relational/Comparison Operators | (==, !=, >, <, >=, <=) |\n",
    "| Assignment Operators | (=, +=, *=, /=, %=, **=) |\n",
    "| Logical Operator | (not, and, or) |"
   ]
  },
  {
   "cell_type": "code",
   "execution_count": 20,
   "id": "ca2f7a45-1131-4487-9050-b9a126d4b1ad",
   "metadata": {},
   "outputs": [
    {
     "name": "stdout",
     "output_type": "stream",
     "text": [
      "40\n",
      "20\n",
      "100\n",
      "0.5\n"
     ]
    }
   ],
   "source": [
    "num0 = 20\n",
    "num0 = num0 + 20\n",
    "print(num0) \n",
    "\n",
    "#or\n",
    "num = 10\n",
    "num += 10\n",
    "print(num)\n",
    "\n",
    "num1 = 10\n",
    "num1 *= 10\n",
    "print(num1)\n",
    "\n",
    "num2 = 10\n",
    "num2 /= 20\n",
    "print(num2)\n",
    "\n"
   ]
  },
  {
   "cell_type": "code",
   "execution_count": 24,
   "id": "4fbad65d-f13c-4403-b667-784e638fc1cc",
   "metadata": {},
   "outputs": [
    {
     "name": "stdout",
     "output_type": "stream",
     "text": [
      "True\n",
      "False\n",
      "False\n",
      "True\n"
     ]
    }
   ],
   "source": [
    "# Practicing Logical Operators\n",
    "\n",
    "# not works on single operands\n",
    "print(not False)\n",
    "print(not True)\n",
    "\n",
    "# case 2\n",
    "val1 = 5\n",
    "val2 = 10\n",
    "print(not (val1<val2)) #False\n",
    "print(not (val1 == val2))"
   ]
  },
  {
   "cell_type": "code",
   "execution_count": 26,
   "id": "8cc775c2-027a-49f1-aee2-630795f29f16",
   "metadata": {},
   "outputs": [
    {
     "name": "stdout",
     "output_type": "stream",
     "text": [
      "And Operator:  True\n",
      "Or operator True\n"
     ]
    }
   ],
   "source": [
    "#Using and operator\n",
    "\n",
    "a = True\n",
    "b = True\n",
    "print(\"And Operator: \", a and b)\n",
    "\n",
    "c = False\n",
    "d = True\n",
    "print(\"Or operator\", c or d)"
   ]
  },
  {
   "cell_type": "markdown",
   "id": "2dd83840-2843-4516-b7ae-5abf3ed757e3",
   "metadata": {},
   "source": [
    "##### Type Conversion\n",
    "conversion vs casting <br>\n",
    "implicityly and explicitly  <br>\n",
    "float is superior than int\n",
    "\n",
    "##### Taking Input from Users"
   ]
  },
  {
   "cell_type": "code",
   "execution_count": 27,
   "id": "f2ad48b1-fe3f-4103-8502-4d4eccd70b14",
   "metadata": {},
   "outputs": [
    {
     "name": "stdin",
     "output_type": "stream",
     "text": [
      "enter your name awais\n"
     ]
    },
    {
     "data": {
      "text/plain": [
       "'awais'"
      ]
     },
     "execution_count": 27,
     "metadata": {},
     "output_type": "execute_result"
    }
   ],
   "source": [
    "input('enter your name')"
   ]
  },
  {
   "cell_type": "code",
   "execution_count": 28,
   "id": "9081fe59-d810-416e-a24f-1a81f7582ef2",
   "metadata": {},
   "outputs": [
    {
     "name": "stdin",
     "output_type": "stream",
     "text": [
      "enter your name Awais\n"
     ]
    },
    {
     "name": "stdout",
     "output_type": "stream",
     "text": [
      "<class 'str'> Awais\n"
     ]
    }
   ],
   "source": [
    "val = input('enter your name')\n",
    "print(type(val), val)"
   ]
  },
  {
   "cell_type": "markdown",
   "id": "b5b2f885-e314-4075-826f-79e860ec7436",
   "metadata": {},
   "source": [
    "##### Let's Practice"
   ]
  },
  {
   "cell_type": "code",
   "execution_count": 29,
   "id": "cffb25d5-87b2-4e0a-9088-664f7b7a8be0",
   "metadata": {},
   "outputs": [
    {
     "name": "stdin",
     "output_type": "stream",
     "text": [
      "Enter first number:  55\n",
      "Enter second number:  2\n"
     ]
    },
    {
     "name": "stdout",
     "output_type": "stream",
     "text": [
      "Sum is:  57\n"
     ]
    }
   ],
   "source": [
    "# Write a program to input numbers & print their sum.\n",
    "num1 = int (input('Enter first number: '))\n",
    "num2 = int (input('Enter second number: '))\n",
    "sum = num1 + num2\n",
    "print(\"Sum is: \", sum)"
   ]
  },
  {
   "cell_type": "code",
   "execution_count": 30,
   "id": "32e3189c-e402-45ed-b8e4-33ab70080972",
   "metadata": {},
   "outputs": [
    {
     "data": {
      "text/plain": [
       "28.5"
      ]
     },
     "execution_count": 30,
     "metadata": {},
     "output_type": "execute_result"
    }
   ],
   "source": [
    "# find average\n",
    "average = sum/2\n",
    "average"
   ]
  },
  {
   "cell_type": "code",
   "execution_count": 31,
   "id": "271fbd85-fb1e-4537-8a73-e42503f79e3c",
   "metadata": {},
   "outputs": [
    {
     "name": "stdout",
     "output_type": "stream",
     "text": [
      "True\n"
     ]
    }
   ],
   "source": [
    "print(num>=2)"
   ]
  },
  {
   "cell_type": "code",
   "execution_count": null,
   "id": "dc4e3bc9-3595-4e87-ab9b-9954f24fcddb",
   "metadata": {},
   "outputs": [],
   "source": []
  }
 ],
 "metadata": {
  "kernelspec": {
   "display_name": "Python 3 (ipykernel)",
   "language": "python",
   "name": "python3"
  },
  "language_info": {
   "codemirror_mode": {
    "name": "ipython",
    "version": 3
   },
   "file_extension": ".py",
   "mimetype": "text/x-python",
   "name": "python",
   "nbconvert_exporter": "python",
   "pygments_lexer": "ipython3",
   "version": "3.13.5"
  }
 },
 "nbformat": 4,
 "nbformat_minor": 5
}
