{
 "cells": [
  {
   "cell_type": "markdown",
   "id": "3729be8c-f9af-4e72-9bf1-71356fe83838",
   "metadata": {},
   "source": [
    "#### Loops\n",
    "Loops aer used to repeat instructions. <br>\n",
    "while Loops <br>\n",
    "while condition:<br>\n",
    "    #some work"
   ]
  },
  {
   "cell_type": "code",
   "execution_count": 2,
   "id": "5cdba1b2-2356-4504-9178-2f50fead5f66",
   "metadata": {},
   "outputs": [
    {
     "name": "stdout",
     "output_type": "stream",
     "text": [
      "hello\n",
      "hello\n",
      "hello\n",
      "hello\n",
      "hello\n"
     ]
    }
   ],
   "source": [
    "#tedios work\n",
    "print('hello')\n",
    "print('hello')\n",
    "print('hello')\n",
    "print('hello')\n",
    "print('hello')"
   ]
  },
  {
   "cell_type": "code",
   "execution_count": 1,
   "id": "d71ea357-7c9a-48ee-87ee-2ad4ae96a49b",
   "metadata": {},
   "outputs": [
    {
     "data": {
      "text/plain": [
       "12"
      ]
     },
     "execution_count": 1,
     "metadata": {},
     "output_type": "execute_result"
    }
   ],
   "source": [
    "4*3"
   ]
  },
  {
   "cell_type": "code",
   "execution_count": null,
   "id": "c2ccc34c-a1e4-44ba-9172-8d6445fe0784",
   "metadata": {},
   "outputs": [],
   "source": [
    "count = 1\n",
    "while count <= 5:\n",
    "    print(\"hello World\")\n",
    "    count = count + 1"
   ]
  },
  {
   "cell_type": "code",
   "execution_count": 1,
   "id": "c69002a4-b189-436c-a876-ee905ae4a98e",
   "metadata": {},
   "outputs": [
    {
     "name": "stdout",
     "output_type": "stream",
     "text": [
      "hello World\n",
      "hello World\n",
      "hello World\n",
      "hello World\n",
      "hello World\n"
     ]
    }
   ],
   "source": [
    "count = 1\n",
    "while count <= 5:\n",
    "    print(\"hello World\")\n",
    "    count = count + 1"
   ]
  },
  {
   "cell_type": "code",
   "execution_count": 3,
   "id": "58ef7213-9243-424e-b380-78b6c86582b8",
   "metadata": {},
   "outputs": [
    {
     "name": "stdout",
     "output_type": "stream",
     "text": [
      "0 :  Awais Ali\n",
      "1 :  Awais Ali\n",
      "2 :  Awais Ali\n",
      "3 :  Awais Ali\n",
      "4 :  Awais Ali\n",
      "5 :  Awais Ali\n",
      "6 :  Awais Ali\n",
      "7 :  Awais Ali\n",
      "8 :  Awais Ali\n",
      "9 :  Awais Ali\n",
      "10 :  Awais Ali\n",
      "11\n"
     ]
    }
   ],
   "source": [
    "name = \"Awais Ali\"\n",
    "a = 0 #these are called as iterators\n",
    "while a <= 10:\n",
    "    print(a, \": \", name)\n",
    "    a += 1 #iteration\n",
    "print(a)"
   ]
  },
  {
   "cell_type": "code",
   "execution_count": null,
   "id": "f0dfaa26-e397-49c2-9de0-ab2ce882cd25",
   "metadata": {},
   "outputs": [],
   "source": [
    "i = 5\n",
    "while i <= 1:\n",
    "    print(i)\n",
    "    i += 1"
   ]
  },
  {
   "cell_type": "code",
   "execution_count": 1,
   "id": "939bb5e3-28c0-4657-a0d7-71a3465706f9",
   "metadata": {},
   "outputs": [],
   "source": [
    "i = 5\n",
    "while i <= 1:\n",
    "    print(i)\n",
    "    i += 1"
   ]
  },
  {
   "cell_type": "code",
   "execution_count": 2,
   "id": "70ad7dc6-15b3-4450-a82f-bf00073fc507",
   "metadata": {},
   "outputs": [
    {
     "data": {
      "text/plain": [
       "9"
      ]
     },
     "execution_count": 2,
     "metadata": {},
     "output_type": "execute_result"
    }
   ],
   "source": [
    "3*3"
   ]
  },
  {
   "cell_type": "code",
   "execution_count": 3,
   "id": "8274c0a7-af4b-488a-9243-d722e01b03c7",
   "metadata": {},
   "outputs": [
    {
     "name": "stdout",
     "output_type": "stream",
     "text": [
      "5\n",
      "4\n",
      "3\n",
      "2\n",
      "1\n"
     ]
    }
   ],
   "source": [
    "i = 5\n",
    "while i >= 1:\n",
    "    print(i)\n",
    "    i -= 1"
   ]
  },
  {
   "cell_type": "code",
   "execution_count": 4,
   "id": "56b41dd9-d034-4c27-972e-65679795e7fe",
   "metadata": {},
   "outputs": [
    {
     "name": "stdout",
     "output_type": "stream",
     "text": [
      "1\n",
      "2\n",
      "3\n",
      "4\n",
      "5\n",
      "6\n",
      "7\n",
      "8\n",
      "9\n",
      "10\n",
      "11\n",
      "12\n",
      "13\n",
      "14\n",
      "15\n",
      "16\n",
      "17\n",
      "18\n",
      "19\n",
      "20\n",
      "21\n",
      "22\n",
      "23\n",
      "24\n",
      "25\n",
      "26\n",
      "27\n",
      "28\n",
      "29\n",
      "30\n",
      "31\n",
      "32\n",
      "33\n",
      "34\n",
      "35\n",
      "36\n",
      "37\n",
      "38\n",
      "39\n",
      "40\n",
      "41\n",
      "42\n",
      "43\n",
      "44\n",
      "45\n",
      "46\n",
      "47\n",
      "48\n",
      "49\n",
      "50\n",
      "51\n",
      "52\n",
      "53\n",
      "54\n",
      "55\n",
      "56\n",
      "57\n",
      "58\n",
      "59\n",
      "60\n",
      "61\n",
      "62\n",
      "63\n",
      "64\n",
      "65\n",
      "66\n",
      "67\n",
      "68\n",
      "69\n",
      "70\n",
      "71\n",
      "72\n",
      "73\n",
      "74\n",
      "75\n",
      "76\n",
      "77\n",
      "78\n",
      "79\n",
      "80\n",
      "81\n",
      "82\n",
      "83\n",
      "84\n",
      "85\n",
      "86\n",
      "87\n",
      "88\n",
      "89\n",
      "90\n",
      "91\n",
      "92\n",
      "93\n",
      "94\n",
      "95\n",
      "96\n",
      "97\n",
      "98\n",
      "99\n",
      "100\n",
      "Loop ended\n"
     ]
    }
   ],
   "source": [
    "# print numbers from 1 to 100\n",
    "num = 1\n",
    "while num <= 100:\n",
    "    print(num)\n",
    "    num += 1\n",
    "print(\"Loop ended\")"
   ]
  },
  {
   "cell_type": "code",
   "execution_count": 5,
   "id": "81188272-9d33-4165-b1a6-e7c751431af4",
   "metadata": {},
   "outputs": [
    {
     "name": "stdout",
     "output_type": "stream",
     "text": [
      "100\n",
      "99\n",
      "98\n",
      "97\n",
      "96\n",
      "95\n",
      "94\n",
      "93\n",
      "92\n",
      "91\n",
      "90\n",
      "89\n",
      "88\n",
      "87\n",
      "86\n",
      "85\n",
      "84\n",
      "83\n",
      "82\n",
      "81\n",
      "80\n",
      "79\n",
      "78\n",
      "77\n",
      "76\n",
      "75\n",
      "74\n",
      "73\n",
      "72\n",
      "71\n",
      "70\n",
      "69\n",
      "68\n",
      "67\n",
      "66\n",
      "65\n",
      "64\n",
      "63\n",
      "62\n",
      "61\n",
      "60\n",
      "59\n",
      "58\n",
      "57\n",
      "56\n",
      "55\n",
      "54\n",
      "53\n",
      "52\n",
      "51\n",
      "50\n",
      "49\n",
      "48\n",
      "47\n",
      "46\n",
      "45\n",
      "44\n",
      "43\n",
      "42\n",
      "41\n",
      "40\n",
      "39\n",
      "38\n",
      "37\n",
      "36\n",
      "35\n",
      "34\n",
      "33\n",
      "32\n",
      "31\n",
      "30\n",
      "29\n",
      "28\n",
      "27\n",
      "26\n",
      "25\n",
      "24\n",
      "23\n",
      "22\n",
      "21\n",
      "20\n",
      "19\n",
      "18\n",
      "17\n",
      "16\n",
      "15\n",
      "14\n",
      "13\n",
      "12\n",
      "11\n",
      "10\n",
      "9\n",
      "8\n",
      "7\n",
      "6\n",
      "5\n",
      "4\n",
      "3\n",
      "2\n",
      "1\n",
      "Loop ended\n"
     ]
    }
   ],
   "source": [
    "num = 100\n",
    "while num >= 1:\n",
    "    print(num)\n",
    "    num -= 1\n",
    "print(\"Loop ended\")"
   ]
  },
  {
   "cell_type": "code",
   "execution_count": 2,
   "id": "7e15e7fe-49ae-4645-b9bc-9ea20b3c9081",
   "metadata": {},
   "outputs": [
    {
     "name": "stdout",
     "output_type": "stream",
     "text": [
      "100\n",
      "99\n",
      "98\n",
      "97\n",
      "96\n",
      "95\n",
      "94\n",
      "93\n",
      "92\n",
      "91\n",
      "90\n",
      "89\n",
      "88\n",
      "87\n",
      "86\n",
      "85\n",
      "84\n",
      "83\n",
      "82\n",
      "81\n",
      "80\n",
      "79\n",
      "78\n",
      "77\n",
      "76\n",
      "75\n",
      "74\n",
      "73\n",
      "72\n",
      "71\n",
      "70\n",
      "69\n",
      "68\n",
      "67\n",
      "66\n",
      "65\n",
      "64\n",
      "63\n",
      "62\n",
      "61\n",
      "60\n",
      "59\n",
      "58\n",
      "57\n",
      "56\n",
      "55\n",
      "54\n",
      "53\n",
      "52\n",
      "51\n",
      "50\n",
      "49\n",
      "48\n",
      "47\n",
      "46\n",
      "45\n",
      "44\n",
      "43\n",
      "42\n",
      "41\n",
      "40\n",
      "39\n",
      "38\n",
      "37\n",
      "36\n",
      "35\n",
      "34\n",
      "33\n",
      "32\n",
      "31\n",
      "30\n",
      "29\n",
      "28\n",
      "27\n",
      "26\n",
      "25\n",
      "24\n",
      "23\n",
      "22\n",
      "21\n",
      "20\n",
      "19\n",
      "18\n",
      "17\n",
      "16\n",
      "15\n",
      "14\n",
      "13\n",
      "12\n",
      "11\n",
      "10\n",
      "9\n",
      "8\n",
      "7\n",
      "6\n",
      "5\n",
      "4\n",
      "3\n",
      "2\n",
      "1\n"
     ]
    }
   ],
   "source": [
    "i = 100\n",
    "while i >= 1: # stopping condition\n",
    "    print(i)\n",
    "    i -= 1"
   ]
  },
  {
   "cell_type": "code",
   "execution_count": 3,
   "id": "c6adeada-f09c-45f1-9130-a69242271312",
   "metadata": {},
   "outputs": [
    {
     "name": "stdin",
     "output_type": "stream",
     "text": [
      "enter a number 3\n"
     ]
    },
    {
     "name": "stdout",
     "output_type": "stream",
     "text": [
      "1\n",
      "3\n",
      "9\n",
      "27\n"
     ]
    }
   ],
   "source": [
    "num = int(input(\"enter a number\"))\n",
    "i = 1\n",
    "while i <= 10*num:\n",
    "    print(i)\n",
    "    i = i*num"
   ]
  },
  {
   "cell_type": "code",
   "execution_count": 7,
   "id": "d2f9f6fa-8652-4368-b703-ee05f0451d69",
   "metadata": {},
   "outputs": [
    {
     "name": "stdin",
     "output_type": "stream",
     "text": [
      "enter a number 21\n"
     ]
    },
    {
     "name": "stdout",
     "output_type": "stream",
     "text": [
      "21 x 1 =  21\n",
      "21 x 2 =  42\n",
      "21 x 3 =  63\n",
      "21 x 4 =  84\n",
      "21 x 5 =  105\n",
      "21 x 6 =  126\n",
      "21 x 7 =  147\n",
      "21 x 8 =  168\n",
      "21 x 9 =  189\n",
      "21 x 10 =  210\n"
     ]
    }
   ],
   "source": [
    "num = int(input(\"enter a number\"))\n",
    "i = 1\n",
    "while i <= 10:\n",
    "    print(num, \"x\", i, \"= \", num*i)\n",
    "    i += 1"
   ]
  },
  {
   "cell_type": "code",
   "execution_count": 8,
   "id": "2182962e-b64a-4d0c-bd14-63d6787a6589",
   "metadata": {},
   "outputs": [
    {
     "name": "stdout",
     "output_type": "stream",
     "text": [
      "3\n",
      "23\n",
      "1\n",
      "2\n",
      "2\n",
      "3\n",
      "23\n"
     ]
    }
   ],
   "source": [
    "List = [3,23,1,2, 2,3,23,1,53,3]\n",
    "print(List[0])\n",
    "print(List[1])\n",
    "print(List[2])\n",
    "print(List[3])\n",
    "print(List[4])\n",
    "print(List[5])\n",
    "print(List[6])"
   ]
  },
  {
   "cell_type": "code",
   "execution_count": 17,
   "id": "50ba3f6a-d065-4ffd-a587-a097f99b59a5",
   "metadata": {},
   "outputs": [
    {
     "name": "stdout",
     "output_type": "stream",
     "text": [
      "[0, 23, 1, 2, 2, 3, 23, 1, 53, 3]\n"
     ]
    }
   ],
   "source": [
    "print(List)"
   ]
  },
  {
   "cell_type": "code",
   "execution_count": 16,
   "id": "8d354723-63f3-47a5-afa5-bbe36ee55e88",
   "metadata": {},
   "outputs": [
    {
     "name": "stdout",
     "output_type": "stream",
     "text": [
      "0\n",
      "23\n",
      "1\n",
      "2\n",
      "2\n",
      "3\n",
      "23\n",
      "1\n",
      "53\n",
      "3\n"
     ]
    }
   ],
   "source": [
    "idx = 0\n",
    "while idx <= len(List)-1:\n",
    "    print(List[idx])\n",
    "    idx += 1"
   ]
  },
  {
   "cell_type": "code",
   "execution_count": 21,
   "id": "097655f5-3b6f-475f-a5c1-ae4e1bece284",
   "metadata": {},
   "outputs": [
    {
     "name": "stdout",
     "output_type": "stream",
     "text": [
      "Awais Ali\n",
      "3\n",
      "2\n",
      "23\n",
      "1\n",
      "1\n",
      "12\n"
     ]
    }
   ],
   "source": [
    "L = [\"Awais Ali\", 3, 2, 23,1 ,1 , 12]\n",
    "index = 0 \n",
    "while index < len(L):\n",
    "    print(L[index])\n",
    "    index += 1"
   ]
  },
  {
   "cell_type": "code",
   "execution_count": 22,
   "id": "abfdd53e-7c55-45a5-8559-4b9f1cd1f245",
   "metadata": {},
   "outputs": [
    {
     "name": "stdout",
     "output_type": "stream",
     "text": [
      "3\n",
      "2\n",
      "12\n",
      "42\n",
      "12\n",
      "23\n",
      "32\n"
     ]
    }
   ],
   "source": [
    "T = (3,2,12,42,12,23,32)\n",
    "index = 0\n",
    "while index < len(T):\n",
    "    print(T[index])\n",
    "    index += 1"
   ]
  },
  {
   "cell_type": "code",
   "execution_count": 27,
   "id": "95a72f76-b38f-4623-9a97-e5561e63c587",
   "metadata": {},
   "outputs": [
    {
     "ename": "SyntaxError",
     "evalue": "cannot assign to function call here. Maybe you meant '==' instead of '='? (419205428.py, line 2)",
     "output_type": "error",
     "traceback": [
      "\u001b[1;36m  Cell \u001b[1;32mIn[27], line 2\u001b[1;36m\u001b[0m\n\u001b[1;33m    D.keys() = 0\u001b[0m\n\u001b[1;37m    ^\u001b[0m\n\u001b[1;31mSyntaxError\u001b[0m\u001b[1;31m:\u001b[0m cannot assign to function call here. Maybe you meant '==' instead of '='?\n"
     ]
    }
   ],
   "source": [
    "D = {\"Awais\" : 132, \"Ali\" : \"321\", \"Group\": (32,21), \"List\": [32,1]}\n",
    "D.keys() = 0\n",
    "while D.keys() < len(D):\n",
    "    print(D[D.keys()])\n",
    "    index += 1"
   ]
  },
  {
   "cell_type": "code",
   "execution_count": 26,
   "id": "a12e77c4-c2ce-40f3-be25-39a1f88557db",
   "metadata": {},
   "outputs": [
    {
     "data": {
      "text/plain": [
       "dict_keys(['Awais', 'Ali', 'Group', 'List'])"
      ]
     },
     "execution_count": 26,
     "metadata": {},
     "output_type": "execute_result"
    }
   ],
   "source": [
    "D.keys()"
   ]
  },
  {
   "cell_type": "code",
   "execution_count": 28,
   "id": "d70047ab-6351-4edc-909b-60914ff4a204",
   "metadata": {},
   "outputs": [],
   "source": [
    "# This is called as traverse mean traveling to the each element of list or tuple\n"
   ]
  },
  {
   "cell_type": "code",
   "execution_count": 15,
   "id": "6fdf04f3-2cda-4bc5-9252-2839cf626056",
   "metadata": {},
   "outputs": [
    {
     "name": "stdin",
     "output_type": "stream",
     "text": [
      "enter a number 12\n"
     ]
    },
    {
     "name": "stdout",
     "output_type": "stream",
     "text": [
      "finding...\n",
      "finding...\n",
      "finding...\n",
      "Found at 3\n",
      "finding...\n",
      "finding...\n",
      "Found at 6\n",
      "finding...\n"
     ]
    }
   ],
   "source": [
    "TT = (32,1,3,12,42,534,12,10)\n",
    "x = int(input(\"enter a number\"))\n",
    "index = 0\n",
    "while index < len(TT):\n",
    "    if TT[index] == x:\n",
    "        print(\"Found at\", index)\n",
    "    else:\n",
    "        print(\"finding...\")\n",
    "    index += 1"
   ]
  },
  {
   "cell_type": "code",
   "execution_count": 5,
   "id": "1e2b4568-385e-4d81-bd52-437ae58e5d1b",
   "metadata": {},
   "outputs": [
    {
     "data": {
      "text/plain": [
       "9"
      ]
     },
     "execution_count": 5,
     "metadata": {},
     "output_type": "execute_result"
    }
   ],
   "source": [
    "3*3"
   ]
  },
  {
   "cell_type": "code",
   "execution_count": 21,
   "id": "b16339bd-421d-40a2-a387-9ecdcccd2d4b",
   "metadata": {},
   "outputs": [
    {
     "name": "stdin",
     "output_type": "stream",
     "text": [
      "Searching for?  23\n"
     ]
    },
    {
     "name": "stdout",
     "output_type": "stream",
     "text": [
      "finding...\n",
      "23 Found at Index [ 1 ]\n",
      "finding...\n",
      "finding...\n",
      "23 Found at Index [ 4 ]\n",
      "finding...\n",
      "finding...\n",
      "finding...\n",
      "finding...\n",
      "23 Found at Index [ 9 ]\n"
     ]
    }
   ],
   "source": [
    "LL = [42, 23, 34, 424, 23, 12, 53, 10 , 19, 23]\n",
    "x = int (input(\"Searching for? \"))\n",
    "index = 0\n",
    "while index < len(LL):\n",
    "    if LL[index] == x:\n",
    "        print(x, \"Found at Index\", \"[\",index,\"]\")\n",
    "    else:\n",
    "        print(\"finding...\")\n",
    "    index += 1"
   ]
  },
  {
   "cell_type": "code",
   "execution_count": 25,
   "id": "5a0cc619-61c5-4de8-a316-b495c8b15955",
   "metadata": {},
   "outputs": [
    {
     "name": "stdin",
     "output_type": "stream",
     "text": [
      "Enter a number 32\n"
     ]
    },
    {
     "name": "stdout",
     "output_type": "stream",
     "text": [
      "finding...\n",
      "finding...\n",
      "finding...\n",
      "32 is found at index [ 3 ]\n",
      "finding...\n",
      "finding...\n",
      "finding...\n",
      "finding...\n",
      "finding...\n",
      "finding...\n",
      "finding...\n",
      "finding...\n",
      "finding...\n"
     ]
    }
   ],
   "source": [
    "List_1 = [2,3,2,32,3,53,56,5,2,5,73,3,2]\n",
    "x = int(input(\"Enter a number\"))\n",
    "index = 0\n",
    "while index < len(List_1):\n",
    "    if List_1[index] == x:\n",
    "        print(x, \"is found at index\", \"[\", index, ']')\n",
    "    else: \n",
    "        print(\"finding...\")\n",
    "    index += 1"
   ]
  },
  {
   "cell_type": "markdown",
   "id": "14c1a3ec-5fe1-42fb-a725-998a3c72b2c3",
   "metadata": {},
   "source": [
    "#### Break and continue"
   ]
  },
  {
   "cell_type": "code",
   "execution_count": 1,
   "id": "8ac12ad7-9055-4179-83be-be2e240bb0b1",
   "metadata": {},
   "outputs": [
    {
     "name": "stdout",
     "output_type": "stream",
     "text": [
      "0\n",
      "1\n",
      "2\n",
      "3\n"
     ]
    }
   ],
   "source": [
    "i = 0\n",
    "while i <= 5:\n",
    "    print(i)\n",
    "    if i == 3:\n",
    "        break\n",
    "    i += 1"
   ]
  },
  {
   "cell_type": "code",
   "execution_count": 11,
   "id": "979694d6-f5d9-4a6f-94ed-d5e77e1e36f0",
   "metadata": {},
   "outputs": [
    {
     "name": "stdin",
     "output_type": "stream",
     "text": [
      "Enter a number 1\n"
     ]
    },
    {
     "name": "stdout",
     "output_type": "stream",
     "text": [
      "finding....\n",
      "finding....\n",
      "finding....\n",
      "finding....\n",
      "1 Found at 4\n"
     ]
    }
   ],
   "source": [
    "List_2 = [3,2,3,2,1,3,2,4,2,3,4,2,23]\n",
    "x = int(input(\"Enter a number\"))\n",
    "index = 0\n",
    "while index < len(List_2):\n",
    "    if List_2[index] == x:\n",
    "        print(x, \"Found at\", index)\n",
    "        break\n",
    "    else:\n",
    "        print('finding....')\n",
    "    index += 1"
   ]
  },
  {
   "cell_type": "code",
   "execution_count": 2,
   "id": "79fe77e3-570b-4397-a48e-ff6be752e34f",
   "metadata": {},
   "outputs": [
    {
     "name": "stdout",
     "output_type": "stream",
     "text": [
      "0\n",
      "1\n",
      "2\n",
      "4\n",
      "5\n"
     ]
    }
   ],
   "source": [
    "i = 0\n",
    "while i <= 5:\n",
    "    if (i == 3):\n",
    "        i += 1\n",
    "        continue # acts as skip\n",
    "    print(i)\n",
    "    i += 1"
   ]
  },
  {
   "cell_type": "code",
   "execution_count": 3,
   "id": "5290abc5-f1cc-4e7c-9b09-4263a1c63d7d",
   "metadata": {},
   "outputs": [
    {
     "name": "stdout",
     "output_type": "stream",
     "text": [
      "1\n",
      "3\n",
      "5\n",
      "7\n",
      "9\n"
     ]
    }
   ],
   "source": [
    "i = 1 \n",
    "while i <= 10:\n",
    "    if i%2 == 0: # As if the value will be even skip and go to next\n",
    "        i += 1\n",
    "        continue #skip\n",
    "    print(i)\n",
    "    i += 1"
   ]
  },
  {
   "cell_type": "code",
   "execution_count": 6,
   "id": "26bcb113-8b88-47a9-9eef-fee33f71bc76",
   "metadata": {},
   "outputs": [
    {
     "name": "stdout",
     "output_type": "stream",
     "text": [
      "2\n",
      "4\n",
      "6\n",
      "8\n",
      "10\n"
     ]
    }
   ],
   "source": [
    "i = 1\n",
    "while i <= 10:\n",
    "    if i % 2 != 0:\n",
    "        i += 1\n",
    "        continue\n",
    "    print(i)\n",
    "    i += 1"
   ]
  },
  {
   "cell_type": "markdown",
   "id": "08696d78-164d-432f-b4f2-dc65ebd3fa71",
   "metadata": {},
   "source": [
    "#### More practice questions while loops"
   ]
  },
  {
   "cell_type": "code",
   "execution_count": 7,
   "id": "b0e80ed7-d6df-42fe-8eba-b3aefb9b6b88",
   "metadata": {},
   "outputs": [
    {
     "name": "stdout",
     "output_type": "stream",
     "text": [
      "1\n",
      "2\n",
      "3\n",
      "4\n",
      "5\n",
      "6\n",
      "7\n",
      "8\n",
      "9\n",
      "10\n"
     ]
    }
   ],
   "source": [
    "#Print numbers 1 to 10 using a while loop.\n",
    "i = 1\n",
    "while i <= 10:\n",
    "    print(i)\n",
    "    i += 1"
   ]
  },
  {
   "cell_type": "code",
   "execution_count": 7,
   "id": "d3adf557-f34b-4d5d-b754-a5c44ce49af4",
   "metadata": {},
   "outputs": [
    {
     "name": "stdout",
     "output_type": "stream",
     "text": [
      "2\n",
      "4\n",
      "6\n",
      "8\n",
      "10\n",
      "12\n",
      "14\n",
      "16\n",
      "18\n",
      "20\n"
     ]
    }
   ],
   "source": [
    "# Print even numbers from 2 to 20 using a while loop\n",
    "i = 1\n",
    "while i <= 20:\n",
    "    if i % 2 != 0:\n",
    "        i += 1\n",
    "        continue #skipp all which has not remainder 0\n",
    "    print(i)\n",
    "    i += 1"
   ]
  },
  {
   "cell_type": "code",
   "execution_count": 12,
   "id": "a26656d3-5abf-4283-9488-78c8074bd7e6",
   "metadata": {},
   "outputs": [
    {
     "name": "stdin",
     "output_type": "stream",
     "text": [
      "Enter a number:  3\n"
     ]
    },
    {
     "name": "stdout",
     "output_type": "stream",
     "text": [
      "1\n",
      "2\n",
      "3\n",
      "6\n"
     ]
    }
   ],
   "source": [
    "total = 0\n",
    "n = int(input(\"Enter a number: \"))\n",
    "i = 1\n",
    "while i <= n:\n",
    "    print(i)\n",
    "    total = i + total\n",
    "    i += 1\n",
    "    \n",
    "print(total)"
   ]
  },
  {
   "cell_type": "code",
   "execution_count": 11,
   "id": "eb52c0c1-e9fd-4fdf-93db-3dc051700170",
   "metadata": {},
   "outputs": [
    {
     "name": "stdin",
     "output_type": "stream",
     "text": [
      "Enter a number:  3\n"
     ]
    },
    {
     "name": "stdout",
     "output_type": "stream",
     "text": [
      "The sum of numbers from 1 to 3 is: 6\n"
     ]
    }
   ],
   "source": [
    "# Program to find the sum of numbers from 1 to n\n",
    "\n",
    "# take input from user\n",
    "n = int(input(\"Enter a number: \"))\n",
    "\n",
    "# initialize variables\n",
    "i = 1\n",
    "total = 0\n",
    "\n",
    "# while loop to add numbers\n",
    "while i <= n:\n",
    "    total = total + i\n",
    "    i = i + 1\n",
    "\n",
    "# print the result\n",
    "print(\"The sum of numbers from 1 to\", n, \"is:\", total)\n"
   ]
  },
  {
   "cell_type": "code",
   "execution_count": 13,
   "id": "2849589e-d4d4-40b2-a4d0-2b37af48b145",
   "metadata": {},
   "outputs": [
    {
     "name": "stdout",
     "output_type": "stream",
     "text": [
      "10\n",
      "9\n",
      "8\n",
      "7\n",
      "6\n",
      "5\n",
      "4\n",
      "3\n",
      "2\n",
      "1\n"
     ]
    }
   ],
   "source": [
    "# Count down from 10 to 1 and print \"Liftoff\" at the end.\n",
    "i = 10 \n",
    "while i >= 1:\n",
    "    print(i)\n",
    "    i -= 1"
   ]
  },
  {
   "cell_type": "code",
   "execution_count": 22,
   "id": "7b89618f-9fe0-4398-9f36-0550bf79d0da",
   "metadata": {},
   "outputs": [
    {
     "name": "stdin",
     "output_type": "stream",
     "text": [
      "Enter the password python123\n"
     ]
    },
    {
     "name": "stdout",
     "output_type": "stream",
     "text": [
      "Correct\n"
     ]
    }
   ],
   "source": [
    " pw = input(\"Enter the password\")\n",
    "password = \"python123\"\n",
    "i = 0\n",
    "while i <= 10:\n",
    "    if pw == password:\n",
    "        print(\"Correct\")\n",
    "        break\n",
    "    \n",
    "    else:\n",
    "        pw = input(\"Enter the password again\")\n",
    "    i += 1"
   ]
  },
  {
   "cell_type": "markdown",
   "id": "c7e890b7-5270-4f96-a150-1359154e5f40",
   "metadata": {},
   "source": [
    "#### For Loops\n",
    "**Loops are used for sequential traversal. For traveling list, string, tuples etc.**"
   ]
  },
  {
   "cell_type": "code",
   "execution_count": null,
   "id": "247ef511-30b7-4ed2-90ef-405542c16152",
   "metadata": {},
   "outputs": [],
   "source": [
    "listt = [2,3,5]\n",
    "for elements in listt:\n",
    "    print(elements)"
   ]
  },
  {
   "cell_type": "code",
   "execution_count": 1,
   "id": "49c50aed-c1d9-4ec2-b4de-d7e9c5cb9759",
   "metadata": {},
   "outputs": [
    {
     "name": "stdout",
     "output_type": "stream",
     "text": [
      "2\n",
      "3\n",
      "43\n",
      "2\n"
     ]
    }
   ],
   "source": [
    "listt = [2,3,43,2]\n",
    "for elements in listt:\n",
    "    print(elements)"
   ]
  },
  {
   "cell_type": "code",
   "execution_count": 2,
   "id": "b9ea0aaa-3e55-497c-a807-b944d53b6a9d",
   "metadata": {},
   "outputs": [
    {
     "name": "stdout",
     "output_type": "stream",
     "text": [
      "patato\n",
      "brijilo\n",
      "cucumber\n"
     ]
    }
   ],
   "source": [
    "veg = [\"patato\", \"brijilo\", \"cucumber\"]\n",
    "for v in veg:\n",
    "    print(v)"
   ]
  },
  {
   "cell_type": "code",
   "execution_count": 3,
   "id": "65f8b903-48fd-4443-8fbe-c45e81ed226c",
   "metadata": {},
   "outputs": [
    {
     "name": "stdout",
     "output_type": "stream",
     "text": [
      "2\n",
      "3\n",
      "34\n",
      "23\n",
      "3\n"
     ]
    }
   ],
   "source": [
    "tup = (2,3,34,23,3)\n",
    "for n in tup:\n",
    "    print(n)"
   ]
  },
  {
   "cell_type": "code",
   "execution_count": 6,
   "id": "5d0280fe-c3b1-469a-9273-7280670d9741",
   "metadata": {},
   "outputs": [
    {
     "name": "stdout",
     "output_type": "stream",
     "text": [
      "A\n",
      "p\n",
      "n\n",
      "a\n",
      " \n",
      "C\n",
      "o is found\n"
     ]
    }
   ],
   "source": [
    "Str = \"Apna College\"\n",
    "for char in Str:\n",
    "    if (char == 'o'):\n",
    "        print(\"o is found\")\n",
    "        break\n",
    "    print(char)\n",
    "else: \n",
    "    print(\"End\")"
   ]
  },
  {
   "cell_type": "code",
   "execution_count": 7,
   "id": "370f1e8f-da97-4847-9d3c-f70608f7d63d",
   "metadata": {},
   "outputs": [
    {
     "name": "stdout",
     "output_type": "stream",
     "text": [
      "1\n",
      "3\n",
      "2\n",
      "2\n",
      "34\n",
      "2\n",
      "3\n",
      "42\n",
      "23\n",
      "1\n",
      "[32, 53, 2]\n",
      "(3, 24, 2)\n",
      "32\n",
      "Awais\n",
      "{3, 23}\n"
     ]
    }
   ],
   "source": [
    "list_1 = [1,3,2,2,34,2,3,42,23,1, [32,53,2], (3,24,2), 32, \"Awais\", {3,23}]\n",
    "for elements in list_1:\n",
    "    print(elements)"
   ]
  },
  {
   "cell_type": "code",
   "execution_count": 17,
   "id": "2fa274ed-9145-4127-bbc9-406f539cf989",
   "metadata": {},
   "outputs": [
    {
     "name": "stdin",
     "output_type": "stream",
     "text": [
      "Enter a number 3\n"
     ]
    },
    {
     "name": "stdout",
     "output_type": "stream",
     "text": [
      "3 is found at 0\n"
     ]
    }
   ],
   "source": [
    "x = int(input(\"Enter a number\"))\n",
    "tup1 = (3,2,53,2,3,34,1,4,42,10)\n",
    "index = 0\n",
    "for elements in tup1:\n",
    "    if elements == x:\n",
    "        print(x, \"is found at\", index)\n",
    "    index += 1\n",
    "    break  \n",
    "    print(elements)\n",
    "else: \n",
    "    print(\"End\")"
   ]
  },
  {
   "cell_type": "markdown",
   "id": "d50b0b09-c1da-486f-8880-11b326a122c7",
   "metadata": {},
   "source": [
    "#### Range()"
   ]
  },
  {
   "cell_type": "code",
   "execution_count": 20,
   "id": "f6b01d9e-3693-44d2-b09f-1018f8446b66",
   "metadata": {},
   "outputs": [
    {
     "name": "stdout",
     "output_type": "stream",
     "text": [
      "0\n",
      "1\n",
      "2\n",
      "3\n",
      "4\n"
     ]
    }
   ],
   "source": [
    "for el in range(5):\n",
    "    print(el)"
   ]
  },
  {
   "cell_type": "code",
   "execution_count": 21,
   "id": "bbb523bd-9340-4132-9860-f91ffb3d658c",
   "metadata": {},
   "outputs": [
    {
     "name": "stdout",
     "output_type": "stream",
     "text": [
      "1\n",
      "2\n",
      "3\n",
      "4\n"
     ]
    }
   ],
   "source": [
    "for el in range(1,5):\n",
    "    print(el)"
   ]
  },
  {
   "cell_type": "code",
   "execution_count": 22,
   "id": "b45a3148-6cdc-4ba2-952b-2eda8c784d94",
   "metadata": {},
   "outputs": [
    {
     "name": "stdout",
     "output_type": "stream",
     "text": [
      "1\n",
      "3\n"
     ]
    }
   ],
   "source": [
    "for el in range(1,5,2):\n",
    "    print(el)"
   ]
  },
  {
   "cell_type": "code",
   "execution_count": 23,
   "id": "1fd8f51e-3c06-417a-8056-a6090f4f2186",
   "metadata": {},
   "outputs": [
    {
     "data": {
      "text/plain": [
       "range(0, 6)"
      ]
     },
     "execution_count": 23,
     "metadata": {},
     "output_type": "execute_result"
    }
   ],
   "source": [
    "range(6)"
   ]
  },
  {
   "cell_type": "code",
   "execution_count": 24,
   "id": "d513e786-6238-47ea-8224-46cc086ebdd3",
   "metadata": {},
   "outputs": [
    {
     "name": "stdout",
     "output_type": "stream",
     "text": [
      "0\n",
      "1\n",
      "2\n"
     ]
    }
   ],
   "source": [
    "seq = range(6)\n",
    "print(seq[0])\n",
    "print(seq[1])\n",
    "print(seq[2])"
   ]
  },
  {
   "cell_type": "code",
   "execution_count": 25,
   "id": "3e43cca3-f0ae-4711-88b5-e5331866a825",
   "metadata": {},
   "outputs": [
    {
     "name": "stdout",
     "output_type": "stream",
     "text": [
      "0\n",
      "1\n",
      "2\n",
      "3\n",
      "4\n",
      "5\n"
     ]
    }
   ],
   "source": [
    "for el in range(6):\n",
    "    print(el)"
   ]
  },
  {
   "cell_type": "code",
   "execution_count": 26,
   "id": "a0a17a76-55de-47c7-a5b9-1e31d936d679",
   "metadata": {},
   "outputs": [
    {
     "name": "stdout",
     "output_type": "stream",
     "text": [
      "2\n",
      "4\n",
      "6\n",
      "8\n",
      "10\n",
      "12\n",
      "14\n",
      "16\n",
      "18\n",
      "20\n",
      "22\n",
      "24\n",
      "26\n",
      "28\n",
      "30\n",
      "32\n",
      "34\n",
      "36\n",
      "38\n",
      "40\n",
      "42\n",
      "44\n",
      "46\n",
      "48\n",
      "50\n",
      "52\n",
      "54\n",
      "56\n",
      "58\n",
      "60\n",
      "62\n",
      "64\n",
      "66\n",
      "68\n",
      "70\n",
      "72\n",
      "74\n",
      "76\n",
      "78\n",
      "80\n",
      "82\n",
      "84\n",
      "86\n",
      "88\n",
      "90\n",
      "92\n",
      "94\n",
      "96\n",
      "98\n"
     ]
    }
   ],
   "source": [
    "for i in range (2, 100, 2):\n",
    "    print(i)"
   ]
  },
  {
   "cell_type": "code",
   "execution_count": 28,
   "id": "3771efb1-37ea-430a-9c27-fb27f4853d94",
   "metadata": {},
   "outputs": [
    {
     "name": "stdout",
     "output_type": "stream",
     "text": [
      "1\n",
      "2\n",
      "3\n",
      "4\n",
      "5\n",
      "6\n",
      "7\n",
      "8\n",
      "9\n",
      "10\n",
      "11\n",
      "12\n",
      "13\n",
      "14\n",
      "15\n",
      "16\n",
      "17\n",
      "18\n",
      "19\n",
      "20\n",
      "21\n",
      "22\n",
      "23\n",
      "24\n",
      "25\n",
      "26\n",
      "27\n",
      "28\n",
      "29\n",
      "30\n",
      "31\n",
      "32\n",
      "33\n",
      "34\n",
      "35\n",
      "36\n",
      "37\n",
      "38\n",
      "39\n",
      "40\n",
      "41\n",
      "42\n",
      "43\n",
      "44\n",
      "45\n",
      "46\n",
      "47\n",
      "48\n",
      "49\n",
      "50\n",
      "51\n",
      "52\n",
      "53\n",
      "54\n",
      "55\n",
      "56\n",
      "57\n",
      "58\n",
      "59\n",
      "60\n",
      "61\n",
      "62\n",
      "63\n",
      "64\n",
      "65\n",
      "66\n",
      "67\n",
      "68\n",
      "69\n",
      "70\n",
      "71\n",
      "72\n",
      "73\n",
      "74\n",
      "75\n",
      "76\n",
      "77\n",
      "78\n",
      "79\n",
      "80\n",
      "81\n",
      "82\n",
      "83\n",
      "84\n",
      "85\n",
      "86\n",
      "87\n",
      "88\n",
      "89\n",
      "90\n",
      "91\n",
      "92\n",
      "93\n",
      "94\n",
      "95\n",
      "96\n",
      "97\n",
      "98\n",
      "99\n",
      "100\n"
     ]
    }
   ],
   "source": [
    "##Practice Questions\n",
    "#Print numbers from 1 to 100.\n",
    "for i in range(1, 101):\n",
    "    print(i)"
   ]
  },
  {
   "cell_type": "code",
   "execution_count": 29,
   "id": "1a20ac61-e7f8-49ec-a2bf-a4e1621a8f61",
   "metadata": {},
   "outputs": [],
   "source": [
    "for i in range(100,1):\n",
    "    print(i)"
   ]
  },
  {
   "cell_type": "code",
   "execution_count": 30,
   "id": "df17fdcf-0239-4699-8ed6-b6cf6f5692d3",
   "metadata": {},
   "outputs": [
    {
     "data": {
      "text/plain": [
       "9"
      ]
     },
     "execution_count": 30,
     "metadata": {},
     "output_type": "execute_result"
    }
   ],
   "source": [
    "3*3"
   ]
  },
  {
   "cell_type": "code",
   "execution_count": 34,
   "id": "655aabe6-9378-45a8-9e77-213eafe67165",
   "metadata": {},
   "outputs": [
    {
     "ename": "TypeError",
     "evalue": "'int' object is not iterable",
     "output_type": "error",
     "traceback": [
      "\u001b[1;31m---------------------------------------------------------------------------\u001b[0m",
      "\u001b[1;31mTypeError\u001b[0m                                 Traceback (most recent call last)",
      "Cell \u001b[1;32mIn[34], line 2\u001b[0m\n\u001b[0;32m      1\u001b[0m i \u001b[38;5;241m=\u001b[39m \u001b[38;5;241m100\u001b[39m\n\u001b[1;32m----> 2\u001b[0m \u001b[38;5;28;01mfor\u001b[39;00m n \u001b[38;5;129;01min\u001b[39;00m i:\n\u001b[0;32m      3\u001b[0m     \u001b[38;5;28mprint\u001b[39m(n)\n\u001b[0;32m      4\u001b[0m     i \u001b[38;5;241m-\u001b[39m\u001b[38;5;241m=\u001b[39m \u001b[38;5;241m1\u001b[39m\n",
      "\u001b[1;31mTypeError\u001b[0m: 'int' object is not iterable"
     ]
    }
   ],
   "source": [
    "\n",
    "i = 100\n",
    "for n in i:\n",
    "    print(n)\n",
    "    i -= 1"
   ]
  },
  {
   "cell_type": "code",
   "execution_count": 35,
   "id": "d8e7e2c2-23d2-4625-8f9b-a0c5600b065e",
   "metadata": {},
   "outputs": [
    {
     "name": "stdout",
     "output_type": "stream",
     "text": [
      "100\n",
      "99\n",
      "98\n",
      "97\n",
      "96\n",
      "95\n",
      "94\n",
      "93\n",
      "92\n",
      "91\n",
      "90\n",
      "89\n",
      "88\n",
      "87\n",
      "86\n",
      "85\n",
      "84\n",
      "83\n",
      "82\n",
      "81\n",
      "80\n",
      "79\n",
      "78\n",
      "77\n",
      "76\n",
      "75\n",
      "74\n",
      "73\n",
      "72\n",
      "71\n",
      "70\n",
      "69\n",
      "68\n",
      "67\n",
      "66\n",
      "65\n",
      "64\n",
      "63\n",
      "62\n",
      "61\n",
      "60\n",
      "59\n",
      "58\n",
      "57\n",
      "56\n",
      "55\n",
      "54\n",
      "53\n",
      "52\n",
      "51\n",
      "50\n",
      "49\n",
      "48\n",
      "47\n",
      "46\n",
      "45\n",
      "44\n",
      "43\n",
      "42\n",
      "41\n",
      "40\n",
      "39\n",
      "38\n",
      "37\n",
      "36\n",
      "35\n",
      "34\n",
      "33\n",
      "32\n",
      "31\n",
      "30\n",
      "29\n",
      "28\n",
      "27\n",
      "26\n",
      "25\n",
      "24\n",
      "23\n",
      "22\n",
      "21\n",
      "20\n",
      "19\n",
      "18\n",
      "17\n",
      "16\n",
      "15\n",
      "14\n",
      "13\n",
      "12\n",
      "11\n",
      "10\n",
      "9\n",
      "8\n",
      "7\n",
      "6\n",
      "5\n",
      "4\n",
      "3\n",
      "2\n",
      "1\n"
     ]
    }
   ],
   "source": [
    "for i in range (100, 0, -1):\n",
    "    print(i)"
   ]
  },
  {
   "cell_type": "code",
   "execution_count": 37,
   "id": "1c2c43bb-332c-4ad9-8693-fe81580b8245",
   "metadata": {},
   "outputs": [
    {
     "name": "stdin",
     "output_type": "stream",
     "text": [
      "Enter a number 3\n"
     ]
    },
    {
     "name": "stdout",
     "output_type": "stream",
     "text": [
      "3\n",
      "6\n",
      "9\n",
      "12\n",
      "15\n",
      "18\n",
      "21\n",
      "24\n",
      "27\n"
     ]
    }
   ],
   "source": [
    "n = int(input(\"Enter a number\"))\n",
    "for i in range(1,10):\n",
    "    print(i*n)"
   ]
  },
  {
   "cell_type": "markdown",
   "id": "57b86112-1780-4ab7-870a-77bca94f253e",
   "metadata": {},
   "source": [
    "#### Pass Statement"
   ]
  },
  {
   "cell_type": "code",
   "execution_count": 38,
   "id": "d8de0b63-6b0e-44d2-9653-bffaf01d9714",
   "metadata": {},
   "outputs": [],
   "source": [
    "for i in range (5):\n",
    "    pass"
   ]
  },
  {
   "cell_type": "code",
   "execution_count": 39,
   "id": "b8c0b8d1-4597-46de-b438-4784f59475ab",
   "metadata": {},
   "outputs": [],
   "source": [
    "if i>5:\n",
    "    pass"
   ]
  },
  {
   "cell_type": "code",
   "execution_count": 41,
   "id": "a75369ef-5cdb-4cc3-9142-497af5d4522f",
   "metadata": {},
   "outputs": [
    {
     "name": "stdin",
     "output_type": "stream",
     "text": [
      "Enter a number 4\n"
     ]
    },
    {
     "name": "stdout",
     "output_type": "stream",
     "text": [
      "0\n",
      "1\n",
      "1\n",
      "3\n",
      "2\n",
      "6\n",
      "3\n",
      "10\n",
      "4\n",
      "15\n"
     ]
    }
   ],
   "source": [
    "x = int(input(\"Enter a number\"))\n",
    "total = 0\n",
    "i = 0 \n",
    "while i <= x:\n",
    "    print(i)\n",
    "    \n",
    "    i += 1\n",
    "    total = total + i\n",
    "    print(total)"
   ]
  },
  {
   "cell_type": "code",
   "execution_count": 43,
   "id": "0eb147fc-2b82-4565-84cb-3347243dc019",
   "metadata": {},
   "outputs": [
    {
     "name": "stdout",
     "output_type": "stream",
     "text": [
      "15\n"
     ]
    }
   ],
   "source": [
    "n = 5\n",
    "Sum = 0\n",
    "for i in range(1, n+1):\n",
    "    Sum += i\n",
    "print(Sum)"
   ]
  },
  {
   "cell_type": "code",
   "execution_count": 47,
   "id": "573801cd-76fd-4870-b950-5ddc70ce7853",
   "metadata": {},
   "outputs": [
    {
     "name": "stdout",
     "output_type": "stream",
     "text": [
      "5040\n"
     ]
    }
   ],
   "source": [
    "n = 7\n",
    "Sum = 1\n",
    "i = 1\n",
    "while i <= n:\n",
    "    Sum *= i\n",
    "    i += 1\n",
    "print(Sum)"
   ]
  },
  {
   "cell_type": "code",
   "execution_count": null,
   "id": "8485ec3e-b948-4ef9-a41b-c135fdad9249",
   "metadata": {},
   "outputs": [],
   "source": []
  }
 ],
 "metadata": {
  "kernelspec": {
   "display_name": "Python 3 (ipykernel)",
   "language": "python",
   "name": "python3"
  },
  "language_info": {
   "codemirror_mode": {
    "name": "ipython",
    "version": 3
   },
   "file_extension": ".py",
   "mimetype": "text/x-python",
   "name": "python",
   "nbconvert_exporter": "python",
   "pygments_lexer": "ipython3",
   "version": "3.13.5"
  }
 },
 "nbformat": 4,
 "nbformat_minor": 5
}
