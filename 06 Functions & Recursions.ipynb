{
 "cells": [
  {
   "cell_type": "markdown",
   "id": "ea1afa59-2689-449f-8cd9-088f1a92fe20",
   "metadata": {},
   "source": [
    "#### Functions And Recursions"
   ]
  },
  {
   "cell_type": "code",
   "execution_count": 2,
   "id": "98944209-adc4-4119-9531-975954d25a81",
   "metadata": {},
   "outputs": [
    {
     "name": "stdout",
     "output_type": "stream",
     "text": [
      "26\n"
     ]
    }
   ],
   "source": [
    "# Functions in python\n",
    "# Block of statements that perform a specific task.\n",
    "# redundant\n",
    "def Sum (a, b):\n",
    "    print(a+b)\n",
    "Sum(3,23)"
   ]
  },
  {
   "cell_type": "code",
   "execution_count": 6,
   "id": "e849d480-e652-4dec-97ef-f6b1d2110a7c",
   "metadata": {},
   "outputs": [
    {
     "data": {
      "text/plain": [
       "47"
      ]
     },
     "execution_count": 6,
     "metadata": {},
     "output_type": "execute_result"
    }
   ],
   "source": [
    "def calc_sum(a, b): #parameters like variables names\n",
    "    Sum = a + b\n",
    "    return Sum\n",
    "calc_sum(24,23) #Arguements are actuall values"
   ]
  },
  {
   "cell_type": "code",
   "execution_count": 10,
   "id": "21911849-8c07-4ec6-a390-ec016df4c517",
   "metadata": {},
   "outputs": [
    {
     "name": "stdout",
     "output_type": "stream",
     "text": [
      "hello\n",
      "None\n"
     ]
    }
   ],
   "source": [
    "def print_hello():\n",
    "    print(\"hello\")\n",
    "output = print_hello()\n",
    "print(output)"
   ]
  },
  {
   "cell_type": "code",
   "execution_count": 11,
   "id": "22d3f090-849c-4e61-84d3-05ce2ab59590",
   "metadata": {},
   "outputs": [],
   "source": [
    "# Average of three numbers\n",
    "def average(a, b, c):\n",
    "    Sum = a+b+c\n",
    "    print(Sum/3)\n",
    "    "
   ]
  },
  {
   "cell_type": "code",
   "execution_count": 12,
   "id": "bc439ae8-53a4-4695-9d7b-afbfce8a1065",
   "metadata": {},
   "outputs": [
    {
     "name": "stdout",
     "output_type": "stream",
     "text": [
      "3.0\n"
     ]
    }
   ],
   "source": [
    "average(3,2,4)"
   ]
  },
  {
   "cell_type": "markdown",
   "id": "9f6ea93b-a8cb-42ba-a4a2-88930c23e491",
   "metadata": {},
   "source": [
    "##### Two types of functions\n",
    "1. Built-in Functions\n",
    "2. User defined functions"
   ]
  },
  {
   "cell_type": "code",
   "execution_count": 13,
   "id": "aa652abf-6d90-4b11-a7a0-357ec065eb80",
   "metadata": {},
   "outputs": [
    {
     "name": "stdout",
     "output_type": "stream",
     "text": [
      "apna college\n"
     ]
    }
   ],
   "source": [
    "# Looking into how built-in function worked\n",
    "print('apna college') #apna college is an argument here"
   ]
  },
  {
   "cell_type": "code",
   "execution_count": 14,
   "id": "46d69e85-33c9-4133-a279-bba32935848c",
   "metadata": {},
   "outputs": [
    {
     "name": "stdout",
     "output_type": "stream",
     "text": [
      "Help on built-in function print in module builtins:\n",
      "\n",
      "print(*args, sep=' ', end='\\n', file=None, flush=False)\n",
      "    Prints the values to a stream, or to sys.stdout by default.\n",
      "\n",
      "    sep\n",
      "      string inserted between values, default a space.\n",
      "    end\n",
      "      string appended after the last value, default a newline.\n",
      "    file\n",
      "      a file-like object (stream); defaults to the current sys.stdout.\n",
      "    flush\n",
      "      whether to forcibly flush the stream.\n",
      "\n"
     ]
    }
   ],
   "source": [
    "help(print)"
   ]
  },
  {
   "cell_type": "code",
   "execution_count": 16,
   "id": "c8b835e1-85d4-4bce-b9ce-eb7ecbf42164",
   "metadata": {},
   "outputs": [
    {
     "name": "stdout",
     "output_type": "stream",
     "text": [
      "Awais Ali\n"
     ]
    }
   ],
   "source": [
    "print(\"Awais\", end = \" \") #since its not #end = \"\\n\"\n",
    "print(\"Ali\")"
   ]
  },
  {
   "cell_type": "code",
   "execution_count": 18,
   "id": "98dff4c3-b53d-4ab1-8994-9aa8518c628d",
   "metadata": {},
   "outputs": [
    {
     "name": "stdout",
     "output_type": "stream",
     "text": [
      "Help on built-in function len in module builtins:\n",
      "\n",
      "len(obj, /)\n",
      "    Return the number of items in a container.\n",
      "\n"
     ]
    }
   ],
   "source": [
    "help(len)"
   ]
  },
  {
   "cell_type": "code",
   "execution_count": 22,
   "id": "ebd4bc40-56e6-4d35-8f30-4d6f19d48294",
   "metadata": {},
   "outputs": [
    {
     "ename": "TypeError",
     "evalue": "Prod() missing 2 required positional arguments: 'a' and 'b'",
     "output_type": "error",
     "traceback": [
      "\u001b[1;31m---------------------------------------------------------------------------\u001b[0m",
      "\u001b[1;31mTypeError\u001b[0m                                 Traceback (most recent call last)",
      "Cell \u001b[1;32mIn[22], line 3\u001b[0m\n\u001b[0;32m      1\u001b[0m \u001b[38;5;28;01mdef\u001b[39;00m\u001b[38;5;250m \u001b[39m\u001b[38;5;21mProd\u001b[39m(a, b):\n\u001b[0;32m      2\u001b[0m     \u001b[38;5;28;01mreturn\u001b[39;00m a\u001b[38;5;241m*\u001b[39mb\n\u001b[1;32m----> 3\u001b[0m Prod()\n",
      "\u001b[1;31mTypeError\u001b[0m: Prod() missing 2 required positional arguments: 'a' and 'b'"
     ]
    }
   ],
   "source": [
    "def Prod(a, b):\n",
    "    return a*b\n",
    "Prod()"
   ]
  },
  {
   "cell_type": "code",
   "execution_count": 23,
   "id": "82dd5e5f-2b5d-4a00-acc3-e803abf4444b",
   "metadata": {},
   "outputs": [
    {
     "ename": "TypeError",
     "evalue": "Prod() missing 1 required positional argument: 'b'",
     "output_type": "error",
     "traceback": [
      "\u001b[1;31m---------------------------------------------------------------------------\u001b[0m",
      "\u001b[1;31mTypeError\u001b[0m                                 Traceback (most recent call last)",
      "Cell \u001b[1;32mIn[23], line 1\u001b[0m\n\u001b[1;32m----> 1\u001b[0m Prod(\u001b[38;5;241m3\u001b[39m)\n",
      "\u001b[1;31mTypeError\u001b[0m: Prod() missing 1 required positional argument: 'b'"
     ]
    }
   ],
   "source": [
    "Prod(3)"
   ]
  },
  {
   "cell_type": "code",
   "execution_count": 24,
   "id": "756cc248-a230-4232-9abe-18c9e613d5ca",
   "metadata": {},
   "outputs": [
    {
     "data": {
      "text/plain": [
       "6"
      ]
     },
     "execution_count": 24,
     "metadata": {},
     "output_type": "execute_result"
    }
   ],
   "source": [
    "Prod(3,2)"
   ]
  },
  {
   "cell_type": "markdown",
   "id": "a61411ed-b511-4eec-8b75-23d4946e307a",
   "metadata": {},
   "source": [
    "##### Giving the default values to overcome this problem of missing values"
   ]
  },
  {
   "cell_type": "code",
   "execution_count": 27,
   "id": "60eaf637-efca-44cd-875a-d8bbf04cf0d6",
   "metadata": {},
   "outputs": [],
   "source": [
    "def calProd(a = 1, b = 1):\n",
    "    return a*b"
   ]
  },
  {
   "cell_type": "code",
   "execution_count": 28,
   "id": "83c4afeb-5829-4a6f-831c-caa7693ae1f6",
   "metadata": {},
   "outputs": [
    {
     "data": {
      "text/plain": [
       "3"
      ]
     },
     "execution_count": 28,
     "metadata": {},
     "output_type": "execute_result"
    }
   ],
   "source": [
    "calProd(3)"
   ]
  },
  {
   "cell_type": "markdown",
   "id": "c16be6da-887b-48cb-b74d-27a39c5438b4",
   "metadata": {},
   "source": [
    "##### Practice Questions"
   ]
  },
  {
   "cell_type": "code",
   "execution_count": 29,
   "id": "44deec88-8fc8-4b04-8038-e7fc5ad9432b",
   "metadata": {},
   "outputs": [],
   "source": [
    "# WAF to print the length of a list.\n",
    "def Len(List):\n",
    "    for i in List:\n",
    "        print(i)\n",
    "        print(len(List))"
   ]
  },
  {
   "cell_type": "code",
   "execution_count": 31,
   "id": "9214af30-41ab-43ca-9fd6-9ed1f19cbf21",
   "metadata": {},
   "outputs": [
    {
     "name": "stdout",
     "output_type": "stream",
     "text": [
      "4\n"
     ]
    }
   ],
   "source": [
    "cities = ['lahore', 'islamabad', 'Karachi', 'Multan']\n",
    "def printL (list):\n",
    "    print(len(cities))\n",
    "printL(cities)"
   ]
  },
  {
   "cell_type": "code",
   "execution_count": 37,
   "id": "d03fdfaf-6a74-4154-b3b4-fa739019c11a",
   "metadata": {},
   "outputs": [
    {
     "name": "stdout",
     "output_type": "stream",
     "text": [
      "lahore islamabad Karachi Multan "
     ]
    }
   ],
   "source": [
    "print(cities[0], end = \" \")\n",
    "print(cities[1], end = \" \")\n",
    "print(cities[2], end = \" \")\n",
    "print(cities[3], end = \" \")"
   ]
  },
  {
   "cell_type": "code",
   "execution_count": 38,
   "id": "09db32ec-8296-4a19-b31c-6d54acef29dd",
   "metadata": {},
   "outputs": [],
   "source": [
    "def P(list):\n",
    "    for item in list:\n",
    "        print(item, end= \" \")"
   ]
  },
  {
   "cell_type": "code",
   "execution_count": 39,
   "id": "b3d3f8c7-218d-420b-a266-f24f20171f81",
   "metadata": {},
   "outputs": [
    {
     "name": "stdout",
     "output_type": "stream",
     "text": [
      "lahore islamabad Karachi Multan "
     ]
    }
   ],
   "source": [
    "P(cities)"
   ]
  },
  {
   "cell_type": "code",
   "execution_count": 40,
   "id": "cba1a38f-4840-4f61-8c64-0fe5b3da3108",
   "metadata": {},
   "outputs": [
    {
     "ename": "_IncompleteInputError",
     "evalue": "incomplete input (2490119957.py, line 2)",
     "output_type": "error",
     "traceback": [
      "\u001b[1;36m  Cell \u001b[1;32mIn[40], line 2\u001b[1;36m\u001b[0m\n\u001b[1;33m    \u001b[0m\n\u001b[1;37m    ^\u001b[0m\n\u001b[1;31m_IncompleteInputError\u001b[0m\u001b[1;31m:\u001b[0m incomplete input\n"
     ]
    }
   ],
   "source": [
    "def Fact(num):\n",
    "    "
   ]
  },
  {
   "cell_type": "code",
   "execution_count": null,
   "id": "084fcc9d-df2d-415a-a4c8-755fc9ef49f9",
   "metadata": {},
   "outputs": [
    {
     "name": "stdin",
     "output_type": "stream",
     "text": [
      "Enter a number 4\n"
     ]
    }
   ],
   "source": [
    "n = 0\n",
    "num = int(input(\"Enter a number\"))\n",
    "while n <= num:\n",
    "    num = num*(num-n)\n",
    "    n+=1"
   ]
  },
  {
   "cell_type": "code",
   "execution_count": 1,
   "id": "02e20de9-c752-4046-a82c-b08d9590806f",
   "metadata": {},
   "outputs": [
    {
     "name": "stdout",
     "output_type": "stream",
     "text": [
      "0\n",
      "1\n",
      "2\n",
      "3\n",
      "4\n",
      "5\n"
     ]
    }
   ],
   "source": [
    "n = 0\n",
    "while n <= 5:\n",
    "    print(n)\n",
    "    n+=1"
   ]
  },
  {
   "cell_type": "code",
   "execution_count": 12,
   "id": "67565dc2-39a4-427d-b3ce-3ca9899a5a52",
   "metadata": {},
   "outputs": [
    {
     "ename": "SyntaxError",
     "evalue": "invalid syntax (4274463263.py, line 3)",
     "output_type": "error",
     "traceback": [
      "\u001b[1;36m  Cell \u001b[1;32mIn[12], line 3\u001b[1;36m\u001b[0m\n\u001b[1;33m    num = n* (n+=1)\u001b[0m\n\u001b[1;37m               ^\u001b[0m\n\u001b[1;31mSyntaxError\u001b[0m\u001b[1;31m:\u001b[0m invalid syntax\n"
     ]
    }
   ],
   "source": [
    "n = 1\n",
    "while n <= 5:\n",
    "    num = n* (n+=1)\n",
    "    print(n, n * n)\n",
    "    n = n+1"
   ]
  },
  {
   "cell_type": "code",
   "execution_count": 13,
   "id": "a38a7935-c7b0-46d6-a940-ec72a40bb052",
   "metadata": {},
   "outputs": [
    {
     "name": "stdout",
     "output_type": "stream",
     "text": [
      "120\n"
     ]
    }
   ],
   "source": [
    "n = 5 \n",
    "fact = 1\n",
    "for i in range(1, n+1):\n",
    "    fact *= i\n",
    "print(fact)\n",
    "    "
   ]
  },
  {
   "cell_type": "code",
   "execution_count": 14,
   "id": "8c302497-ff73-4827-b058-b350c134e752",
   "metadata": {},
   "outputs": [],
   "source": [
    "def fact (a):\n",
    "    Fact = 1\n",
    "    for i in range(1, a+1):\n",
    "        Fact *= i\n",
    "    print(Fact)"
   ]
  },
  {
   "cell_type": "code",
   "execution_count": 15,
   "id": "a6993fd1-a9b9-45ca-9843-e49baf8bbbba",
   "metadata": {},
   "outputs": [
    {
     "name": "stdout",
     "output_type": "stream",
     "text": [
      "6\n"
     ]
    }
   ],
   "source": [
    "fact(3)"
   ]
  },
  {
   "cell_type": "code",
   "execution_count": 16,
   "id": "b9228bdb-11b9-4082-8227-18587efba20b",
   "metadata": {},
   "outputs": [
    {
     "name": "stdout",
     "output_type": "stream",
     "text": [
      "120\n"
     ]
    }
   ],
   "source": [
    "fact(5)"
   ]
  },
  {
   "cell_type": "code",
   "execution_count": 17,
   "id": "74778fbc-b5f4-4a80-a896-394c39b1ebff",
   "metadata": {},
   "outputs": [],
   "source": [
    "def Inr(dollar):\n",
    "    Inr = dollar*382\n",
    "    return(Inr)\n",
    "    "
   ]
  },
  {
   "cell_type": "code",
   "execution_count": 18,
   "id": "ffeb09a6-1379-47de-ac4c-93d01d58d0ca",
   "metadata": {},
   "outputs": [
    {
     "data": {
      "text/plain": [
       "12224"
      ]
     },
     "execution_count": 18,
     "metadata": {},
     "output_type": "execute_result"
    }
   ],
   "source": [
    "Inr(32)"
   ]
  },
  {
   "cell_type": "code",
   "execution_count": 19,
   "id": "dd0a7194-252a-420b-bdd8-868d73121e0c",
   "metadata": {},
   "outputs": [],
   "source": [
    "def converter(usd_value):\n",
    "    Inr_Value = usd_value*83\n",
    "    print(usd_value, \"USD=\", Inr_Value, \"INR\")"
   ]
  },
  {
   "cell_type": "code",
   "execution_count": 20,
   "id": "38945d53-f08d-4d6f-bec7-d4631bb68544",
   "metadata": {},
   "outputs": [
    {
     "name": "stdout",
     "output_type": "stream",
     "text": [
      "4 USD= 332 INR\n"
     ]
    }
   ],
   "source": [
    "converter(4)"
   ]
  },
  {
   "cell_type": "code",
   "execution_count": 21,
   "id": "4fed05ce-3993-4eeb-9377-f23c4ca1131a",
   "metadata": {},
   "outputs": [],
   "source": [
    "def Fun():\n",
    "    num = int(input(\"Enter a number\"))\n",
    "    if num % 2 == 0:\n",
    "        print(\"Even\")\n",
    "    else:\n",
    "        print(\"Odd\")"
   ]
  },
  {
   "cell_type": "code",
   "execution_count": 22,
   "id": "27e4bbb6-9861-439e-ba90-76f01fe9a706",
   "metadata": {},
   "outputs": [
    {
     "name": "stdin",
     "output_type": "stream",
     "text": [
      "Enter a number 44\n"
     ]
    },
    {
     "name": "stdout",
     "output_type": "stream",
     "text": [
      "Even\n"
     ]
    }
   ],
   "source": [
    "Fun()"
   ]
  },
  {
   "cell_type": "code",
   "execution_count": 26,
   "id": "fde33055-29bf-4f2f-8b14-c53051dbd934",
   "metadata": {},
   "outputs": [
    {
     "name": "stdout",
     "output_type": "stream",
     "text": [
      "Welcome Awais\n"
     ]
    }
   ],
   "source": [
    "def Welcome(name):\n",
    "    print(\"Welcome\", name)\n",
    "Welcome('Awais')"
   ]
  },
  {
   "cell_type": "code",
   "execution_count": 27,
   "id": "47245acb-aade-43e6-8b63-0df9794e535e",
   "metadata": {},
   "outputs": [
    {
     "name": "stdout",
     "output_type": "stream",
     "text": [
      "25\n"
     ]
    }
   ],
   "source": [
    "def Square(n):\n",
    "    print(n*n)\n",
    "Square(5)"
   ]
  },
  {
   "cell_type": "code",
   "execution_count": 28,
   "id": "4f3a561a-b92d-49c2-910a-06b83c2df284",
   "metadata": {},
   "outputs": [],
   "source": [
    "def max_of_two (a, b):\n",
    "    if a>b:\n",
    "        print(a)\n",
    "    else: \n",
    "        print(b)"
   ]
  },
  {
   "cell_type": "code",
   "execution_count": 30,
   "id": "ecf97e28-91fc-42b8-a38c-5ff12264e9f3",
   "metadata": {},
   "outputs": [
    {
     "name": "stdout",
     "output_type": "stream",
     "text": [
      "233\n"
     ]
    }
   ],
   "source": [
    "max_of_two(43,233)"
   ]
  },
  {
   "cell_type": "code",
   "execution_count": 31,
   "id": "e3011901-ea92-49d0-8aa4-c795727bf381",
   "metadata": {},
   "outputs": [],
   "source": [
    "def grade(score):\n",
    "    if score >= 90:\n",
    "        print(\"A\")\n",
    "    elif score >= 75:\n",
    "        print(\"B\")\n",
    "    elif score >= 60:\n",
    "        print(\"C\")\n",
    "    else:\n",
    "        print(\"FAIL\")"
   ]
  },
  {
   "cell_type": "code",
   "execution_count": 33,
   "id": "50671e88-3e44-463b-80da-d204194f1d3d",
   "metadata": {},
   "outputs": [
    {
     "name": "stdout",
     "output_type": "stream",
     "text": [
      "B\n"
     ]
    }
   ],
   "source": [
    "grade(80)"
   ]
  },
  {
   "cell_type": "code",
   "execution_count": 34,
   "id": "ec9c022e-1f29-4de5-9e11-673c6c07fe8e",
   "metadata": {},
   "outputs": [],
   "source": [
    "def is_vowel(ch):\n",
    "    ch = ['a', 'e', 'i', 'o', 'u']\n",
    "    if ch == ch[0:]:\n",
    "        print(\"vowel\")\n",
    "    else:\n",
    "        print(\"Consonent\")\n"
   ]
  },
  {
   "cell_type": "code",
   "execution_count": 37,
   "id": "8eb4a286-57b5-47a0-b67d-804ca5809a96",
   "metadata": {},
   "outputs": [
    {
     "name": "stdout",
     "output_type": "stream",
     "text": [
      "vowel\n"
     ]
    }
   ],
   "source": [
    "is_vowel('N')"
   ]
  },
  {
   "cell_type": "markdown",
   "id": "42964b19-e337-4992-ab24-6ea5d23e1e28",
   "metadata": {},
   "source": [
    "#### Recursion\n",
    "**When a function calls itself repeatedly**"
   ]
  },
  {
   "cell_type": "code",
   "execution_count": 38,
   "id": "71ad1b39-ff18-4bca-bd90-566df08dab54",
   "metadata": {},
   "outputs": [],
   "source": [
    "def Show(n):\n",
    "    if (n == 0):\n",
    "        return\n",
    "    print(n)\n",
    "    Show(n-1)"
   ]
  },
  {
   "cell_type": "code",
   "execution_count": 39,
   "id": "f41c1ae1-3ae1-477a-9142-1a1a9e653a22",
   "metadata": {},
   "outputs": [],
   "source": [
    "def show(n):\n",
    "    print(n)"
   ]
  },
  {
   "cell_type": "code",
   "execution_count": 40,
   "id": "2ecc7c61-bcd3-4f8d-9a7f-9eeccf52e11e",
   "metadata": {},
   "outputs": [
    {
     "name": "stdout",
     "output_type": "stream",
     "text": [
      "3\n"
     ]
    }
   ],
   "source": [
    "show(3)"
   ]
  },
  {
   "cell_type": "code",
   "execution_count": 41,
   "id": "f9b5491f-2982-4a35-b9df-679546e1ae7b",
   "metadata": {},
   "outputs": [
    {
     "name": "stdout",
     "output_type": "stream",
     "text": [
      "4\n",
      "3\n",
      "2\n",
      "1\n"
     ]
    }
   ],
   "source": [
    "Show(4)"
   ]
  },
  {
   "cell_type": "code",
   "execution_count": 47,
   "id": "9ed3b0b2-99dd-4589-8073-f045eaf463b6",
   "metadata": {},
   "outputs": [],
   "source": [
    "def Num(m):\n",
    "    if m == 0:\n",
    "        return\n",
    "    print(m)\n",
    "    Num(m-1)"
   ]
  },
  {
   "cell_type": "code",
   "execution_count": 48,
   "id": "f5341f53-e504-4c22-acbd-15fc14343961",
   "metadata": {},
   "outputs": [
    {
     "name": "stdout",
     "output_type": "stream",
     "text": [
      "10\n",
      "9\n",
      "8\n",
      "7\n",
      "6\n",
      "5\n",
      "4\n",
      "3\n",
      "2\n",
      "1\n"
     ]
    }
   ],
   "source": [
    "Num(10)"
   ]
  },
  {
   "cell_type": "code",
   "execution_count": 51,
   "id": "42ce8baf-8ead-44e6-b260-a4aa5b49e8bf",
   "metadata": {},
   "outputs": [],
   "source": [
    "def num (a):\n",
    "    if (a == 0): # This is called base case\n",
    "        return\n",
    "    print(a)\n",
    "    num(a-1)\n",
    "    print(\"END\")"
   ]
  },
  {
   "cell_type": "code",
   "execution_count": 52,
   "id": "cab2e800-b501-4636-badf-2db2f61e2192",
   "metadata": {},
   "outputs": [
    {
     "name": "stdout",
     "output_type": "stream",
     "text": [
      "3\n",
      "2\n",
      "1\n",
      "END\n",
      "END\n",
      "END\n"
     ]
    }
   ],
   "source": [
    "num(3)"
   ]
  },
  {
   "cell_type": "code",
   "execution_count": null,
   "id": "a0617c0f-9324-41df-bac8-46cc7b639a93",
   "metadata": {},
   "outputs": [],
   "source": [
    "# Call stack (stack of books) call of functions stack"
   ]
  },
  {
   "cell_type": "code",
   "execution_count": 53,
   "id": "5abbd829-37e0-4dfe-8e52-3ef125cbff16",
   "metadata": {},
   "outputs": [],
   "source": [
    "def fact(n):\n",
    "    if (n==0 or n==1):\n",
    "        return 1\n",
    "    else:\n",
    "        return n*fact(n-1)"
   ]
  },
  {
   "cell_type": "code",
   "execution_count": 54,
   "id": "7ab32da0-6bac-4eb0-9219-fcf266b1fbfc",
   "metadata": {},
   "outputs": [
    {
     "data": {
      "text/plain": [
       "24"
      ]
     },
     "execution_count": 54,
     "metadata": {},
     "output_type": "execute_result"
    }
   ],
   "source": [
    "fact(4)"
   ]
  },
  {
   "cell_type": "code",
   "execution_count": 59,
   "id": "70f1262b-57df-4292-b8da-5363299035a3",
   "metadata": {},
   "outputs": [],
   "source": [
    "def calc_sum(n):\n",
    "    if (n==0):\n",
    "        return\n",
    "    print(n)\n",
    "    return calc_sum(n-1) + n"
   ]
  },
  {
   "cell_type": "code",
   "execution_count": 61,
   "id": "d84f3f07-533c-4b72-a9d7-fe1636c28b6f",
   "metadata": {},
   "outputs": [
    {
     "name": "stdout",
     "output_type": "stream",
     "text": [
      "4\n",
      "3\n",
      "2\n",
      "1\n"
     ]
    },
    {
     "ename": "TypeError",
     "evalue": "unsupported operand type(s) for +: 'NoneType' and 'int'",
     "output_type": "error",
     "traceback": [
      "\u001b[1;31m---------------------------------------------------------------------------\u001b[0m",
      "\u001b[1;31mTypeError\u001b[0m                                 Traceback (most recent call last)",
      "Cell \u001b[1;32mIn[61], line 1\u001b[0m\n\u001b[1;32m----> 1\u001b[0m Sum \u001b[38;5;241m=\u001b[39m calc_sum(\u001b[38;5;241m4\u001b[39m)\n\u001b[0;32m      2\u001b[0m \u001b[38;5;28mprint\u001b[39m(Sum)\n",
      "Cell \u001b[1;32mIn[59], line 5\u001b[0m, in \u001b[0;36mcalc_sum\u001b[1;34m(n)\u001b[0m\n\u001b[0;32m      3\u001b[0m     \u001b[38;5;28;01mreturn\u001b[39;00m\n\u001b[0;32m      4\u001b[0m \u001b[38;5;28mprint\u001b[39m(n)\n\u001b[1;32m----> 5\u001b[0m \u001b[38;5;28;01mreturn\u001b[39;00m calc_sum(n\u001b[38;5;241m-\u001b[39m\u001b[38;5;241m1\u001b[39m) \u001b[38;5;241m+\u001b[39m n\n",
      "Cell \u001b[1;32mIn[59], line 5\u001b[0m, in \u001b[0;36mcalc_sum\u001b[1;34m(n)\u001b[0m\n\u001b[0;32m      3\u001b[0m     \u001b[38;5;28;01mreturn\u001b[39;00m\n\u001b[0;32m      4\u001b[0m \u001b[38;5;28mprint\u001b[39m(n)\n\u001b[1;32m----> 5\u001b[0m \u001b[38;5;28;01mreturn\u001b[39;00m calc_sum(n\u001b[38;5;241m-\u001b[39m\u001b[38;5;241m1\u001b[39m) \u001b[38;5;241m+\u001b[39m n\n",
      "    \u001b[1;31m[... skipping similar frames: calc_sum at line 5 (1 times)]\u001b[0m\n",
      "Cell \u001b[1;32mIn[59], line 5\u001b[0m, in \u001b[0;36mcalc_sum\u001b[1;34m(n)\u001b[0m\n\u001b[0;32m      3\u001b[0m     \u001b[38;5;28;01mreturn\u001b[39;00m\n\u001b[0;32m      4\u001b[0m \u001b[38;5;28mprint\u001b[39m(n)\n\u001b[1;32m----> 5\u001b[0m \u001b[38;5;28;01mreturn\u001b[39;00m calc_sum(n\u001b[38;5;241m-\u001b[39m\u001b[38;5;241m1\u001b[39m) \u001b[38;5;241m+\u001b[39m n\n",
      "\u001b[1;31mTypeError\u001b[0m: unsupported operand type(s) for +: 'NoneType' and 'int'"
     ]
    }
   ],
   "source": [
    "Sum = calc_sum(4)\n",
    "print(Sum)"
   ]
  },
  {
   "cell_type": "code",
   "execution_count": null,
   "id": "ac6cf870-5a33-4337-8b65-374f65e4ce7f",
   "metadata": {},
   "outputs": [],
   "source": [
    "L "
   ]
  }
 ],
 "metadata": {
  "kernelspec": {
   "display_name": "Python 3 (ipykernel)",
   "language": "python",
   "name": "python3"
  },
  "language_info": {
   "codemirror_mode": {
    "name": "ipython",
    "version": 3
   },
   "file_extension": ".py",
   "mimetype": "text/x-python",
   "name": "python",
   "nbconvert_exporter": "python",
   "pygments_lexer": "ipython3",
   "version": "3.13.5"
  }
 },
 "nbformat": 4,
 "nbformat_minor": 5
}
